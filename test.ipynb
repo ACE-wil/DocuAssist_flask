{
 "cells": [
  {
   "cell_type": "code",
   "execution_count": 1,
   "metadata": {},
   "outputs": [
    {
     "name": "stdout",
     "output_type": "stream",
     "text": [
      "项目根目录: D:\\2024秋招-大四上\\毕业论文\\DocuAssist_flask\n",
      "数据库路径: D:\\2024秋招-大四上\\毕业论文\\DocuAssist_flask\\instance\\site.db\n",
      "上传目录: D:\\2024秋招-大四上\\毕业论文\\DocuAssist_flask\\uploads\n"
     ]
    }
   ],
   "source": [
    "import os\n",
    "from pathlib import Path\n",
    "\n",
    "# 获取项目根目录（DocuAssist_flask文件夹）\n",
    "PROJECT_ROOT = Path('.').parent.absolute()\n",
    "# 或者在notebook中使用\n",
    "# PROJECT_ROOT = Path().absolute()\n",
    "\n",
    "# 配置各种路径\n",
    "INSTANCE_DIR = PROJECT_ROOT / 'instance'\n",
    "UPLOAD_DIR = PROJECT_ROOT / 'uploads'\n",
    "DB_PATH = INSTANCE_DIR / 'site.db'\n",
    "\n",
    "# 创建必要的目录\n",
    "INSTANCE_DIR.mkdir(exist_ok=True)\n",
    "UPLOAD_DIR.mkdir(exist_ok=True)\n",
    "\n",
    "# 打印确认\n",
    "print(f\"项目根目录: {PROJECT_ROOT}\")\n",
    "print(f\"数据库路径: {DB_PATH}\")\n",
    "print(f\"上传目录: {UPLOAD_DIR}\")"
   ]
  },
  {
   "cell_type": "code",
   "execution_count": null,
   "metadata": {},
   "outputs": [],
   "source": []
  }
 ],
 "metadata": {
  "kernelspec": {
   "display_name": "Python 3 (ipykernel)",
   "language": "python",
   "name": "python3"
  },
  "language_info": {
   "codemirror_mode": {
    "name": "ipython",
    "version": 3
   },
   "file_extension": ".py",
   "mimetype": "text/x-python",
   "name": "python",
   "nbconvert_exporter": "python",
   "pygments_lexer": "ipython3",
   "version": "3.9.20"
  }
 },
 "nbformat": 4,
 "nbformat_minor": 2
}
