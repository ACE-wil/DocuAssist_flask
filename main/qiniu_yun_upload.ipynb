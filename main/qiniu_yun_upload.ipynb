{
 "cells": [
  {
   "cell_type": "code",
   "execution_count": null,
   "metadata": {},
   "outputs": [],
   "source": []
  },
  {
   "cell_type": "code",
   "execution_count": 19,
   "metadata": {},
   "outputs": [
    {
     "name": "stdout",
     "output_type": "stream",
     "text": [
      "Upload Success!\n",
      "File Key: FjV7HSXXJv5Za-_aOJq0gMKsYfcq\n",
      "Hash: FjV7HSXXJv5Za-_aOJq0gMKsYfcq\n",
      "Public Link: http://docu-assist.qiniudn.com/FjV7HSXXJv5Za-_aOJq0gMKsYfcq\n"
     ]
    }
   ],
   "source": [
    "import os\n",
    "from qiniu import Auth, put_file, etag\n",
    "\n",
    "# 需要填写你的账号的Access Key和Secret Key\n",
    "AK_key = 'Ydj8weHDUaZqIWdrG49mLSPdZnpRtrbSR-oEYlDF'\n",
    "SK_key = 'MgYH-gMbrHdIbCgdLc-PFg9dEL_tOI5-LdpSg3tB'\n",
    "\n",
    "# 这是你的七牛空间名\n",
    "bucket_name = 'docu-assist'\n",
    "\n",
    "# 构建鉴权对象\n",
    "q = Auth('Ydj8weHDUaZqIWdrG49mLSPdZnpRtrbSR-oEYlDF', 'MgYH-gMbrHdIbCgdLc-PFg9dEL_tOI5-LdpSg3tB')\n",
    "\n",
    "# 生成上传Token，设定过期时间为1小时，即3600秒\n",
    "token = q.upload_token(bucket_name, key=None, expires=3600)\n",
    "\n",
    "# 要上传文件的本地路径\n",
    "localfile = './words.xlsx'  # 替换为你的文件路径\n",
    "\n",
    "# 上传文件\n",
    "try:\n",
    "    # 调用put_file方法，传入Token，要上传的文件路径，上传到七牛云的文件名\n",
    "    ret, info = put_file(token, key=None, file_path=localfile)\n",
    "    print(\"Upload Success!\")\n",
    "    print(\"File Key: \" + ret['key'])\n",
    "    print(\"Hash: \" + ret['hash'])\n",
    "except Exception as e:\n",
    "    print(\"Failed to upload file!\")\n",
    "    print(e)\n",
    "\n",
    "# 获取外链\n",
    "# 假设你的文件是公开的，可以直接通过以下URL访问\n",
    "file_key = ret['key']   # 上传后七牛云返回的文件名\n",
    "base_url = 'http://' + bucket_name + '.qiniudn.com'  # 七牛云的默认域名，根据实际情况替换\n",
    "link = base_url + '/' + file_key\n",
    "\n",
    "print(\"Public Link: \" + link)"
   ]
  },
  {
   "cell_type": "code",
   "execution_count": 5,
   "metadata": {},
   "outputs": [
    {
     "name": "stdout",
     "output_type": "stream",
     "text": [
      "Upload Success!\n",
      "File Key: video/words.xlsx\n",
      "Hash: FjV7HSXXJv5Za-_aOJq0gMKsYfcq\n",
      "Public Link: http://snjxzerf4.hn-bkt.clouddn.com/video/words.xlsx\n"
     ]
    }
   ],
   "source": [
    "import os\n",
    "from qiniu import Auth, put_file, etag  # 导入七牛SDK所需的模块\n",
    "\n",
    "# 需要填写你的账号的Access Key和Secret Key\n",
    "AK_key = 'Ydj8weHDUaZqIWdrG49mLSPdZnpRtrbSR-oEYlDF'  # Access Key\n",
    "SK_key = 'MgYH-gMbrHdIbCgdLc-PFg9dEL_tOI5-LdpSg3tB'  # Secret Key\n",
    "\n",
    "# 这是你的七牛空间名\n",
    "bucket_name = 'docu-assist'  # 存储空间名称\n",
    "\n",
    "# 构建鉴权对象\n",
    "q = Auth(AK_key, SK_key)  # 使用Access Key和Secret Key创建Auth对象\n",
    "\n",
    "# 生成上传Token，设定过期时间为1小时，即3600秒\n",
    "token = q.upload_token(bucket_name, key=None)  # 生成上传凭证\n",
    "\n",
    "# 要上传文件的本地路径\n",
    "localfile = './words.xlsx'  # 本地文件路径\n",
    "\n",
    "file_name = os.path.basename(localfile)\n",
    "\n",
    "# 上传文件\n",
    "try:\n",
    "    # 调用put_file方法，传入Token，要上传的文件路径，上传到七牛云的文件名\n",
    "    ret, info = put_file(token, key=f'video/{file_name}', file_path=localfile)\n",
    "    print(\"Upload Success!\")  # 上传成功提示\n",
    "    print(\"File Key: \" + ret['key'])  # 打印文件在七牛云的key\n",
    "    print(\"Hash: \" + ret['hash'])  # 打印文件的hash值\n",
    "except Exception as e:\n",
    "    print(\"Failed to upload file!\")  # 上传失败提示\n",
    "    print(e)  # 打印异常信息\n",
    "\n",
    "# 获取外链\n",
    "# 假设你的文件是公开的，可以直接通过以下URL访问\n",
    "# 注意：下面的代码应该放在try块内，仅在上传成功时执行\n",
    "if 'ret' in locals() and ret:  # 确保上传成功并且ret变量存在\n",
    "    file_key = ret['key']  # 上传后七牛云返回的文件名\n",
    "    base_url = 'http://snjxzerf4.hn-bkt.clouddn.com/'  # 七牛云的默认域名\n",
    "    link = base_url + file_key  # 构造完整的文件外链\n",
    "    print(\"Public Link: \" + link)  # 打印文件的公开外链"
   ]
  },
  {
   "cell_type": "code",
   "execution_count": null,
   "metadata": {},
   "outputs": [],
   "source": []
  }
 ],
 "metadata": {
  "kernelspec": {
   "display_name": "Python 3",
   "language": "python",
   "name": "python3"
  },
  "language_info": {
   "codemirror_mode": {
    "name": "ipython",
    "version": 3
   },
   "file_extension": ".py",
   "mimetype": "text/x-python",
   "name": "python",
   "nbconvert_exporter": "python",
   "pygments_lexer": "ipython3",
   "version": "3.9.20"
  }
 },
 "nbformat": 4,
 "nbformat_minor": 2
}
