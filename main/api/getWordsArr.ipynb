{
 "cells": [
  {
   "cell_type": "code",
   "execution_count": 54,
   "metadata": {},
   "outputs": [],
   "source": [
    "from pathlib import Path\n",
    "from openai import OpenAI\n",
    "from dotenv import load_dotenv\n",
    "import os\n",
    "load_dotenv()\n",
    "client = OpenAI(\n",
    "    api_key='sk-LjTqTa7tIVwLQInDmRILGchIP9X1vXG3mARWqFMbKxNRKgVn', # 在这里将 MOONSHOT_API_KEY 替换为你从 Kimi 开放平台申请的 API Key\n",
    "    base_url=\"https://api.moonshot.cn/v1\",\n",
    ")\n",
    "file_object = client.files.create(file=Path(\"D:/2024秋招-大四上/毕业论文/DocuAssist_flask/static/doc/word.docx\"), purpose=\"file-extract\")\n",
    "file_content = client.files.content(file_id=file_object.id).text"
   ]
  },
  {
   "cell_type": "code",
   "execution_count": 55,
   "metadata": {},
   "outputs": [
    {
     "name": "stdout",
     "output_type": "stream",
     "text": [
      "{\n",
      "  \"array1\": [\n",
      "    \"a\",\n",
      "    \"abandon\",\n",
      "    \"ability\",\n",
      "    \"able\",\n",
      "    \"abnormal\",\n",
      "    \"aboard\",\n",
      "    \"about\",\n",
      "    \"above\",\n",
      "    \"abroad\",\n",
      "    \"absence\",\n",
      "    \"absent\",\n",
      "    \"absolute\",\n",
      "    \"absolutely\",\n",
      "    \"absorb\"\n",
      "  ],\n",
      "  \"array2\": [\n",
      "    \"abstract\",\n",
      "    \"abundant\",\n",
      "    \"abuse\",\n",
      "    \"academic\",\n",
      "    \"academy\",\n",
      "    \"accelerate\",\n",
      "    \"acceleration\",\n",
      "    \"accent\",\n",
      "    \"accept\",\n",
      "    \"acceptable\",\n",
      "    \"acceptance\",\n",
      "    \"access\",\n",
      "    \"accessory\",\n",
      "    \"accident\",\n",
      "    \"accidental\"\n",
      "  ],\n",
      "  \"array3\": [\n",
      "    \"accommodate\",\n",
      "    \"accommodation\",\n",
      "    \"accompany\",\n",
      "    \"accomplish\",\n",
      "    \"accord\",\n",
      "    \"accordance\",\n",
      "    \"accordingly\",\n",
      "    \"account\",\n",
      "    \"accumulate\",\n",
      "    \"accuracy\",\n",
      "    \"accurate\",\n",
      "    \"accuse\",\n",
      "    \"affection\",\n",
      "    \"afford\"\n",
      "  ],\n",
      "  \"array4\": [\n",
      "    \"afraid\",\n",
      "    \"Africa\",\n",
      "    \"African\",\n",
      "    \"after\",\n",
      "    \"afternoon\",\n",
      "    \"afterward\",\n",
      "    \"again\",\n",
      "    \"against\",\n",
      "    \"age\",\n",
      "    \"agency\",\n",
      "    \"agent\",\n",
      "    \"aggressive\",\n",
      "    \"ago\",\n",
      "    \"agony\"\n",
      "  ]\n",
      "}\n"
     ]
    }
   ],
   "source": [
    "# 把文件内容通过系统提示词 system prompt 放进请求中\n",
    "messages = [\n",
    "    {\n",
    "        \"role\": \"system\",\n",
    "        \"content\": \"你是 Kimi，由 Moonshot AI 提供的人工智能助手，你更擅长中文和英文的对话。你会为用户提供安全，有帮助，准确的回答。同时，你会拒绝一切涉及恐怖主义，种族歧视，黄色暴力等问题的回答。Moonshot AI 为专有名词，不可翻译成其他语言。\",\n",
    "    },\n",
    "    {\n",
    "        \"role\": \"system\",\n",
    "        \"content\": file_content, # <-- 这里，我们将抽取后的文件内容（注意是文件内容，而不是文件 ID）放置在请求中\n",
    "    },\n",
    "    {\"role\": \"user\", \"content\": \"\"\"提取文件中的前60个单词（只要英文，无需音标），返回4个单词数组，每个数组包含15个单词,返回json给我，格式如下：array1:1. afraid 2. able 3. about 4. above 5. absence 6. absolute 7. abstract 8. absolute 9. absolute 10. absolute 11. absolute 12. absolute 13. absolute 14. absolute 15. absolute。 不要回复多余内容，我要对单词进行切分\"\"\"},\n",
    "]\n",
    " \n",
    "# 然后调用 chat-completion, 获取 Kimi 的回答\n",
    "completion = client.chat.completions.create(\n",
    "  model=\"moonshot-v1-8k\",\n",
    "  messages=messages,\n",
    "  temperature=0.3,\n",
    ")\n",
    " \n",
    "print(completion.choices[0].message.content)"
   ]
  },
  {
   "cell_type": "code",
   "execution_count": 56,
   "metadata": {},
   "outputs": [
    {
     "name": "stdout",
     "output_type": "stream",
     "text": [
      "{\n",
      "  \"array1\": [\n",
      "    \"a\",\n",
      "    \"abandon\",\n",
      "    \"ability\",\n",
      "    \"able\",\n",
      "    \"abnormal\",\n",
      "    \"aboard\",\n",
      "    \"about\",\n",
      "    \"above\",\n",
      "    \"abroad\",\n",
      "    \"absence\",\n",
      "    \"absent\",\n",
      "    \"absolute\",\n",
      "    \"absolutely\",\n",
      "    \"absorb\"\n",
      "  ],\n",
      "  \"array2\": [\n",
      "    \"abstract\",\n",
      "    \"abundant\",\n",
      "    \"abuse\",\n",
      "    \"academic\",\n",
      "    \"academy\",\n",
      "    \"accelerate\",\n",
      "    \"acceleration\",\n",
      "    \"accent\",\n",
      "    \"accept\",\n",
      "    \"acceptable\",\n",
      "    \"acceptance\",\n",
      "    \"access\",\n",
      "    \"accessory\",\n",
      "    \"accident\",\n",
      "    \"accidental\"\n",
      "  ],\n",
      "  \"array3\": [\n",
      "    \"accommodate\",\n",
      "    \"accommodation\",\n",
      "    \"accompany\",\n",
      "    \"accomplish\",\n",
      "    \"accord\",\n",
      "    \"accordance\",\n",
      "    \"accordingly\",\n",
      "    \"account\",\n",
      "    \"accumulate\",\n",
      "    \"accuracy\",\n",
      "    \"accurate\",\n",
      "    \"accuse\",\n",
      "    \"affection\",\n",
      "    \"afford\"\n",
      "  ],\n",
      "  \"array4\": [\n",
      "    \"afraid\",\n",
      "    \"Africa\",\n",
      "    \"African\",\n",
      "    \"after\",\n",
      "    \"afternoon\",\n",
      "    \"afterward\",\n",
      "    \"again\",\n",
      "    \"against\",\n",
      "    \"age\",\n",
      "    \"agency\",\n",
      "    \"agent\",\n",
      "    \"aggressive\",\n",
      "    \"ago\",\n",
      "    \"agony\"\n",
      "  ]\n",
      "}\n"
     ]
    }
   ],
   "source": [
    "word_Array = completion.choices[0].message.content\n",
    "print(word_Array)"
   ]
  },
  {
   "cell_type": "code",
   "execution_count": 57,
   "metadata": {},
   "outputs": [
    {
     "name": "stdout",
     "output_type": "stream",
     "text": [
      "{'array1': ['a', 'abandon', 'ability', 'able', 'abnormal', 'aboard', 'about', 'above', 'abroad', 'absence', 'absent', 'absolute', 'absolutely', 'absorb'], 'array2': ['abstract', 'abundant', 'abuse', 'academic', 'academy', 'accelerate', 'acceleration', 'accent', 'accept', 'acceptable', 'acceptance', 'access', 'accessory', 'accident', 'accidental'], 'array3': ['accommodate', 'accommodation', 'accompany', 'accomplish', 'accord', 'accordance', 'accordingly', 'account', 'accumulate', 'accuracy', 'accurate', 'accuse', 'affection', 'afford'], 'array4': ['afraid', 'Africa', 'African', 'after', 'afternoon', 'afterward', 'again', 'against', 'age', 'agency', 'agent', 'aggressive', 'ago', 'agony']}\n"
     ]
    },
    {
     "ename": "TypeError",
     "evalue": "'int' object is not callable",
     "output_type": "error",
     "traceback": [
      "\u001b[1;31m---------------------------------------------------------------------------\u001b[0m",
      "\u001b[1;31mTypeError\u001b[0m                                 Traceback (most recent call last)",
      "Cell \u001b[1;32mIn[57], line 4\u001b[0m\n\u001b[0;32m      2\u001b[0m word_Array_json \u001b[38;5;241m=\u001b[39m json\u001b[38;5;241m.\u001b[39mloads(word_Array)\n\u001b[0;32m      3\u001b[0m \u001b[38;5;28mprint\u001b[39m(word_Array_json)\n\u001b[1;32m----> 4\u001b[0m \u001b[38;5;28mprint\u001b[39m(\u001b[38;5;28;43mlen\u001b[39;49m\u001b[43m(\u001b[49m\u001b[43mword_Array_json\u001b[49m\u001b[43m)\u001b[49m)\n\u001b[0;32m      5\u001b[0m \u001b[38;5;28mlen\u001b[39m \u001b[38;5;241m=\u001b[39m \u001b[38;5;28mlen\u001b[39m(word_Array_json)\n",
      "\u001b[1;31mTypeError\u001b[0m: 'int' object is not callable"
     ]
    }
   ],
   "source": [
    "import json\n",
    "word_Array_json = json.loads(word_Array)\n",
    "print(word_Array_json)\n",
    "print(len(word_Array_json))\n",
    "len = len(word_Array_json)"
   ]
  },
  {
   "cell_type": "code",
   "execution_count": 50,
   "metadata": {},
   "outputs": [
    {
     "name": "stdout",
     "output_type": "stream",
     "text": [
      "[['aboard', 'about', 'above', 'abroad', 'absence', 'absent', 'absolute', 'absolutely', 'absorb', 'abstract', 'abundant', 'abuse', 'academic', 'academy', 'accelerate', 'acceleration'], ['accent', 'accept', 'acceptable', 'acceptance', 'access', 'accessory', 'accident', 'accidental', 'accommodate', 'accommodation', 'accompany', 'accomplish', 'accord', 'accordance', 'accordingly', 'account'], ['accumulate', 'accuracy', 'accurate', 'accuse', 'affection', 'afford', 'afraid', 'Africa', 'African', 'after', 'afternoon', 'afterward', 'again', 'against'], ['age', 'agency', 'agent', 'aggressive', 'ago', 'agony', 'agree', 'agreement', 'agriculture', 'ahead', 'aid', 'aim', 'air', 'aircraft', 'airline']]\n"
     ]
    }
   ],
   "source": [
    "word_all = []\n",
    "for i in range(len):\n",
    "    word_all.append(word_Array_json[f'array{i+1}'])\n",
    "print(word_all)\n",
    "\n"
   ]
  },
  {
   "cell_type": "code",
   "execution_count": null,
   "metadata": {},
   "outputs": [],
   "source": []
  }
 ],
 "metadata": {
  "kernelspec": {
   "display_name": "Python 3",
   "language": "python",
   "name": "python3"
  },
  "language_info": {
   "codemirror_mode": {
    "name": "ipython",
    "version": 3
   },
   "file_extension": ".py",
   "mimetype": "text/x-python",
   "name": "python",
   "nbconvert_exporter": "python",
   "pygments_lexer": "ipython3",
   "version": "3.9.20"
  }
 },
 "nbformat": 4,
 "nbformat_minor": 2
}
