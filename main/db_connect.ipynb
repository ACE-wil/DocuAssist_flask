{
 "cells": [
  {
   "cell_type": "code",
   "execution_count": 1,
   "metadata": {},
   "outputs": [
    {
     "name": "stdout",
     "output_type": "stream",
     "text": [
      "数据库文件的完整路径: D:\\2024秋招-大四上\\毕业论文\\Docu_Assist\\instance\\site.db\n"
     ]
    },
    {
     "ename": "OperationalError",
     "evalue": "unable to open database file",
     "output_type": "error",
     "traceback": [
      "\u001b[1;31m-----------------------------------------------------------------\u001b[0m",
      "\u001b[1;31mOperationalError\u001b[0m                Traceback (most recent call last)",
      "Cell \u001b[1;32mIn[1], line 21\u001b[0m\n\u001b[0;32m     18\u001b[0m \u001b[38;5;28;01mimport\u001b[39;00m \u001b[38;5;21;01msqlite3\u001b[39;00m\n\u001b[0;32m     20\u001b[0m \u001b[38;5;66;03m# 连接到数据库\u001b[39;00m\n\u001b[1;32m---> 21\u001b[0m conn \u001b[38;5;241m=\u001b[39m \u001b[43msqlite3\u001b[49m\u001b[38;5;241;43m.\u001b[39;49m\u001b[43mconnect\u001b[49m\u001b[43m(\u001b[49m\u001b[43mdb_path\u001b[49m\u001b[43m)\u001b[49m\n\u001b[0;32m     22\u001b[0m cursor \u001b[38;5;241m=\u001b[39m conn\u001b[38;5;241m.\u001b[39mcursor()\n\u001b[0;32m     23\u001b[0m \u001b[38;5;66;03m# 创建新表（修改表结构以存储文件路径）\u001b[39;00m\n",
      "\u001b[1;31mOperationalError\u001b[0m: unable to open database file"
     ]
    }
   ],
   "source": [
    "import os\n",
    "from flask import Flask, request\n",
    "from werkzeug.utils import secure_filename\n",
    "\n",
    "app = Flask(__name__)\n",
    "\n",
    "# 定义上传文件夹路径\n",
    "UPLOAD_FOLDER = os.path.join(app.root_path, 'uploads')\n",
    "if not os.path.exists(UPLOAD_FOLDER):\n",
    "    os.makedirs(UPLOAD_FOLDER)\n",
    "\n",
    "app.config['UPLOAD_FOLDER'] = UPLOAD_FOLDER\n",
    "\n",
    "# 获取 instance 文件夹中 site.db 的路径\n",
    "db_path = os.path.join(os.path.dirname(os.path.dirname(app.root_path)), 'instance', 'site.db')\n",
    "print(f\"数据库文件的完整路径: {db_path}\")\n",
    "\n",
    "import sqlite3\n",
    "\n",
    "# 连接到数据库\n",
    "conn = sqlite3.connect(db_path)\n",
    "cursor = conn.cursor()\n",
    "# 创建新表（修改表结构以存储文件路径）\n",
    "cursor.execute('''\n",
    "CREATE TABLE IF NOT EXISTS applications (\n",
    "    id INTEGER PRIMARY KEY AUTOINCREMENT,\n",
    "    app_name TEXT NOT NULL,\n",
    "    app_avatar_path TEXT,\n",
    "    creator_name TEXT NOT NULL,\n",
    "    creator_avatar_path TEXT,\n",
    "    app_description TEXT,\n",
    "    doc_file_path TEXT,\n",
    "    visit_count INTEGER DEFAULT 0,\n",
    "    comment_count INTEGER DEFAULT 0,\n",
    "    favorite_count INTEGER DEFAULT 0,\n",
    "    used_models TEXT\n",
    ")\n",
    "''')\n",
    "\n",
    "# 提交更改并关闭连接\n",
    "conn.commit()\n",
    "conn.close()\n",
    "\n",
    "print(\"表 'applications' 已成功创建。\")\n",
    "\n",
    "# 文件上传函数\n",
    "def allowed_file(filename):\n",
    "    ALLOWED_EXTENSIONS = {'txt', 'pdf', 'png', 'jpg', 'jpeg', 'gif', 'doc', 'docx'}\n",
    "    return '.' in filename and filename.rsplit('.', 1)[1].lower() in ALLOWED_EXTENSIONS\n",
    "\n",
    "@app.route('/upload', methods=['POST'])\n",
    "def upload_file():\n",
    "    if 'file' not in request.files:\n",
    "        return 'No file part', 400\n",
    "    file = request.files['file']\n",
    "    if file.filename == '':\n",
    "        return 'No selected file', 400\n",
    "    if file and allowed_file(file.filename):\n",
    "        filename = secure_filename(file.filename)\n",
    "        file_path = os.path.join(app.config['UPLOAD_FOLDER'], filename)\n",
    "        file.save(file_path)\n",
    "        return f'File uploaded successfully. Path: {file_path}', 200\n",
    "    return 'File type not allowed', 400\n",
    "\n",
    "# 验证表是否创建成功\n",
    "conn = sqlite3.connect(db_path)\n",
    "cursor = conn.cursor()\n",
    "\n",
    "# 查询所有表\n",
    "cursor.execute(\"SELECT name FROM sqlite_master WHERE type='table';\")\n",
    "tables = cursor.fetchall()\n",
    "print(\"数据库中的所有表:\")\n",
    "for table in tables:\n",
    "    print(table[0])\n",
    "\n",
    "conn.close()"
   ]
  },
  {
   "cell_type": "code",
   "execution_count": null,
   "metadata": {},
   "outputs": [],
   "source": []
  }
 ],
 "metadata": {
  "kernelspec": {
   "display_name": "Python 3 (ipykernel)",
   "language": "python",
   "name": "python3"
  },
  "language_info": {
   "codemirror_mode": {
    "name": "ipython",
    "version": 3
   },
   "file_extension": ".py",
   "mimetype": "text/x-python",
   "name": "python",
   "nbconvert_exporter": "python",
   "pygments_lexer": "ipython3",
   "version": "3.9.20"
  }
 },
 "nbformat": 4,
 "nbformat_minor": 2
}
