{
 "cells": [
  {
   "cell_type": "code",
   "execution_count": 11,
   "metadata": {},
   "outputs": [
    {
     "name": "stdout",
     "output_type": "stream",
     "text": [
      "数据库文件的完整路径: D:\\2024秋招-大四上\\毕业论文\\DocuAssist_flask\\main\\instance\\site.db\n"
     ]
    },
    {
     "ename": "OperationalError",
     "evalue": "unable to open database file",
     "output_type": "error",
     "traceback": [
      "\u001b[1;31m-----------------------------------------------------------------\u001b[0m",
      "\u001b[1;31mOperationalError\u001b[0m                Traceback (most recent call last)",
      "Cell \u001b[1;32mIn[11], line 19\u001b[0m\n\u001b[0;32m     16\u001b[0m \u001b[38;5;28mprint\u001b[39m(\u001b[38;5;124mf\u001b[39m\u001b[38;5;124m\"\u001b[39m\u001b[38;5;124m数据库文件的完整路径: \u001b[39m\u001b[38;5;132;01m{\u001b[39;00mdb_path\u001b[38;5;132;01m}\u001b[39;00m\u001b[38;5;124m\"\u001b[39m)\n\u001b[0;32m     18\u001b[0m \u001b[38;5;66;03m# 连接到数据库\u001b[39;00m\n\u001b[1;32m---> 19\u001b[0m conn \u001b[38;5;241m=\u001b[39m \u001b[43msqlite3\u001b[49m\u001b[38;5;241;43m.\u001b[39;49m\u001b[43mconnect\u001b[49m\u001b[43m(\u001b[49m\u001b[43mdb_path\u001b[49m\u001b[43m)\u001b[49m\n\u001b[0;32m     20\u001b[0m cursor \u001b[38;5;241m=\u001b[39m conn\u001b[38;5;241m.\u001b[39mcursor()\n\u001b[0;32m     22\u001b[0m \u001b[38;5;66;03m# 准备要插入的数据\u001b[39;00m\n",
      "\u001b[1;31mOperationalError\u001b[0m: unable to open database file"
     ]
    }
   ],
   "source": [
    "import os\n",
    "from flask import Flask\n",
    "import sqlite3\n",
    "\n",
    "app = Flask(__name__)\n",
    "\n",
    "# 定义上传文件夹路径\n",
    "UPLOAD_FOLDER = os.path.join(app.root_path, 'uploads')\n",
    "if not os.path.exists(UPLOAD_FOLDER):\n",
    "    os.makedirs(UPLOAD_FOLDER)\n",
    "\n",
    "app.config['UPLOAD_FOLDER'] = UPLOAD_FOLDER\n",
    "\n",
    "# 获取 instance 文件夹中 site.db 的路径\n",
    "db_path = 'D:\\\\2024秋招-大四上\\\\毕业论文\\\\DocuAssist_flask\\\\main\\\\instance\\\\site.db'\n",
    "print(f\"数据库文件的完整路径: {db_path}\")\n",
    "\n",
    "# 连接到数据库\n",
    "conn = sqlite3.connect(db_path)\n",
    "cursor = conn.cursor()\n",
    "\n",
    "# 准备要插入的数据\n",
    "app_name = \"测试应用\"\n",
    "app_description = \"这是一个测试应用的描述\"\n",
    "creator_name = \"测试创建者\"\n",
    "app_avatar_path = os.path.join(app.config['UPLOAD_FOLDER'], \"avatar.jpg\")\n",
    "doc_file_path = os.path.join(app.config['UPLOAD_FOLDER'], \"document.pdf\")\n",
    "visit_count = 0\n",
    "comment_count = 0\n",
    "favorite_count = 0\n",
    "used_models = \"GPT-3,BERT\"\n",
    "\n",
    "# 插入数据\n",
    "cursor.execute('''\n",
    "INSERT INTO applications (app_name, app_description, creator_name, app_avatar_path, doc_file_path, visit_count, comment_count, favorite_count, used_models)\n",
    "VALUES (?, ?, ?, ?, ?, ?, ?, ?, ?)\n",
    "''', (app_name, app_description, creator_name, app_avatar_path, doc_file_path, visit_count, comment_count, favorite_count, used_models))\n",
    "\n",
    "# 提交更改并关闭连接\n",
    "conn.commit()\n",
    "conn.close()\n",
    "\n",
    "print(\"数据已成功添加到数据库。\")\n",
    "\n",
    "# 验证数据是否已添加\n",
    "conn = sqlite3.connect(db_path)\n",
    "cursor = conn.cursor()\n",
    "\n",
    "# 查询刚刚添加的应用\n",
    "cursor.execute(\"SELECT * FROM applications WHERE app_name = ?\", (app_name,))\n",
    "application = cursor.fetchone()\n",
    "\n",
    "print(\"\\n新添加的应用:\")\n",
    "print(application)\n",
    "\n",
    "conn.close()"
   ]
  },
  {
   "cell_type": "code",
   "execution_count": 6,
   "metadata": {},
   "outputs": [
    {
     "name": "stdout",
     "output_type": "stream",
     "text": [
      "数据库文件的完整路径: D:\\2024秋招-大四上\\毕业论文\\Docu_Assist\\DocuAssist\\instance\\site.db\n"
     ]
    }
   ],
   "source": [
    "db_path = os.path.join(app.root_path, 'instance', 'site.db')\n",
    "print(f\"数据库文件的完整路径: {db_path}\")\n"
   ]
  },
  {
   "cell_type": "code",
   "execution_count": null,
   "metadata": {},
   "outputs": [],
   "source": []
  }
 ],
 "metadata": {
  "kernelspec": {
   "display_name": "Python 3 (ipykernel)",
   "language": "python",
   "name": "python3"
  },
  "language_info": {
   "codemirror_mode": {
    "name": "ipython",
    "version": 3
   },
   "file_extension": ".py",
   "mimetype": "text/x-python",
   "name": "python",
   "nbconvert_exporter": "python",
   "pygments_lexer": "ipython3",
   "version": "3.9.20"
  }
 },
 "nbformat": 4,
 "nbformat_minor": 2
}
