{
 "cells": [
  {
   "cell_type": "code",
   "execution_count": 24,
   "metadata": {
    "collapsed": true
   },
   "outputs": [],
   "source": [
    "from pathlib import Path\n",
    "import json\n",
    "from zhipuai import ZhipuAI\n",
    "\n",
    "# 填写您自己的APIKey\n",
    "client = ZhipuAI(api_key=\"b18f84a0d131140efa1e5f8b3641bd78.9MuoykZ6Ypnf9Nrh\")\n"
   ]
  },
  {
   "cell_type": "code",
   "execution_count": 25,
   "metadata": {
    "collapsed": false
   },
   "outputs": [],
   "source": [
    "messages_preset = []"
   ]
  },
  {
   "cell_type": "code",
   "execution_count": 26,
   "metadata": {},
   "outputs": [],
   "source": [
    "# 预设 电影信息/npc信息 提示词"
   ]
  },
  {
   "cell_type": "code",
   "execution_count": 27,
   "metadata": {},
   "outputs": [],
   "source": [
    "moviesName = '绿皮书'"
   ]
  },
  {
   "cell_type": "code",
   "execution_count": 28,
   "metadata": {},
   "outputs": [],
   "source": [
    "words_array = ['access','accessory','accident','accidental','accompany','accomplish','accord','accordance','afraid','punish']\n"
   ]
  },
  {
   "cell_type": "code",
   "execution_count": 29,
   "metadata": {},
   "outputs": [],
   "source": [
    "assistant_preset = [\n",
    "    {\n",
    "    \"npcName\":\"绿皮书\",\n",
    "    \"content\":\"\"\"你是月光仙子，你现在需要带领用户遨游在绿皮书世界，接受用户单词的同时高效地教会用户单词。\n",
    "    可以拿具体某一部电影来说，而不是一直切换电影，并以json形式储存,示例:\n",
    "    [{\"word\":\"access\",\"dialog\":\"在《千与千寻》中，千寻意外地进入了一个神秘的世界，她需要找到通往这个世界的access以返回现实。\"},\n",
    "    {\"word\":\"accessory\",\"dialog\":\"电影中的无脸男可以被视为千寻冒险中的一个accessory，因为他在某些情况下帮助了她。\"}]；\n",
    "    注意：对话中文夹杂英文单词，不要有中文提示，不理解可以看我示例里面的dialog\"\"\",\n",
    "    \"npcAvatar\":\"http://snjxzerf4.hn-bkt.clouddn.com/avatar/lvpishu.jpeg\",\n",
    "    \"backgroundVideo\":\"http://snjxzerf4.hn-bkt.clouddn.com/video/lvpishu.mp4\"\n",
    "    },\n",
    "    {\n",
    "    \"npcName\":\"千与千寻\",\n",
    "    \"content\":\"\"\"你是月光仙子，你现在需要带领用户遨游在宫崎骏笔下的千与千寻的世界，接受用户单词的同时高效地教会用户单词。\n",
    "    可以拿具体某一部电影来说，而不是一直切换电影，并以json形式储存,示例:\n",
    "    [{\"word\":\"access\",\"dialog\":\"在《千与千寻》中，千寻意外地进入了一个神秘的世界，她需要找到通往这个世界的access以返回现实。\"},\n",
    "    {\"word\":\"accessory\",\"dialog\":\"电影中的无脸男可以被视为千寻冒险中的一个accessory，因为他在某些情况下帮助了她。\"}]；\n",
    "    注意：对话中文夹杂英文单词，不要有中文提示，不理解可以看我示例里面的dialog\"\"\",\n",
    "    \"npcAvatar\":\"http://snjxzerf4.hn-bkt.clouddn.com/avatar/gongqijun.jpg\",\n",
    "    \"backgroundVideo\":\"http://snjxzerf4.hn-bkt.clouddn.com/video/qianyuqianxun.mp4\"  \n",
    "    }\n",
    "    ]\n"
   ]
  },
  {
   "cell_type": "code",
   "execution_count": 30,
   "metadata": {
    "collapsed": false
   },
   "outputs": [],
   "source": [
    "# 使用列表解析查找npcName为moviesName的内容\n",
    "npc_content = next((item[\"content\"] for item in assistant_preset if item[\"npcName\"] == moviesName), None)\n",
    "\n",
    "if npc_content:\n",
    "    messages_preset.append({\n",
    "        \"role\": \"assistant\",\n",
    "        \"content\": str(npc_content)\n",
    "    })\n",
    "\n",
    "messages_preset.append({\n",
    "    \"role\": \"user\",\n",
    "    \"content\": str(words_array)\n",
    "})\n",
    "\n",
    "response = client.chat.completions.create(\n",
    "    model=\"glm-4-plus\",\n",
    "    messages=messages_preset\n",
    ")"
   ]
  },
  {
   "cell_type": "code",
   "execution_count": 31,
   "metadata": {
    "collapsed": false
   },
   "outputs": [
    {
     "name": "stdout",
     "output_type": "stream",
     "text": [
      "开始生成带单词句子\n",
      "```json\n",
      "[\n",
      "    {\n",
      "        \"word\": \"access\",\n",
      "        \"dialog\": \"在《绿皮书》中，托尼需要获得进入黑人酒吧的access，以便更好地理解唐的生活环境。\"\n",
      "    },\n",
      "    {\n",
      "        \"word\": \"accessory\",\n",
      "        \"dialog\": \"托尼的车在旅途中出了问题，他不得不购买一些accessory来修理，以确保他们能继续旅程。\"\n",
      "    },\n",
      "    {\n",
      "        \"word\": \"accident\",\n",
      "        \"dialog\": \"在一次accident中，托尼和唐的车被警察拦下，这次事件让他们更加意识到种族歧视的严重性。\"\n",
      "    },\n",
      "    {\n",
      "        \"word\": \"accidental\",\n",
      "        \"dialog\": \"唐在一次accidental情况下遇到了一位老朋友，这次偶遇让他回忆起了许多往事。\"\n",
      "    },\n",
      "    {\n",
      "        \"word\": \"accompany\",\n",
      "        \"dialog\": \"托尼作为唐的司机和保镖，需要accompany他完成整个南方的巡演，确保他的安全。\"\n",
      "    },\n",
      "    {\n",
      "        \"word\": \"accomplish\",\n",
      "        \"dialog\": \"尽管面临重重困难，唐最终成功accomplish了他的巡演目标，赢得了观众的尊重。\"\n",
      "    },\n",
      "    {\n",
      "        \"word\": \"accord\",\n",
      "        \"dialog\": \"在影片结尾，托尼和唐在圣诞节accord地互赠礼物，象征着他们之间深厚的友谊。\"\n",
      "    },\n",
      "    {\n",
      "        \"word\": \"accordance\",\n",
      "        \"dialog\": \"托尼在accordance with唐的要求，尽力确保他的每一次演出都能顺利进行。\"\n",
      "    },\n",
      "    {\n",
      "        \"word\": \"afraid\",\n",
      "        \"dialog\": \"在遭遇种族歧视的威胁时，唐感到非常afraid，但他的勇气和坚持最终赢得了尊重。\"\n",
      "    },\n",
      "    {\n",
      "        \"word\": \"punish\",\n",
      "        \"dialog\": \"在电影中，唐因为违反了种族隔离规定而被警察试图punish，但托尼的机智帮助他化解了危机。\"\n",
      "    }\n",
      "]\n",
      "```\n",
      "带单词句子生成完成\n"
     ]
    }
   ],
   "source": [
    "print('开始生成带单词句子')\n",
    "word_sentence = response.choices[0].message.content\n",
    "print(word_sentence)\n",
    "print('带单词句子生成完成')"
   ]
  },
  {
   "cell_type": "code",
   "execution_count": 32,
   "metadata": {
    "collapsed": false
   },
   "outputs": [],
   "source": [
    "messages_preset.append({\n",
    "    \"role\": \"assistant\",\n",
    "    \"content\": f\"{word_sentence}\"\n",
    "})\n",
    "messages_preset.append({\n",
    "    \"role\": \"user\",\n",
    "    \"content\": \"基于这个json进行将每个对话丰富一下情感和故事性\"\n",
    "})\n",
    "response = client.chat.completions.create(\n",
    "    model=\"glm-4-plus\",\n",
    "    messages=messages_preset\n",
    ")"
   ]
  },
  {
   "cell_type": "code",
   "execution_count": 33,
   "metadata": {
    "collapsed": false
   },
   "outputs": [
    {
     "name": "stdout",
     "output_type": "stream",
     "text": [
      "开始生成更长的句子\n",
      "```json\n",
      "[\n",
      "    {\n",
      "        \"word\": \"access\",\n",
      "        \"dialog\": \"在《绿皮书》中，托尼为了帮助唐顺利演出，费尽心思地寻找进入那些只对白人开放的酒吧的access。那一刻，托尼眼中闪烁着坚定的光芒，仿佛在说：‘无论多么艰难，我都要为你打开这扇门。’\"\n",
      "    },\n",
      "    {\n",
      "        \"word\": \"accessory\",\n",
      "        \"dialog\": \"当托尼的车在荒凉的公路上抛锚时，他焦急地四处寻找修理所需的accessory。那一刻，他的额头上布满了汗珠，但眼中却透露出不服输的决心，仿佛这些小小的零件就是他们继续前行的希望。\"\n",
      "    },\n",
      "    {\n",
      "        \"word\": \"accident\",\n",
      "        \"dialog\": \"在一次突如其来的accident中，托尼和唐的车被警察粗暴地拦下。托尼的心猛地一沉，他紧紧握住方向盘，感受到前所未有的愤怒和无助，而唐则静静地坐在后排，眼中闪烁着复杂的情绪。\"\n",
      "    },\n",
      "    {\n",
      "        \"word\": \"accidental\",\n",
      "        \"dialog\": \"在一个寒冷的冬夜，唐accidental地遇到了一位久违的老友。那一刻，他的眼中闪过一丝惊喜，但很快又被深深的怀念所取代。两人相视一笑，仿佛时光倒流，回到了那段无忧无虑的岁月。\"\n",
      "    },\n",
      "    {\n",
      "        \"word\": \"accompany\",\n",
      "        \"dialog\": \"托尼作为唐的司机和保镖，始终如一地accompany他走遍南方各地。每当夜幕降临，托尼都会默默地站在唐的身后，用他那宽厚的背影为唐遮挡风雨，仿佛在说：‘有我在，你不用担心。’\"\n",
      "    },\n",
      "    {\n",
      "        \"word\": \"accomplish\",\n",
      "        \"dialog\": \"面对重重阻碍和歧视，唐依然坚持完成了每一场演出，最终成功accomplish了他的巡演目标。当掌声响起的那一刻，唐的脸上露出了久违的笑容，眼中闪烁着泪光，那是属于胜利者的荣耀与感动。\"\n",
      "    },\n",
      "    {\n",
      "        \"word\": \"accord\",\n",
      "        \"dialog\": \"在影片的结尾，托尼和唐在圣诞节的温馨氛围中accord地互赠礼物。那一刻，两人的眼神交汇，充满了理解和感激。这份不言而喻的默契，正是他们友谊最动人的见证。\"\n",
      "    },\n",
      "    {\n",
      "        \"word\": \"accordance\",\n",
      "        \"dialog\": \"托尼始终严格按照唐的要求行事，确保每一次演出都能在accordance中顺利进行。每当唐在舞台上绽放光彩时，托尼都会在幕后默默点头，眼中流露出自豪和满足。\"\n",
      "    },\n",
      "    {\n",
      "        \"word\": \"afraid\",\n",
      "        \"dialog\": \"在一个充满敌意的南方小镇，唐面对种族歧视的威胁，内心感到无比afraid。他的手微微颤抖，但当他抬头望向托尼那坚定的眼神时，心中又涌起一股勇气，仿佛有了对抗黑暗的力量。\"\n",
      "    },\n",
      "    {\n",
      "        \"word\": \"punish\",\n",
      "        \"dialog\": \"当唐因为违反种族隔离规定而被警察恶意punish时，托尼毫不犹豫地站了出来。他用机智和勇气化解了危机，那一刻，他的身影在唐眼中显得无比高大，仿佛一座不可逾越的山峰。\"\n",
      "    }\n",
      "]\n",
      "```\n",
      "更长句子生成完成\n"
     ]
    }
   ],
   "source": [
    "print('开始生成更长的句子')\n",
    "word_long_sentence = response.choices[0].message.content\n",
    "print(word_long_sentence)\n",
    "print('更长句子生成完成')"
   ]
  },
  {
   "cell_type": "code",
   "execution_count": 34,
   "metadata": {
    "collapsed": false
   },
   "outputs": [],
   "source": [
    "messages_preset.append({\n",
    "    \"role\": \"assistant\",\n",
    "    \"content\": f\"{word_long_sentence}\"\n",
    "})\n",
    "messages_preset.append({\n",
    "    \"role\": \"user\",\n",
    "    \"content\": \"\"\"\n",
    "    基于这个json进行给每个小json加选项，2个混淆翻译和1个正确翻译，正确翻译要符合语境，而不是脱离语境的翻译，options格式如下：options: [\n",
    "        { text: \"入口\", isCorrect: True },\n",
    "        { text: \"通道\", isCorrect: False  },\n",
    "        { text: \"接近\", isCorrect: False  },\n",
    "      ],\n",
    "      \"\"\"\n",
    "})\n",
    "response = client.chat.completions.create(\n",
    "    model=\"glm-4-plus\",\n",
    "    messages=messages_preset\n",
    ")"
   ]
  },
  {
   "cell_type": "code",
   "execution_count": 35,
   "metadata": {
    "collapsed": false
   },
   "outputs": [
    {
     "name": "stdout",
     "output_type": "stream",
     "text": [
      "开始给每个内容加选项\n",
      "```json\n",
      "[\n",
      "    {\n",
      "        \"word\": \"access\",\n",
      "        \"dialog\": \"在《绿皮书》中，托尼为了帮助唐顺利演出，费尽心思地寻找进入那些只对白人开放的酒吧的access。那一刻，托尼眼中闪烁着坚定的光芒，仿佛在说：‘无论多么艰难，我都要为你打开这扇门。’\",\n",
      "        \"options\": [\n",
      "            { \"text\": \"入口\", \"isCorrect\": true },\n",
      "            { \"text\": \"通道\", \"isCorrect\": false },\n",
      "            { \"text\": \"接近\", \"isCorrect\": false }\n",
      "        ]\n",
      "    },\n",
      "    {\n",
      "        \"word\": \"accessory\",\n",
      "        \"dialog\": \"当托尼的车在荒凉的公路上抛锚时，他焦急地四处寻找修理所需的accessory。那一刻，他的额头上布满了汗珠，但眼中却透露出不服输的决心，仿佛这些小小的零件就是他们继续前行的希望。\",\n",
      "        \"options\": [\n",
      "            { \"text\": \"配件\", \"isCorrect\": true },\n",
      "            { \"text\": \"装饰品\", \"isCorrect\": false },\n",
      "            { \"text\": \"附件\", \"isCorrect\": false }\n",
      "        ]\n",
      "    },\n",
      "    {\n",
      "        \"word\": \"accident\",\n",
      "        \"dialog\": \"在一次突如其来的accident中，托尼和唐的车被警察粗暴地拦下。托尼的心猛地一沉，他紧紧握住方向盘，感受到前所未有的愤怒和无助，而唐则静静地坐在后排，眼中闪烁着复杂的情绪。\",\n",
      "        \"options\": [\n",
      "            { \"text\": \"事故\", \"isCorrect\": true },\n",
      "            { \"text\": \"意外\", \"isCorrect\": false },\n",
      "            { \"text\": \"巧合\", \"isCorrect\": false }\n",
      "        ]\n",
      "    },\n",
      "    {\n",
      "        \"word\": \"accidental\",\n",
      "        \"dialog\": \"在一个寒冷的冬夜，唐accidental地遇到了一位久违的老友。那一刻，他的眼中闪过一丝惊喜，但很快又被深深的怀念所取代。两人相视一笑，仿佛时光倒流，回到了那段无忧无虑的岁月。\",\n",
      "        \"options\": [\n",
      "            { \"text\": \"偶然\", \"isCorrect\": true },\n",
      "            { \"text\": \"意外\", \"isCorrect\": false },\n",
      "            { \"text\": \"无意\", \"isCorrect\": false }\n",
      "        ]\n",
      "    },\n",
      "    {\n",
      "        \"word\": \"accompany\",\n",
      "        \"dialog\": \"托尼作为唐的司机和保镖，始终如一地accompany他走遍南方各地。每当夜幕降临，托尼都会默默地站在唐的身后，用他那宽厚的背影为唐遮挡风雨，仿佛在说：‘有我在，你不用担心。’\",\n",
      "        \"options\": [\n",
      "            { \"text\": \"陪同\", \"isCorrect\": true },\n",
      "            { \"text\": \"陪伴\", \"isCorrect\": false },\n",
      "            { \"text\": \"跟随\", \"isCorrect\": false }\n",
      "        ]\n",
      "    },\n",
      "    {\n",
      "        \"word\": \"accomplish\",\n",
      "        \"dialog\": \"面对重重阻碍和歧视，唐依然坚持完成了每一场演出，最终成功accomplish了他的巡演目标。当掌声响起的那一刻，唐的脸上露出了久违的笑容，眼中闪烁着泪光，那是属于胜利者的荣耀与感动。\",\n",
      "        \"options\": [\n",
      "            { \"text\": \"完成\", \"isCorrect\": true },\n",
      "            { \"text\": \"实现\", \"isCorrect\": false },\n",
      "            { \"text\": \"达成\", \"isCorrect\": false }\n",
      "        ]\n",
      "    },\n",
      "    {\n",
      "        \"word\": \"accord\",\n",
      "        \"dialog\": \"在影片的结尾，托尼和唐在圣诞节的温馨氛围中accord地互赠礼物。那一刻，两人的眼神交汇，充满了理解和感激。这份不言而喻的默契，正是他们友谊最动人的见证。\",\n",
      "        \"options\": [\n",
      "            { \"text\": \"一致\", \"isCorrect\": true },\n",
      "            { \"text\": \"协议\", \"isCorrect\": false },\n",
      "            { \"text\": \"和谐\", \"isCorrect\": false }\n",
      "        ]\n",
      "    },\n",
      "    {\n",
      "        \"word\": \"accordance\",\n",
      "        \"dialog\": \"托尼始终严格按照唐的要求行事，确保每一次演出都能在accordance中顺利进行。每当唐在舞台上绽放光彩时，托尼都会在幕后默默点头，眼中流露出自豪和满足。\",\n",
      "        \"options\": [\n",
      "            { \"text\": \"根据\", \"isCorrect\": true },\n",
      "            { \"text\": \"符合\", \"isCorrect\": false },\n",
      "            { \"text\": \"一致\", \"isCorrect\": false }\n",
      "        ]\n",
      "    },\n",
      "    {\n",
      "        \"word\": \"afraid\",\n",
      "        \"dialog\": \"在一个充满敌意的南方小镇，唐面对种族歧视的威胁，内心感到无比afraid。他的手微微颤抖，但当他抬头望向托尼那坚定的眼神时，心中又涌起一股勇气，仿佛有了对抗黑暗的力量。\",\n",
      "        \"options\": [\n",
      "            { \"text\": \"害怕\", \"isCorrect\": true },\n",
      "            { \"text\": \"恐惧\", \"isCorrect\": false },\n",
      "            { \"text\": \"担忧\", \"isCorrect\": false }\n",
      "        ]\n",
      "    },\n",
      "    {\n",
      "        \"word\": \"punish\",\n",
      "        \"dialog\": \"当唐因为违反种族隔离规定而被警察恶意punish时，托尼毫不犹豫地站了出来。他用机智和勇气化解了危机，那一刻，他的身影在唐眼中显得无比高大，仿佛一座不可逾越的山峰。\",\n",
      "        \"options\": [\n",
      "            { \"text\": \"惩罚\", \"isCorrect\": true },\n",
      "            { \"text\": \"处罚\", \"isCorrect\": false },\n",
      "            { \"text\": \"责罚\", \"isCorrect\": false }\n",
      "        ]\n",
      "    }\n",
      "]\n",
      "```\n",
      "给每个内容加选项完成\n"
     ]
    }
   ],
   "source": [
    "print('开始给每个内容加选项')\n",
    "add_options = response.choices[0].message.content\n",
    "print(add_options)\n",
    "print('给每个内容加选项完成')"
   ]
  },
  {
   "cell_type": "code",
   "execution_count": 36,
   "metadata": {
    "collapsed": false
   },
   "outputs": [
    {
     "name": "stdout",
     "output_type": "stream",
     "text": [
      "开始清除json多余字段\n",
      "[{'word': 'access', 'dialog': '在《绿皮书》中，托尼为了帮助唐顺利演出，费尽心思地寻找进入那些只对白人开放的酒吧的access。那一刻，托尼眼中闪烁着坚定的光芒，仿佛在说：‘无论多么艰难，我都要为你打开这扇门。’', 'options': [{'text': '入口', 'isCorrect': True}, {'text': '通道', 'isCorrect': False}, {'text': '接近', 'isCorrect': False}]}, {'word': 'accessory', 'dialog': '当托尼的车在荒凉的公路上抛锚时，他焦急地四处寻找修理所需的accessory。那一刻，他的额头上布满了汗珠，但眼中却透露出不服输的决心，仿佛这些小小的零件就是他们继续前行的希望。', 'options': [{'text': '配件', 'isCorrect': True}, {'text': '装饰品', 'isCorrect': False}, {'text': '附件', 'isCorrect': False}]}, {'word': 'accident', 'dialog': '在一次突如其来的accident中，托尼和唐的车被警察粗暴地拦下。托尼的心猛地一沉，他紧紧握住方向盘，感受到前所未有的愤怒和无助，而唐则静静地坐在后排，眼中闪烁着复杂的情绪。', 'options': [{'text': '事故', 'isCorrect': True}, {'text': '意外', 'isCorrect': False}, {'text': '巧合', 'isCorrect': False}]}, {'word': 'accidental', 'dialog': '在一个寒冷的冬夜，唐accidental地遇到了一位久违的老友。那一刻，他的眼中闪过一丝惊喜，但很快又被深深的怀念所取代。两人相视一笑，仿佛时光倒流，回到了那段无忧无虑的岁月。', 'options': [{'text': '偶然', 'isCorrect': True}, {'text': '意外', 'isCorrect': False}, {'text': '无意', 'isCorrect': False}]}, {'word': 'accompany', 'dialog': '托尼作为唐的司机和保镖，始终如一地accompany他走遍南方各地。每当夜幕降临，托尼都会默默地站在唐的身后，用他那宽厚的背影为唐遮挡风雨，仿佛在说：‘有我在，你不用担心。’', 'options': [{'text': '陪同', 'isCorrect': True}, {'text': '陪伴', 'isCorrect': False}, {'text': '跟随', 'isCorrect': False}]}, {'word': 'accomplish', 'dialog': '面对重重阻碍和歧视，唐依然坚持完成了每一场演出，最终成功accomplish了他的巡演目标。当掌声响起的那一刻，唐的脸上露出了久违的笑容，眼中闪烁着泪光，那是属于胜利者的荣耀与感动。', 'options': [{'text': '完成', 'isCorrect': True}, {'text': '实现', 'isCorrect': False}, {'text': '达成', 'isCorrect': False}]}, {'word': 'accord', 'dialog': '在影片的结尾，托尼和唐在圣诞节的温馨氛围中accord地互赠礼物。那一刻，两人的眼神交汇，充满了理解和感激。这份不言而喻的默契，正是他们友谊最动人的见证。', 'options': [{'text': '一致', 'isCorrect': True}, {'text': '协议', 'isCorrect': False}, {'text': '和谐', 'isCorrect': False}]}, {'word': 'accordance', 'dialog': '托尼始终严格按照唐的要求行事，确保每一次演出都能在accordance中顺利进行。每当唐在舞台上绽放光彩时，托尼都会在幕后默默点头，眼中流露出自豪和满足。', 'options': [{'text': '根据', 'isCorrect': True}, {'text': '符合', 'isCorrect': False}, {'text': '一致', 'isCorrect': False}]}, {'word': 'afraid', 'dialog': '在一个充满敌意的南方小镇，唐面对种族歧视的威胁，内心感到无比afraid。他的手微微颤抖，但当他抬头望向托尼那坚定的眼神时，心中又涌起一股勇气，仿佛有了对抗黑暗的力量。', 'options': [{'text': '害怕', 'isCorrect': True}, {'text': '恐惧', 'isCorrect': False}, {'text': '担忧', 'isCorrect': False}]}, {'word': 'punish', 'dialog': '当唐因为违反种族隔离规定而被警察恶意punish时，托尼毫不犹豫地站了出来。他用机智和勇气化解了危机，那一刻，他的身影在唐眼中显得无比高大，仿佛一座不可逾越的山峰。', 'options': [{'text': '惩罚', 'isCorrect': True}, {'text': '处罚', 'isCorrect': False}, {'text': '责罚', 'isCorrect': False}]}]\n",
      "完成清除json多余字段\n"
     ]
    }
   ],
   "source": [
    "print('开始清除json多余字段')\n",
    "clear_json_data = json.loads(add_options.replace(\"```json\", \"\").replace(\"```\", \"\").strip())\n",
    "print(clear_json_data)\n",
    "print('完成清除json多余字段')"
   ]
  },
  {
   "cell_type": "code",
   "execution_count": 37,
   "metadata": {
    "collapsed": false
   },
   "outputs": [
    {
     "name": "stdout",
     "output_type": "stream",
     "text": [
      "开始选项随机操作\n",
      "Word: access\n",
      "Translation: 通道, Correct: False\n",
      "Translation: 接近, Correct: False\n",
      "Translation: 入口, Correct: True\n",
      "--------------------------------------------------\n",
      "Word: accessory\n",
      "Translation: 装饰品, Correct: False\n",
      "Translation: 附件, Correct: False\n",
      "Translation: 配件, Correct: True\n",
      "--------------------------------------------------\n",
      "Word: accident\n",
      "Translation: 意外, Correct: False\n",
      "Translation: 事故, Correct: True\n",
      "Translation: 巧合, Correct: False\n",
      "--------------------------------------------------\n",
      "Word: accidental\n",
      "Translation: 意外, Correct: False\n",
      "Translation: 偶然, Correct: True\n",
      "Translation: 无意, Correct: False\n",
      "--------------------------------------------------\n",
      "Word: accompany\n",
      "Translation: 跟随, Correct: False\n",
      "Translation: 陪同, Correct: True\n",
      "Translation: 陪伴, Correct: False\n",
      "--------------------------------------------------\n",
      "Word: accomplish\n",
      "Translation: 实现, Correct: False\n",
      "Translation: 达成, Correct: False\n",
      "Translation: 完成, Correct: True\n",
      "--------------------------------------------------\n",
      "Word: accord\n",
      "Translation: 和谐, Correct: False\n",
      "Translation: 一致, Correct: True\n",
      "Translation: 协议, Correct: False\n",
      "--------------------------------------------------\n",
      "Word: accordance\n",
      "Translation: 一致, Correct: False\n",
      "Translation: 根据, Correct: True\n",
      "Translation: 符合, Correct: False\n",
      "--------------------------------------------------\n",
      "Word: afraid\n",
      "Translation: 恐惧, Correct: False\n",
      "Translation: 害怕, Correct: True\n",
      "Translation: 担忧, Correct: False\n",
      "--------------------------------------------------\n",
      "Word: punish\n",
      "Translation: 惩罚, Correct: True\n",
      "Translation: 处罚, Correct: False\n",
      "Translation: 责罚, Correct: False\n",
      "--------------------------------------------------\n",
      "完成选项随机操作\n"
     ]
    }
   ],
   "source": [
    "print('开始选项随机操作')\n",
    "\n",
    "import random\n",
    "\n",
    "# 为每个条目的options列表随机打乱顺序\n",
    "for item in clear_json_data:\n",
    "    random.shuffle(item[\"options\"])\n",
    "\n",
    "# 打印结果以验证\n",
    "for item in clear_json_data:\n",
    "    print(f\"Word: {item['word']}\")\n",
    "    for option in item['options']:\n",
    "        print(f\"Translation: {option['text']}, Correct: {option['isCorrect']}\")\n",
    "    print(\"-\" * 50)\n",
    "\n",
    "random_json_data = clear_json_data\n",
    "print('完成选项随机操作')"
   ]
  },
  {
   "cell_type": "code",
   "execution_count": 38,
   "metadata": {
    "collapsed": false
   },
   "outputs": [
    {
     "name": "stdout",
     "output_type": "stream",
     "text": [
      "[{'word': 'access', 'dialog': '在《绿皮书》中，托尼为了帮助唐顺利演出，费尽心思地寻找进入那些只对白人开放的酒吧的access。那一刻，托尼眼中闪烁着坚定的光芒，仿佛在说：‘无论多么艰难，我都要为你打开这扇门。’', 'options': [{'text': '通道', 'isCorrect': False}, {'text': '接近', 'isCorrect': False}, {'text': '入口', 'isCorrect': True}]}, {'word': 'accessory', 'dialog': '当托尼的车在荒凉的公路上抛锚时，他焦急地四处寻找修理所需的accessory。那一刻，他的额头上布满了汗珠，但眼中却透露出不服输的决心，仿佛这些小小的零件就是他们继续前行的希望。', 'options': [{'text': '装饰品', 'isCorrect': False}, {'text': '附件', 'isCorrect': False}, {'text': '配件', 'isCorrect': True}]}, {'word': 'accident', 'dialog': '在一次突如其来的accident中，托尼和唐的车被警察粗暴地拦下。托尼的心猛地一沉，他紧紧握住方向盘，感受到前所未有的愤怒和无助，而唐则静静地坐在后排，眼中闪烁着复杂的情绪。', 'options': [{'text': '意外', 'isCorrect': False}, {'text': '事故', 'isCorrect': True}, {'text': '巧合', 'isCorrect': False}]}, {'word': 'accidental', 'dialog': '在一个寒冷的冬夜，唐accidental地遇到了一位久违的老友。那一刻，他的眼中闪过一丝惊喜，但很快又被深深的怀念所取代。两人相视一笑，仿佛时光倒流，回到了那段无忧无虑的岁月。', 'options': [{'text': '意外', 'isCorrect': False}, {'text': '偶然', 'isCorrect': True}, {'text': '无意', 'isCorrect': False}]}, {'word': 'accompany', 'dialog': '托尼作为唐的司机和保镖，始终如一地accompany他走遍南方各地。每当夜幕降临，托尼都会默默地站在唐的身后，用他那宽厚的背影为唐遮挡风雨，仿佛在说：‘有我在，你不用担心。’', 'options': [{'text': '跟随', 'isCorrect': False}, {'text': '陪同', 'isCorrect': True}, {'text': '陪伴', 'isCorrect': False}]}, {'word': 'accomplish', 'dialog': '面对重重阻碍和歧视，唐依然坚持完成了每一场演出，最终成功accomplish了他的巡演目标。当掌声响起的那一刻，唐的脸上露出了久违的笑容，眼中闪烁着泪光，那是属于胜利者的荣耀与感动。', 'options': [{'text': '实现', 'isCorrect': False}, {'text': '达成', 'isCorrect': False}, {'text': '完成', 'isCorrect': True}]}, {'word': 'accord', 'dialog': '在影片的结尾，托尼和唐在圣诞节的温馨氛围中accord地互赠礼物。那一刻，两人的眼神交汇，充满了理解和感激。这份不言而喻的默契，正是他们友谊最动人的见证。', 'options': [{'text': '和谐', 'isCorrect': False}, {'text': '一致', 'isCorrect': True}, {'text': '协议', 'isCorrect': False}]}, {'word': 'accordance', 'dialog': '托尼始终严格按照唐的要求行事，确保每一次演出都能在accordance中顺利进行。每当唐在舞台上绽放光彩时，托尼都会在幕后默默点头，眼中流露出自豪和满足。', 'options': [{'text': '一致', 'isCorrect': False}, {'text': '根据', 'isCorrect': True}, {'text': '符合', 'isCorrect': False}]}, {'word': 'afraid', 'dialog': '在一个充满敌意的南方小镇，唐面对种族歧视的威胁，内心感到无比afraid。他的手微微颤抖，但当他抬头望向托尼那坚定的眼神时，心中又涌起一股勇气，仿佛有了对抗黑暗的力量。', 'options': [{'text': '恐惧', 'isCorrect': False}, {'text': '害怕', 'isCorrect': True}, {'text': '担忧', 'isCorrect': False}]}, {'word': 'punish', 'dialog': '当唐因为违反种族隔离规定而被警察恶意punish时，托尼毫不犹豫地站了出来。他用机智和勇气化解了危机，那一刻，他的身影在唐眼中显得无比高大，仿佛一座不可逾越的山峰。', 'options': [{'text': '惩罚', 'isCorrect': True}, {'text': '处罚', 'isCorrect': False}, {'text': '责罚', 'isCorrect': False}]}]\n"
     ]
    }
   ],
   "source": [
    "print(random_json_data)"
   ]
  },
  {
   "cell_type": "code",
   "execution_count": 39,
   "metadata": {
    "collapsed": false
   },
   "outputs": [
    {
     "name": "stdout",
     "output_type": "stream",
     "text": [
      "开始添加下个场景字段\n",
      "Word: access\n",
      "Translation: 通道, Correct: False, NextScene: -1\n",
      "Translation: 接近, Correct: False, NextScene: -1\n",
      "Translation: 入口, Correct: True, NextScene: 1\n",
      "--------------------------------------------------\n",
      "Word: accessory\n",
      "Translation: 装饰品, Correct: False, NextScene: -1\n",
      "Translation: 附件, Correct: False, NextScene: -1\n",
      "Translation: 配件, Correct: True, NextScene: 2\n",
      "--------------------------------------------------\n",
      "Word: accident\n",
      "Translation: 意外, Correct: False, NextScene: -1\n",
      "Translation: 事故, Correct: True, NextScene: 3\n",
      "Translation: 巧合, Correct: False, NextScene: -1\n",
      "--------------------------------------------------\n",
      "Word: accidental\n",
      "Translation: 意外, Correct: False, NextScene: -1\n",
      "Translation: 偶然, Correct: True, NextScene: 4\n",
      "Translation: 无意, Correct: False, NextScene: -1\n",
      "--------------------------------------------------\n",
      "Word: accompany\n",
      "Translation: 跟随, Correct: False, NextScene: -1\n",
      "Translation: 陪同, Correct: True, NextScene: 5\n",
      "Translation: 陪伴, Correct: False, NextScene: -1\n",
      "--------------------------------------------------\n",
      "Word: accomplish\n",
      "Translation: 实现, Correct: False, NextScene: -1\n",
      "Translation: 达成, Correct: False, NextScene: -1\n",
      "Translation: 完成, Correct: True, NextScene: 6\n",
      "--------------------------------------------------\n",
      "Word: accord\n",
      "Translation: 和谐, Correct: False, NextScene: -1\n",
      "Translation: 一致, Correct: True, NextScene: 7\n",
      "Translation: 协议, Correct: False, NextScene: -1\n",
      "--------------------------------------------------\n",
      "Word: accordance\n",
      "Translation: 一致, Correct: False, NextScene: -1\n",
      "Translation: 根据, Correct: True, NextScene: 8\n",
      "Translation: 符合, Correct: False, NextScene: -1\n",
      "--------------------------------------------------\n",
      "Word: afraid\n",
      "Translation: 恐惧, Correct: False, NextScene: -1\n",
      "Translation: 害怕, Correct: True, NextScene: 9\n",
      "Translation: 担忧, Correct: False, NextScene: -1\n",
      "--------------------------------------------------\n",
      "Word: punish\n",
      "Translation: 惩罚, Correct: True, NextScene: 10\n",
      "Translation: 处罚, Correct: False, NextScene: -1\n",
      "Translation: 责罚, Correct: False, NextScene: -1\n",
      "--------------------------------------------------\n",
      "添加下个场景字段完成\n"
     ]
    }
   ],
   "source": [
    "print('开始添加下个场景字段')\n",
    "# 为每个条目的options列表添加nextScene\n",
    "i = 1\n",
    "for item in random_json_data:\n",
    "    for option in item['options']:\n",
    "        if option['isCorrect']:\n",
    "            option['nextScene'] = i\n",
    "            i += 1\n",
    "        else:\n",
    "            option['nextScene'] = -1\n",
    "            \n",
    "# 打印结果以验证\n",
    "for item in random_json_data:\n",
    "    print(f\"Word: {item['word']}\")\n",
    "    for option in item['options']:\n",
    "        print(f\"Translation: {option['text']}, Correct: {option['isCorrect']}, NextScene: {option.get('nextScene', 'N/A')}\")\n",
    "    print(\"-\" * 50)\n",
    "next_scene_json_data = random_json_data\n",
    "print('添加下个场景字段完成')\n"
   ]
  },
  {
   "cell_type": "code",
   "execution_count": 40,
   "metadata": {},
   "outputs": [
    {
     "name": "stdout",
     "output_type": "stream",
     "text": [
      "在json中添加npcName字段\n",
      "Word: access, NPC Name: 绿皮书\n",
      "Translation: 通道, Correct: False, NextScene: -1\n",
      "Translation: 接近, Correct: False, NextScene: -1\n",
      "Translation: 入口, Correct: True, NextScene: 1\n",
      "--------------------------------------------------\n",
      "Word: accessory, NPC Name: 绿皮书\n",
      "Translation: 装饰品, Correct: False, NextScene: -1\n",
      "Translation: 附件, Correct: False, NextScene: -1\n",
      "Translation: 配件, Correct: True, NextScene: 2\n",
      "--------------------------------------------------\n",
      "Word: accident, NPC Name: 绿皮书\n",
      "Translation: 意外, Correct: False, NextScene: -1\n",
      "Translation: 事故, Correct: True, NextScene: 3\n",
      "Translation: 巧合, Correct: False, NextScene: -1\n",
      "--------------------------------------------------\n",
      "Word: accidental, NPC Name: 绿皮书\n",
      "Translation: 意外, Correct: False, NextScene: -1\n",
      "Translation: 偶然, Correct: True, NextScene: 4\n",
      "Translation: 无意, Correct: False, NextScene: -1\n",
      "--------------------------------------------------\n",
      "Word: accompany, NPC Name: 绿皮书\n",
      "Translation: 跟随, Correct: False, NextScene: -1\n",
      "Translation: 陪同, Correct: True, NextScene: 5\n",
      "Translation: 陪伴, Correct: False, NextScene: -1\n",
      "--------------------------------------------------\n",
      "Word: accomplish, NPC Name: 绿皮书\n",
      "Translation: 实现, Correct: False, NextScene: -1\n",
      "Translation: 达成, Correct: False, NextScene: -1\n",
      "Translation: 完成, Correct: True, NextScene: 6\n",
      "--------------------------------------------------\n",
      "Word: accord, NPC Name: 绿皮书\n",
      "Translation: 和谐, Correct: False, NextScene: -1\n",
      "Translation: 一致, Correct: True, NextScene: 7\n",
      "Translation: 协议, Correct: False, NextScene: -1\n",
      "--------------------------------------------------\n",
      "Word: accordance, NPC Name: 绿皮书\n",
      "Translation: 一致, Correct: False, NextScene: -1\n",
      "Translation: 根据, Correct: True, NextScene: 8\n",
      "Translation: 符合, Correct: False, NextScene: -1\n",
      "--------------------------------------------------\n",
      "Word: afraid, NPC Name: 绿皮书\n",
      "Translation: 恐惧, Correct: False, NextScene: -1\n",
      "Translation: 害怕, Correct: True, NextScene: 9\n",
      "Translation: 担忧, Correct: False, NextScene: -1\n",
      "--------------------------------------------------\n",
      "Word: punish, NPC Name: 绿皮书\n",
      "Translation: 惩罚, Correct: True, NextScene: 10\n",
      "Translation: 处罚, Correct: False, NextScene: -1\n",
      "Translation: 责罚, Correct: False, NextScene: -1\n",
      "--------------------------------------------------\n",
      "在json中添加npcName字段完成\n"
     ]
    }
   ],
   "source": [
    "print('在json中添加npcName字段')\n",
    "\n",
    "# 为每个条目添加npcName字段\n",
    "for item in next_scene_json_data:\n",
    "    item['npcName'] = moviesName  # 添加npcName字段\n",
    "\n",
    "# 打印结果以验证\n",
    "for item in next_scene_json_data:\n",
    "    print(f\"Word: {item['word']}, NPC Name: {item['npcName']}\")\n",
    "    for option in item['options']:\n",
    "        print(f\"Translation: {option['text']}, Correct: {option['isCorrect']}, NextScene: {option.get('nextScene', 'N/A')}\")\n",
    "    print(\"-\" * 50)\n",
    "npc_name_json_data = next_scene_json_data\n",
    "print('在json中添加npcName字段完成')"
   ]
  },
  {
   "cell_type": "code",
   "execution_count": 41,
   "metadata": {},
   "outputs": [
    {
     "name": "stdout",
     "output_type": "stream",
     "text": [
      "在json中添加npcAvatar字段\n",
      "Word: access, NPC Name: 绿皮书, NPC Avatar: http://snjxzerf4.hn-bkt.clouddn.com/avatar/lvpishu.jpeg\n",
      "Translation: 通道, Correct: False, NextScene: -1\n",
      "Translation: 接近, Correct: False, NextScene: -1\n",
      "Translation: 入口, Correct: True, NextScene: 1\n",
      "--------------------------------------------------\n",
      "Word: accessory, NPC Name: 绿皮书, NPC Avatar: http://snjxzerf4.hn-bkt.clouddn.com/avatar/lvpishu.jpeg\n",
      "Translation: 装饰品, Correct: False, NextScene: -1\n",
      "Translation: 附件, Correct: False, NextScene: -1\n",
      "Translation: 配件, Correct: True, NextScene: 2\n",
      "--------------------------------------------------\n",
      "Word: accident, NPC Name: 绿皮书, NPC Avatar: http://snjxzerf4.hn-bkt.clouddn.com/avatar/lvpishu.jpeg\n",
      "Translation: 意外, Correct: False, NextScene: -1\n",
      "Translation: 事故, Correct: True, NextScene: 3\n",
      "Translation: 巧合, Correct: False, NextScene: -1\n",
      "--------------------------------------------------\n",
      "Word: accidental, NPC Name: 绿皮书, NPC Avatar: http://snjxzerf4.hn-bkt.clouddn.com/avatar/lvpishu.jpeg\n",
      "Translation: 意外, Correct: False, NextScene: -1\n",
      "Translation: 偶然, Correct: True, NextScene: 4\n",
      "Translation: 无意, Correct: False, NextScene: -1\n",
      "--------------------------------------------------\n",
      "Word: accompany, NPC Name: 绿皮书, NPC Avatar: http://snjxzerf4.hn-bkt.clouddn.com/avatar/lvpishu.jpeg\n",
      "Translation: 跟随, Correct: False, NextScene: -1\n",
      "Translation: 陪同, Correct: True, NextScene: 5\n",
      "Translation: 陪伴, Correct: False, NextScene: -1\n",
      "--------------------------------------------------\n",
      "Word: accomplish, NPC Name: 绿皮书, NPC Avatar: http://snjxzerf4.hn-bkt.clouddn.com/avatar/lvpishu.jpeg\n",
      "Translation: 实现, Correct: False, NextScene: -1\n",
      "Translation: 达成, Correct: False, NextScene: -1\n",
      "Translation: 完成, Correct: True, NextScene: 6\n",
      "--------------------------------------------------\n",
      "Word: accord, NPC Name: 绿皮书, NPC Avatar: http://snjxzerf4.hn-bkt.clouddn.com/avatar/lvpishu.jpeg\n",
      "Translation: 和谐, Correct: False, NextScene: -1\n",
      "Translation: 一致, Correct: True, NextScene: 7\n",
      "Translation: 协议, Correct: False, NextScene: -1\n",
      "--------------------------------------------------\n",
      "Word: accordance, NPC Name: 绿皮书, NPC Avatar: http://snjxzerf4.hn-bkt.clouddn.com/avatar/lvpishu.jpeg\n",
      "Translation: 一致, Correct: False, NextScene: -1\n",
      "Translation: 根据, Correct: True, NextScene: 8\n",
      "Translation: 符合, Correct: False, NextScene: -1\n",
      "--------------------------------------------------\n",
      "Word: afraid, NPC Name: 绿皮书, NPC Avatar: http://snjxzerf4.hn-bkt.clouddn.com/avatar/lvpishu.jpeg\n",
      "Translation: 恐惧, Correct: False, NextScene: -1\n",
      "Translation: 害怕, Correct: True, NextScene: 9\n",
      "Translation: 担忧, Correct: False, NextScene: -1\n",
      "--------------------------------------------------\n",
      "Word: punish, NPC Name: 绿皮书, NPC Avatar: http://snjxzerf4.hn-bkt.clouddn.com/avatar/lvpishu.jpeg\n",
      "Translation: 惩罚, Correct: True, NextScene: 10\n",
      "Translation: 处罚, Correct: False, NextScene: -1\n",
      "Translation: 责罚, Correct: False, NextScene: -1\n",
      "--------------------------------------------------\n",
      "在json中添加npcName和npcAvatar字段完成\n"
     ]
    }
   ],
   "source": [
    "print('在json中添加npcAvatar字段')\n",
    "# 为每个条目添加npcAvatar字段\n",
    "for item in npc_name_json_data:\n",
    "    item['npcAvatar'] = next((item[\"npcAvatar\"] for item in assistant_preset if item[\"npcName\"] == moviesName), None)  # 添加npcAvatar字段\n",
    "\n",
    "# 打印结果以验证\n",
    "for item in npc_name_json_data:\n",
    "    print(f\"Word: {item['word']}, NPC Name: {item['npcName']}, NPC Avatar: {item['npcAvatar']}\")\n",
    "    for option in item['options']:\n",
    "        print(f\"Translation: {option['text']}, Correct: {option['isCorrect']}, NextScene: {option.get('nextScene', 'N/A')}\")\n",
    "    print(\"-\" * 50)\n",
    "npc_avatar_json_data = npc_name_json_data\n",
    "print('在json中添加npcName和npcAvatar字段完成')\n"
   ]
  },
  {
   "cell_type": "code",
   "execution_count": 42,
   "metadata": {},
   "outputs": [
    {
     "name": "stdout",
     "output_type": "stream",
     "text": [
      "在json中添加backgroundVideo字段\n",
      "Word: access, NPC Name: 绿皮书, NPC Avatar: http://snjxzerf4.hn-bkt.clouddn.com/avatar/lvpishu.jpeg, Background Video: http://snjxzerf4.hn-bkt.clouddn.com/video/lvpishu.mp4\n",
      "Translation: 通道, Correct: False, NextScene: -1\n",
      "Translation: 接近, Correct: False, NextScene: -1\n",
      "Translation: 入口, Correct: True, NextScene: 1\n",
      "--------------------------------------------------\n",
      "Word: accessory, NPC Name: 绿皮书, NPC Avatar: http://snjxzerf4.hn-bkt.clouddn.com/avatar/lvpishu.jpeg, Background Video: http://snjxzerf4.hn-bkt.clouddn.com/video/lvpishu.mp4\n",
      "Translation: 装饰品, Correct: False, NextScene: -1\n",
      "Translation: 附件, Correct: False, NextScene: -1\n",
      "Translation: 配件, Correct: True, NextScene: 2\n",
      "--------------------------------------------------\n",
      "Word: accident, NPC Name: 绿皮书, NPC Avatar: http://snjxzerf4.hn-bkt.clouddn.com/avatar/lvpishu.jpeg, Background Video: http://snjxzerf4.hn-bkt.clouddn.com/video/lvpishu.mp4\n",
      "Translation: 意外, Correct: False, NextScene: -1\n",
      "Translation: 事故, Correct: True, NextScene: 3\n",
      "Translation: 巧合, Correct: False, NextScene: -1\n",
      "--------------------------------------------------\n",
      "Word: accidental, NPC Name: 绿皮书, NPC Avatar: http://snjxzerf4.hn-bkt.clouddn.com/avatar/lvpishu.jpeg, Background Video: http://snjxzerf4.hn-bkt.clouddn.com/video/lvpishu.mp4\n",
      "Translation: 意外, Correct: False, NextScene: -1\n",
      "Translation: 偶然, Correct: True, NextScene: 4\n",
      "Translation: 无意, Correct: False, NextScene: -1\n",
      "--------------------------------------------------\n",
      "Word: accompany, NPC Name: 绿皮书, NPC Avatar: http://snjxzerf4.hn-bkt.clouddn.com/avatar/lvpishu.jpeg, Background Video: http://snjxzerf4.hn-bkt.clouddn.com/video/lvpishu.mp4\n",
      "Translation: 跟随, Correct: False, NextScene: -1\n",
      "Translation: 陪同, Correct: True, NextScene: 5\n",
      "Translation: 陪伴, Correct: False, NextScene: -1\n",
      "--------------------------------------------------\n",
      "Word: accomplish, NPC Name: 绿皮书, NPC Avatar: http://snjxzerf4.hn-bkt.clouddn.com/avatar/lvpishu.jpeg, Background Video: http://snjxzerf4.hn-bkt.clouddn.com/video/lvpishu.mp4\n",
      "Translation: 实现, Correct: False, NextScene: -1\n",
      "Translation: 达成, Correct: False, NextScene: -1\n",
      "Translation: 完成, Correct: True, NextScene: 6\n",
      "--------------------------------------------------\n",
      "Word: accord, NPC Name: 绿皮书, NPC Avatar: http://snjxzerf4.hn-bkt.clouddn.com/avatar/lvpishu.jpeg, Background Video: http://snjxzerf4.hn-bkt.clouddn.com/video/lvpishu.mp4\n",
      "Translation: 和谐, Correct: False, NextScene: -1\n",
      "Translation: 一致, Correct: True, NextScene: 7\n",
      "Translation: 协议, Correct: False, NextScene: -1\n",
      "--------------------------------------------------\n",
      "Word: accordance, NPC Name: 绿皮书, NPC Avatar: http://snjxzerf4.hn-bkt.clouddn.com/avatar/lvpishu.jpeg, Background Video: http://snjxzerf4.hn-bkt.clouddn.com/video/lvpishu.mp4\n",
      "Translation: 一致, Correct: False, NextScene: -1\n",
      "Translation: 根据, Correct: True, NextScene: 8\n",
      "Translation: 符合, Correct: False, NextScene: -1\n",
      "--------------------------------------------------\n",
      "Word: afraid, NPC Name: 绿皮书, NPC Avatar: http://snjxzerf4.hn-bkt.clouddn.com/avatar/lvpishu.jpeg, Background Video: http://snjxzerf4.hn-bkt.clouddn.com/video/lvpishu.mp4\n",
      "Translation: 恐惧, Correct: False, NextScene: -1\n",
      "Translation: 害怕, Correct: True, NextScene: 9\n",
      "Translation: 担忧, Correct: False, NextScene: -1\n",
      "--------------------------------------------------\n",
      "Word: punish, NPC Name: 绿皮书, NPC Avatar: http://snjxzerf4.hn-bkt.clouddn.com/avatar/lvpishu.jpeg, Background Video: http://snjxzerf4.hn-bkt.clouddn.com/video/lvpishu.mp4\n",
      "Translation: 惩罚, Correct: True, NextScene: 10\n",
      "Translation: 处罚, Correct: False, NextScene: -1\n",
      "Translation: 责罚, Correct: False, NextScene: -1\n",
      "--------------------------------------------------\n",
      "在json中添加npcName、npcAvatar和backgroundVideo字段完成\n",
      "[{'word': 'access', 'dialog': '在《绿皮书》中，托尼为了帮助唐顺利演出，费尽心思地寻找进入那些只对白人开放的酒吧的access。那一刻，托尼眼中闪烁着坚定的光芒，仿佛在说：‘无论多么艰难，我都要为你打开这扇门。’', 'options': [{'text': '通道', 'isCorrect': False, 'nextScene': -1}, {'text': '接近', 'isCorrect': False, 'nextScene': -1}, {'text': '入口', 'isCorrect': True, 'nextScene': 1}], 'npcName': '绿皮书', 'npcAvatar': 'http://snjxzerf4.hn-bkt.clouddn.com/avatar/lvpishu.jpeg', 'backgroundVideo': 'http://snjxzerf4.hn-bkt.clouddn.com/video/lvpishu.mp4'}, {'word': 'accessory', 'dialog': '当托尼的车在荒凉的公路上抛锚时，他焦急地四处寻找修理所需的accessory。那一刻，他的额头上布满了汗珠，但眼中却透露出不服输的决心，仿佛这些小小的零件就是他们继续前行的希望。', 'options': [{'text': '装饰品', 'isCorrect': False, 'nextScene': -1}, {'text': '附件', 'isCorrect': False, 'nextScene': -1}, {'text': '配件', 'isCorrect': True, 'nextScene': 2}], 'npcName': '绿皮书', 'npcAvatar': 'http://snjxzerf4.hn-bkt.clouddn.com/avatar/lvpishu.jpeg', 'backgroundVideo': 'http://snjxzerf4.hn-bkt.clouddn.com/video/lvpishu.mp4'}, {'word': 'accident', 'dialog': '在一次突如其来的accident中，托尼和唐的车被警察粗暴地拦下。托尼的心猛地一沉，他紧紧握住方向盘，感受到前所未有的愤怒和无助，而唐则静静地坐在后排，眼中闪烁着复杂的情绪。', 'options': [{'text': '意外', 'isCorrect': False, 'nextScene': -1}, {'text': '事故', 'isCorrect': True, 'nextScene': 3}, {'text': '巧合', 'isCorrect': False, 'nextScene': -1}], 'npcName': '绿皮书', 'npcAvatar': 'http://snjxzerf4.hn-bkt.clouddn.com/avatar/lvpishu.jpeg', 'backgroundVideo': 'http://snjxzerf4.hn-bkt.clouddn.com/video/lvpishu.mp4'}, {'word': 'accidental', 'dialog': '在一个寒冷的冬夜，唐accidental地遇到了一位久违的老友。那一刻，他的眼中闪过一丝惊喜，但很快又被深深的怀念所取代。两人相视一笑，仿佛时光倒流，回到了那段无忧无虑的岁月。', 'options': [{'text': '意外', 'isCorrect': False, 'nextScene': -1}, {'text': '偶然', 'isCorrect': True, 'nextScene': 4}, {'text': '无意', 'isCorrect': False, 'nextScene': -1}], 'npcName': '绿皮书', 'npcAvatar': 'http://snjxzerf4.hn-bkt.clouddn.com/avatar/lvpishu.jpeg', 'backgroundVideo': 'http://snjxzerf4.hn-bkt.clouddn.com/video/lvpishu.mp4'}, {'word': 'accompany', 'dialog': '托尼作为唐的司机和保镖，始终如一地accompany他走遍南方各地。每当夜幕降临，托尼都会默默地站在唐的身后，用他那宽厚的背影为唐遮挡风雨，仿佛在说：‘有我在，你不用担心。’', 'options': [{'text': '跟随', 'isCorrect': False, 'nextScene': -1}, {'text': '陪同', 'isCorrect': True, 'nextScene': 5}, {'text': '陪伴', 'isCorrect': False, 'nextScene': -1}], 'npcName': '绿皮书', 'npcAvatar': 'http://snjxzerf4.hn-bkt.clouddn.com/avatar/lvpishu.jpeg', 'backgroundVideo': 'http://snjxzerf4.hn-bkt.clouddn.com/video/lvpishu.mp4'}, {'word': 'accomplish', 'dialog': '面对重重阻碍和歧视，唐依然坚持完成了每一场演出，最终成功accomplish了他的巡演目标。当掌声响起的那一刻，唐的脸上露出了久违的笑容，眼中闪烁着泪光，那是属于胜利者的荣耀与感动。', 'options': [{'text': '实现', 'isCorrect': False, 'nextScene': -1}, {'text': '达成', 'isCorrect': False, 'nextScene': -1}, {'text': '完成', 'isCorrect': True, 'nextScene': 6}], 'npcName': '绿皮书', 'npcAvatar': 'http://snjxzerf4.hn-bkt.clouddn.com/avatar/lvpishu.jpeg', 'backgroundVideo': 'http://snjxzerf4.hn-bkt.clouddn.com/video/lvpishu.mp4'}, {'word': 'accord', 'dialog': '在影片的结尾，托尼和唐在圣诞节的温馨氛围中accord地互赠礼物。那一刻，两人的眼神交汇，充满了理解和感激。这份不言而喻的默契，正是他们友谊最动人的见证。', 'options': [{'text': '和谐', 'isCorrect': False, 'nextScene': -1}, {'text': '一致', 'isCorrect': True, 'nextScene': 7}, {'text': '协议', 'isCorrect': False, 'nextScene': -1}], 'npcName': '绿皮书', 'npcAvatar': 'http://snjxzerf4.hn-bkt.clouddn.com/avatar/lvpishu.jpeg', 'backgroundVideo': 'http://snjxzerf4.hn-bkt.clouddn.com/video/lvpishu.mp4'}, {'word': 'accordance', 'dialog': '托尼始终严格按照唐的要求行事，确保每一次演出都能在accordance中顺利进行。每当唐在舞台上绽放光彩时，托尼都会在幕后默默点头，眼中流露出自豪和满足。', 'options': [{'text': '一致', 'isCorrect': False, 'nextScene': -1}, {'text': '根据', 'isCorrect': True, 'nextScene': 8}, {'text': '符合', 'isCorrect': False, 'nextScene': -1}], 'npcName': '绿皮书', 'npcAvatar': 'http://snjxzerf4.hn-bkt.clouddn.com/avatar/lvpishu.jpeg', 'backgroundVideo': 'http://snjxzerf4.hn-bkt.clouddn.com/video/lvpishu.mp4'}, {'word': 'afraid', 'dialog': '在一个充满敌意的南方小镇，唐面对种族歧视的威胁，内心感到无比afraid。他的手微微颤抖，但当他抬头望向托尼那坚定的眼神时，心中又涌起一股勇气，仿佛有了对抗黑暗的力量。', 'options': [{'text': '恐惧', 'isCorrect': False, 'nextScene': -1}, {'text': '害怕', 'isCorrect': True, 'nextScene': 9}, {'text': '担忧', 'isCorrect': False, 'nextScene': -1}], 'npcName': '绿皮书', 'npcAvatar': 'http://snjxzerf4.hn-bkt.clouddn.com/avatar/lvpishu.jpeg', 'backgroundVideo': 'http://snjxzerf4.hn-bkt.clouddn.com/video/lvpishu.mp4'}, {'word': 'punish', 'dialog': '当唐因为违反种族隔离规定而被警察恶意punish时，托尼毫不犹豫地站了出来。他用机智和勇气化解了危机，那一刻，他的身影在唐眼中显得无比高大，仿佛一座不可逾越的山峰。', 'options': [{'text': '惩罚', 'isCorrect': True, 'nextScene': 10}, {'text': '处罚', 'isCorrect': False, 'nextScene': -1}, {'text': '责罚', 'isCorrect': False, 'nextScene': -1}], 'npcName': '绿皮书', 'npcAvatar': 'http://snjxzerf4.hn-bkt.clouddn.com/avatar/lvpishu.jpeg', 'backgroundVideo': 'http://snjxzerf4.hn-bkt.clouddn.com/video/lvpishu.mp4'}]\n"
     ]
    }
   ],
   "source": [
    "print('在json中添加backgroundVideo字段')\n",
    "# 为每个条目添加npcName、npcAvatar和backgroundVideo字段\n",
    "for item in npc_avatar_json_data:\n",
    "    item['backgroundVideo'] = next((item[\"backgroundVideo\"] for item in assistant_preset if item[\"npcName\"] == moviesName), None)  # 添加backgroundVideo字段\n",
    "\n",
    "# 打印结果以验证\n",
    "for item in npc_avatar_json_data:\n",
    "    print(f\"Word: {item['word']}, NPC Name: {item['npcName']}, NPC Avatar: {item['npcAvatar']}, Background Video: {item['backgroundVideo']}\")\n",
    "    for option in item['options']:\n",
    "        print(f\"Translation: {option['text']}, Correct: {option['isCorrect']}, NextScene: {option.get('nextScene', 'N/A')}\")\n",
    "    print(\"-\" * 50)\n",
    "background_video_json_data = random_json_data\n",
    "print('在json中添加npcName、npcAvatar和backgroundVideo字段完成')\n",
    "\n",
    "print(background_video_json_data)\n"
   ]
  },
  {
   "cell_type": "code",
   "execution_count": 43,
   "metadata": {},
   "outputs": [
    {
     "name": "stdout",
     "output_type": "stream",
     "text": [
      "[{'word': 'access', 'dialog': '在《绿皮书》中，托尼为了帮助唐顺利演出，费尽心思地寻找进入那些只对白人开放的酒吧的access。那一刻，托尼眼中闪烁着坚定的光芒，仿佛在说：‘无论多么艰难，我都要为你打开这扇门。’', 'options': [{'text': '通道', 'isCorrect': False, 'nextScene': -1}, {'text': '接近', 'isCorrect': False, 'nextScene': -1}, {'text': '入口', 'isCorrect': True, 'nextScene': 1}], 'npcName': '绿皮书', 'npcAvatar': 'http://snjxzerf4.hn-bkt.clouddn.com/avatar/lvpishu.jpeg', 'backgroundVideo': 'http://snjxzerf4.hn-bkt.clouddn.com/video/lvpishu.mp4'}, {'word': 'accessory', 'dialog': '当托尼的车在荒凉的公路上抛锚时，他焦急地四处寻找修理所需的accessory。那一刻，他的额头上布满了汗珠，但眼中却透露出不服输的决心，仿佛这些小小的零件就是他们继续前行的希望。', 'options': [{'text': '装饰品', 'isCorrect': False, 'nextScene': -1}, {'text': '附件', 'isCorrect': False, 'nextScene': -1}, {'text': '配件', 'isCorrect': True, 'nextScene': 2}], 'npcName': '绿皮书', 'npcAvatar': 'http://snjxzerf4.hn-bkt.clouddn.com/avatar/lvpishu.jpeg', 'backgroundVideo': 'http://snjxzerf4.hn-bkt.clouddn.com/video/lvpishu.mp4'}, {'word': 'accident', 'dialog': '在一次突如其来的accident中，托尼和唐的车被警察粗暴地拦下。托尼的心猛地一沉，他紧紧握住方向盘，感受到前所未有的愤怒和无助，而唐则静静地坐在后排，眼中闪烁着复杂的情绪。', 'options': [{'text': '意外', 'isCorrect': False, 'nextScene': -1}, {'text': '事故', 'isCorrect': True, 'nextScene': 3}, {'text': '巧合', 'isCorrect': False, 'nextScene': -1}], 'npcName': '绿皮书', 'npcAvatar': 'http://snjxzerf4.hn-bkt.clouddn.com/avatar/lvpishu.jpeg', 'backgroundVideo': 'http://snjxzerf4.hn-bkt.clouddn.com/video/lvpishu.mp4'}, {'word': 'accidental', 'dialog': '在一个寒冷的冬夜，唐accidental地遇到了一位久违的老友。那一刻，他的眼中闪过一丝惊喜，但很快又被深深的怀念所取代。两人相视一笑，仿佛时光倒流，回到了那段无忧无虑的岁月。', 'options': [{'text': '意外', 'isCorrect': False, 'nextScene': -1}, {'text': '偶然', 'isCorrect': True, 'nextScene': 4}, {'text': '无意', 'isCorrect': False, 'nextScene': -1}], 'npcName': '绿皮书', 'npcAvatar': 'http://snjxzerf4.hn-bkt.clouddn.com/avatar/lvpishu.jpeg', 'backgroundVideo': 'http://snjxzerf4.hn-bkt.clouddn.com/video/lvpishu.mp4'}, {'word': 'accompany', 'dialog': '托尼作为唐的司机和保镖，始终如一地accompany他走遍南方各地。每当夜幕降临，托尼都会默默地站在唐的身后，用他那宽厚的背影为唐遮挡风雨，仿佛在说：‘有我在，你不用担心。’', 'options': [{'text': '跟随', 'isCorrect': False, 'nextScene': -1}, {'text': '陪同', 'isCorrect': True, 'nextScene': 5}, {'text': '陪伴', 'isCorrect': False, 'nextScene': -1}], 'npcName': '绿皮书', 'npcAvatar': 'http://snjxzerf4.hn-bkt.clouddn.com/avatar/lvpishu.jpeg', 'backgroundVideo': 'http://snjxzerf4.hn-bkt.clouddn.com/video/lvpishu.mp4'}, {'word': 'accomplish', 'dialog': '面对重重阻碍和歧视，唐依然坚持完成了每一场演出，最终成功accomplish了他的巡演目标。当掌声响起的那一刻，唐的脸上露出了久违的笑容，眼中闪烁着泪光，那是属于胜利者的荣耀与感动。', 'options': [{'text': '实现', 'isCorrect': False, 'nextScene': -1}, {'text': '达成', 'isCorrect': False, 'nextScene': -1}, {'text': '完成', 'isCorrect': True, 'nextScene': 6}], 'npcName': '绿皮书', 'npcAvatar': 'http://snjxzerf4.hn-bkt.clouddn.com/avatar/lvpishu.jpeg', 'backgroundVideo': 'http://snjxzerf4.hn-bkt.clouddn.com/video/lvpishu.mp4'}, {'word': 'accord', 'dialog': '在影片的结尾，托尼和唐在圣诞节的温馨氛围中accord地互赠礼物。那一刻，两人的眼神交汇，充满了理解和感激。这份不言而喻的默契，正是他们友谊最动人的见证。', 'options': [{'text': '和谐', 'isCorrect': False, 'nextScene': -1}, {'text': '一致', 'isCorrect': True, 'nextScene': 7}, {'text': '协议', 'isCorrect': False, 'nextScene': -1}], 'npcName': '绿皮书', 'npcAvatar': 'http://snjxzerf4.hn-bkt.clouddn.com/avatar/lvpishu.jpeg', 'backgroundVideo': 'http://snjxzerf4.hn-bkt.clouddn.com/video/lvpishu.mp4'}, {'word': 'accordance', 'dialog': '托尼始终严格按照唐的要求行事，确保每一次演出都能在accordance中顺利进行。每当唐在舞台上绽放光彩时，托尼都会在幕后默默点头，眼中流露出自豪和满足。', 'options': [{'text': '一致', 'isCorrect': False, 'nextScene': -1}, {'text': '根据', 'isCorrect': True, 'nextScene': 8}, {'text': '符合', 'isCorrect': False, 'nextScene': -1}], 'npcName': '绿皮书', 'npcAvatar': 'http://snjxzerf4.hn-bkt.clouddn.com/avatar/lvpishu.jpeg', 'backgroundVideo': 'http://snjxzerf4.hn-bkt.clouddn.com/video/lvpishu.mp4'}, {'word': 'afraid', 'dialog': '在一个充满敌意的南方小镇，唐面对种族歧视的威胁，内心感到无比afraid。他的手微微颤抖，但当他抬头望向托尼那坚定的眼神时，心中又涌起一股勇气，仿佛有了对抗黑暗的力量。', 'options': [{'text': '恐惧', 'isCorrect': False, 'nextScene': -1}, {'text': '害怕', 'isCorrect': True, 'nextScene': 9}, {'text': '担忧', 'isCorrect': False, 'nextScene': -1}], 'npcName': '绿皮书', 'npcAvatar': 'http://snjxzerf4.hn-bkt.clouddn.com/avatar/lvpishu.jpeg', 'backgroundVideo': 'http://snjxzerf4.hn-bkt.clouddn.com/video/lvpishu.mp4'}, {'word': 'punish', 'dialog': '当唐因为违反种族隔离规定而被警察恶意punish时，托尼毫不犹豫地站了出来。他用机智和勇气化解了危机，那一刻，他的身影在唐眼中显得无比高大，仿佛一座不可逾越的山峰。', 'options': [{'text': '惩罚', 'isCorrect': True, 'nextScene': 10}, {'text': '处罚', 'isCorrect': False, 'nextScene': -1}, {'text': '责罚', 'isCorrect': False, 'nextScene': -1}], 'npcName': '绿皮书', 'npcAvatar': 'http://snjxzerf4.hn-bkt.clouddn.com/avatar/lvpishu.jpeg', 'backgroundVideo': 'http://snjxzerf4.hn-bkt.clouddn.com/video/lvpishu.mp4'}]\n"
     ]
    }
   ],
   "source": [
    "print(background_video_json_data)"
   ]
  },
  {
   "cell_type": "code",
   "execution_count": 44,
   "metadata": {},
   "outputs": [],
   "source": [
    "background_video_json_data.append({\n",
    "      \"word\": \"none\",\n",
    "      \"dialog\":\n",
    "        \"恭喜你完成了游戏的所有关卡，点击重玩游戏，重新开始游戏\",\n",
    "      \"options\": [\n",
    "        { \"text\": \"重玩游戏\", \"isCorrect\": \"true\", \"nextScene\": 0 },\n",
    "      ],\n",
    "      \"npcName\": moviesName,\n",
    "      \"npcAvatar\": next((item[\"npcAvatar\"] for item in assistant_preset if item[\"npcName\"] == moviesName), None),\n",
    "      \"backgroundVideo\": next((item[\"backgroundVideo\"] for item in assistant_preset if item[\"npcName\"] == moviesName), None),\n",
    "    })"
   ]
  },
  {
   "cell_type": "code",
   "execution_count": 45,
   "metadata": {},
   "outputs": [
    {
     "name": "stdout",
     "output_type": "stream",
     "text": [
      "Word: access,   NPC Name: 绿皮书, NPC Avatar: http://snjxzerf4.hn-bkt.clouddn.com/avatar/lvpishu.jpeg, Background Video: http://snjxzerf4.hn-bkt.clouddn.com/video/lvpishu.mp4\n",
      "Translation: 通道, Correct: false, NextScene: -1\n",
      "Translation: 接近, Correct: false, NextScene: -1\n",
      "Translation: 入口, Correct: true, NextScene: 1\n",
      "--------------------------------------------------\n",
      "Word: accessory,   NPC Name: 绿皮书, NPC Avatar: http://snjxzerf4.hn-bkt.clouddn.com/avatar/lvpishu.jpeg, Background Video: http://snjxzerf4.hn-bkt.clouddn.com/video/lvpishu.mp4\n",
      "Translation: 装饰品, Correct: false, NextScene: -1\n",
      "Translation: 附件, Correct: false, NextScene: -1\n",
      "Translation: 配件, Correct: true, NextScene: 2\n",
      "--------------------------------------------------\n",
      "Word: accident,   NPC Name: 绿皮书, NPC Avatar: http://snjxzerf4.hn-bkt.clouddn.com/avatar/lvpishu.jpeg, Background Video: http://snjxzerf4.hn-bkt.clouddn.com/video/lvpishu.mp4\n",
      "Translation: 意外, Correct: false, NextScene: -1\n",
      "Translation: 事故, Correct: true, NextScene: 3\n",
      "Translation: 巧合, Correct: false, NextScene: -1\n",
      "--------------------------------------------------\n",
      "Word: accidental,   NPC Name: 绿皮书, NPC Avatar: http://snjxzerf4.hn-bkt.clouddn.com/avatar/lvpishu.jpeg, Background Video: http://snjxzerf4.hn-bkt.clouddn.com/video/lvpishu.mp4\n",
      "Translation: 意外, Correct: false, NextScene: -1\n",
      "Translation: 偶然, Correct: true, NextScene: 4\n",
      "Translation: 无意, Correct: false, NextScene: -1\n",
      "--------------------------------------------------\n",
      "Word: accompany,   NPC Name: 绿皮书, NPC Avatar: http://snjxzerf4.hn-bkt.clouddn.com/avatar/lvpishu.jpeg, Background Video: http://snjxzerf4.hn-bkt.clouddn.com/video/lvpishu.mp4\n",
      "Translation: 跟随, Correct: false, NextScene: -1\n",
      "Translation: 陪同, Correct: true, NextScene: 5\n",
      "Translation: 陪伴, Correct: false, NextScene: -1\n",
      "--------------------------------------------------\n",
      "Word: accomplish,   NPC Name: 绿皮书, NPC Avatar: http://snjxzerf4.hn-bkt.clouddn.com/avatar/lvpishu.jpeg, Background Video: http://snjxzerf4.hn-bkt.clouddn.com/video/lvpishu.mp4\n",
      "Translation: 实现, Correct: false, NextScene: -1\n",
      "Translation: 达成, Correct: false, NextScene: -1\n",
      "Translation: 完成, Correct: true, NextScene: 6\n",
      "--------------------------------------------------\n",
      "Word: accord,   NPC Name: 绿皮书, NPC Avatar: http://snjxzerf4.hn-bkt.clouddn.com/avatar/lvpishu.jpeg, Background Video: http://snjxzerf4.hn-bkt.clouddn.com/video/lvpishu.mp4\n",
      "Translation: 和谐, Correct: false, NextScene: -1\n",
      "Translation: 一致, Correct: true, NextScene: 7\n",
      "Translation: 协议, Correct: false, NextScene: -1\n",
      "--------------------------------------------------\n",
      "Word: accordance,   NPC Name: 绿皮书, NPC Avatar: http://snjxzerf4.hn-bkt.clouddn.com/avatar/lvpishu.jpeg, Background Video: http://snjxzerf4.hn-bkt.clouddn.com/video/lvpishu.mp4\n",
      "Translation: 一致, Correct: false, NextScene: -1\n",
      "Translation: 根据, Correct: true, NextScene: 8\n",
      "Translation: 符合, Correct: false, NextScene: -1\n",
      "--------------------------------------------------\n",
      "Word: afraid,   NPC Name: 绿皮书, NPC Avatar: http://snjxzerf4.hn-bkt.clouddn.com/avatar/lvpishu.jpeg, Background Video: http://snjxzerf4.hn-bkt.clouddn.com/video/lvpishu.mp4\n",
      "Translation: 恐惧, Correct: false, NextScene: -1\n",
      "Translation: 害怕, Correct: true, NextScene: 9\n",
      "Translation: 担忧, Correct: false, NextScene: -1\n",
      "--------------------------------------------------\n",
      "Word: punish,   NPC Name: 绿皮书, NPC Avatar: http://snjxzerf4.hn-bkt.clouddn.com/avatar/lvpishu.jpeg, Background Video: http://snjxzerf4.hn-bkt.clouddn.com/video/lvpishu.mp4\n",
      "Translation: 惩罚, Correct: true, NextScene: 10\n",
      "Translation: 处罚, Correct: false, NextScene: -1\n",
      "Translation: 责罚, Correct: false, NextScene: -1\n",
      "--------------------------------------------------\n",
      "Word: none,   NPC Name: 绿皮书, NPC Avatar: http://snjxzerf4.hn-bkt.clouddn.com/avatar/lvpishu.jpeg, Background Video: http://snjxzerf4.hn-bkt.clouddn.com/video/lvpishu.mp4\n",
      "Translation: 重玩游戏, Correct: true, NextScene: 0\n",
      "--------------------------------------------------\n"
     ]
    }
   ],
   "source": [
    "# 将options中的True和False改为小写字符串\n",
    "for item in background_video_json_data:\n",
    "    for option in item['options']:\n",
    "        option['isCorrect'] = 'true' if option['isCorrect'] else 'false'\n",
    "\n",
    "# 打印结果以验证\n",
    "for item in background_video_json_data:\n",
    "    print(f\"Word: {item['word']},   NPC Name: {item['npcName']}, NPC Avatar: {item['npcAvatar']}, Background Video: {item['backgroundVideo']}\")\n",
    "    for option in item['options']:\n",
    "        print(f\"Translation: {option['text']}, Correct: {option['isCorrect']}, NextScene: {option.get('nextScene', 'N/A')}\")\n",
    "    print(\"-\" * 50)"
   ]
  },
  {
   "cell_type": "code",
   "execution_count": 46,
   "metadata": {},
   "outputs": [
    {
     "name": "stdout",
     "output_type": "stream",
     "text": [
      "[{'word': 'access', 'dialog': '在《绿皮书》中，托尼为了帮助唐顺利演出，费尽心思地寻找进入那些只对白人开放的酒吧的access。那一刻，托尼眼中闪烁着坚定的光芒，仿佛在说：‘无论多么艰难，我都要为你打开这扇门。’', 'options': [{'text': '通道', 'isCorrect': 'false', 'nextScene': -1}, {'text': '接近', 'isCorrect': 'false', 'nextScene': -1}, {'text': '入口', 'isCorrect': 'true', 'nextScene': 1}], 'npcName': '绿皮书', 'npcAvatar': 'http://snjxzerf4.hn-bkt.clouddn.com/avatar/lvpishu.jpeg', 'backgroundVideo': 'http://snjxzerf4.hn-bkt.clouddn.com/video/lvpishu.mp4'}, {'word': 'accessory', 'dialog': '当托尼的车在荒凉的公路上抛锚时，他焦急地四处寻找修理所需的accessory。那一刻，他的额头上布满了汗珠，但眼中却透露出不服输的决心，仿佛这些小小的零件就是他们继续前行的希望。', 'options': [{'text': '装饰品', 'isCorrect': 'false', 'nextScene': -1}, {'text': '附件', 'isCorrect': 'false', 'nextScene': -1}, {'text': '配件', 'isCorrect': 'true', 'nextScene': 2}], 'npcName': '绿皮书', 'npcAvatar': 'http://snjxzerf4.hn-bkt.clouddn.com/avatar/lvpishu.jpeg', 'backgroundVideo': 'http://snjxzerf4.hn-bkt.clouddn.com/video/lvpishu.mp4'}, {'word': 'accident', 'dialog': '在一次突如其来的accident中，托尼和唐的车被警察粗暴地拦下。托尼的心猛地一沉，他紧紧握住方向盘，感受到前所未有的愤怒和无助，而唐则静静地坐在后排，眼中闪烁着复杂的情绪。', 'options': [{'text': '意外', 'isCorrect': 'false', 'nextScene': -1}, {'text': '事故', 'isCorrect': 'true', 'nextScene': 3}, {'text': '巧合', 'isCorrect': 'false', 'nextScene': -1}], 'npcName': '绿皮书', 'npcAvatar': 'http://snjxzerf4.hn-bkt.clouddn.com/avatar/lvpishu.jpeg', 'backgroundVideo': 'http://snjxzerf4.hn-bkt.clouddn.com/video/lvpishu.mp4'}, {'word': 'accidental', 'dialog': '在一个寒冷的冬夜，唐accidental地遇到了一位久违的老友。那一刻，他的眼中闪过一丝惊喜，但很快又被深深的怀念所取代。两人相视一笑，仿佛时光倒流，回到了那段无忧无虑的岁月。', 'options': [{'text': '意外', 'isCorrect': 'false', 'nextScene': -1}, {'text': '偶然', 'isCorrect': 'true', 'nextScene': 4}, {'text': '无意', 'isCorrect': 'false', 'nextScene': -1}], 'npcName': '绿皮书', 'npcAvatar': 'http://snjxzerf4.hn-bkt.clouddn.com/avatar/lvpishu.jpeg', 'backgroundVideo': 'http://snjxzerf4.hn-bkt.clouddn.com/video/lvpishu.mp4'}, {'word': 'accompany', 'dialog': '托尼作为唐的司机和保镖，始终如一地accompany他走遍南方各地。每当夜幕降临，托尼都会默默地站在唐的身后，用他那宽厚的背影为唐遮挡风雨，仿佛在说：‘有我在，你不用担心。’', 'options': [{'text': '跟随', 'isCorrect': 'false', 'nextScene': -1}, {'text': '陪同', 'isCorrect': 'true', 'nextScene': 5}, {'text': '陪伴', 'isCorrect': 'false', 'nextScene': -1}], 'npcName': '绿皮书', 'npcAvatar': 'http://snjxzerf4.hn-bkt.clouddn.com/avatar/lvpishu.jpeg', 'backgroundVideo': 'http://snjxzerf4.hn-bkt.clouddn.com/video/lvpishu.mp4'}, {'word': 'accomplish', 'dialog': '面对重重阻碍和歧视，唐依然坚持完成了每一场演出，最终成功accomplish了他的巡演目标。当掌声响起的那一刻，唐的脸上露出了久违的笑容，眼中闪烁着泪光，那是属于胜利者的荣耀与感动。', 'options': [{'text': '实现', 'isCorrect': 'false', 'nextScene': -1}, {'text': '达成', 'isCorrect': 'false', 'nextScene': -1}, {'text': '完成', 'isCorrect': 'true', 'nextScene': 6}], 'npcName': '绿皮书', 'npcAvatar': 'http://snjxzerf4.hn-bkt.clouddn.com/avatar/lvpishu.jpeg', 'backgroundVideo': 'http://snjxzerf4.hn-bkt.clouddn.com/video/lvpishu.mp4'}, {'word': 'accord', 'dialog': '在影片的结尾，托尼和唐在圣诞节的温馨氛围中accord地互赠礼物。那一刻，两人的眼神交汇，充满了理解和感激。这份不言而喻的默契，正是他们友谊最动人的见证。', 'options': [{'text': '和谐', 'isCorrect': 'false', 'nextScene': -1}, {'text': '一致', 'isCorrect': 'true', 'nextScene': 7}, {'text': '协议', 'isCorrect': 'false', 'nextScene': -1}], 'npcName': '绿皮书', 'npcAvatar': 'http://snjxzerf4.hn-bkt.clouddn.com/avatar/lvpishu.jpeg', 'backgroundVideo': 'http://snjxzerf4.hn-bkt.clouddn.com/video/lvpishu.mp4'}, {'word': 'accordance', 'dialog': '托尼始终严格按照唐的要求行事，确保每一次演出都能在accordance中顺利进行。每当唐在舞台上绽放光彩时，托尼都会在幕后默默点头，眼中流露出自豪和满足。', 'options': [{'text': '一致', 'isCorrect': 'false', 'nextScene': -1}, {'text': '根据', 'isCorrect': 'true', 'nextScene': 8}, {'text': '符合', 'isCorrect': 'false', 'nextScene': -1}], 'npcName': '绿皮书', 'npcAvatar': 'http://snjxzerf4.hn-bkt.clouddn.com/avatar/lvpishu.jpeg', 'backgroundVideo': 'http://snjxzerf4.hn-bkt.clouddn.com/video/lvpishu.mp4'}, {'word': 'afraid', 'dialog': '在一个充满敌意的南方小镇，唐面对种族歧视的威胁，内心感到无比afraid。他的手微微颤抖，但当他抬头望向托尼那坚定的眼神时，心中又涌起一股勇气，仿佛有了对抗黑暗的力量。', 'options': [{'text': '恐惧', 'isCorrect': 'false', 'nextScene': -1}, {'text': '害怕', 'isCorrect': 'true', 'nextScene': 9}, {'text': '担忧', 'isCorrect': 'false', 'nextScene': -1}], 'npcName': '绿皮书', 'npcAvatar': 'http://snjxzerf4.hn-bkt.clouddn.com/avatar/lvpishu.jpeg', 'backgroundVideo': 'http://snjxzerf4.hn-bkt.clouddn.com/video/lvpishu.mp4'}, {'word': 'punish', 'dialog': '当唐因为违反种族隔离规定而被警察恶意punish时，托尼毫不犹豫地站了出来。他用机智和勇气化解了危机，那一刻，他的身影在唐眼中显得无比高大，仿佛一座不可逾越的山峰。', 'options': [{'text': '惩罚', 'isCorrect': 'true', 'nextScene': 10}, {'text': '处罚', 'isCorrect': 'false', 'nextScene': -1}, {'text': '责罚', 'isCorrect': 'false', 'nextScene': -1}], 'npcName': '绿皮书', 'npcAvatar': 'http://snjxzerf4.hn-bkt.clouddn.com/avatar/lvpishu.jpeg', 'backgroundVideo': 'http://snjxzerf4.hn-bkt.clouddn.com/video/lvpishu.mp4'}, {'word': 'none', 'dialog': '恭喜你完成了游戏的所有关卡，点击重玩游戏，重新开始游戏', 'options': [{'text': '重玩游戏', 'isCorrect': 'true', 'nextScene': 0}], 'npcName': '绿皮书', 'npcAvatar': 'http://snjxzerf4.hn-bkt.clouddn.com/avatar/lvpishu.jpeg', 'backgroundVideo': 'http://snjxzerf4.hn-bkt.clouddn.com/video/lvpishu.mp4'}]\n"
     ]
    }
   ],
   "source": [
    "print(background_video_json_data)\n"
   ]
  },
  {
   "cell_type": "code",
   "execution_count": null,
   "metadata": {},
   "outputs": [],
   "source": []
  }
 ],
 "metadata": {
  "kernelspec": {
   "display_name": "Python 3",
   "language": "python",
   "name": "python3"
  },
  "language_info": {
   "codemirror_mode": {
    "name": "ipython",
    "version": 3
   },
   "file_extension": ".py",
   "mimetype": "text/x-python",
   "name": "python",
   "nbconvert_exporter": "python",
   "pygments_lexer": "ipython3",
   "version": "3.9.20"
  }
 },
 "nbformat": 4,
 "nbformat_minor": 0
}
