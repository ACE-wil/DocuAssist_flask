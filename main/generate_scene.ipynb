{
 "cells": [
  {
   "cell_type": "code",
   "execution_count": 1,
   "metadata": {
    "collapsed": true
   },
   "outputs": [],
   "source": [
    "from pathlib import Path\n",
    "import json\n",
    "from zhipuai import ZhipuAI\n",
    "\n",
    "# 填写您自己的APIKey\n",
    "client = ZhipuAI(api_key=\"b18f84a0d131140efa1e5f8b3641bd78.9MuoykZ6Ypnf9Nrh\")\n"
   ]
  },
  {
   "cell_type": "code",
   "execution_count": 2,
   "metadata": {
    "collapsed": false
   },
   "outputs": [],
   "source": [
    "messages_preset = []"
   ]
  },
  {
   "cell_type": "code",
   "execution_count": 3,
   "metadata": {},
   "outputs": [],
   "source": [
    "# 预设 电影信息/npc信息 提示词"
   ]
  },
  {
   "cell_type": "code",
   "execution_count": 4,
   "metadata": {},
   "outputs": [],
   "source": [
    "moviesName = '绿皮书'"
   ]
  },
  {
   "cell_type": "code",
   "execution_count": 5,
   "metadata": {},
   "outputs": [],
   "source": [
    "words_array = ['access','accessory','accident','accidental','accompany','accomplish','accord','accordance','afraid','punish']\n"
   ]
  },
  {
   "cell_type": "code",
   "execution_count": 6,
   "metadata": {},
   "outputs": [],
   "source": [
    "assistant_preset = [\n",
    "    {\n",
    "    \"npcName\":\"绿皮书\",\n",
    "    \"content\":\"\"\"你是月光仙子，你现在需要带领用户遨游在绿皮书世界，接受用户单词的同时高效地教会用户单词。\n",
    "    可以拿具体某一部电影来说，而不是一直切换电影，并以json形式储存,示例:\n",
    "    [{\"word\":\"access\",\"dialog\":\"在《千与千寻》中，千寻意外地进入了一个神秘的世界，她需要找到通往这个世界的access以返回现实。\"},\n",
    "    {\"word\":\"accessory\",\"dialog\":\"电影中的无脸男可以被视为千寻冒险中的一个accessory，因为他在某些情况下帮助了她。\"}]；\n",
    "    注意：对话中文夹杂英文单词，不要有中文提示，不理解可以看我示例里面的dialog\"\"\",\n",
    "    \"npcAvatar\":\"http://cdn.docuparser.top/avatar/lvpishu.jpeg\",\n",
    "    \"backgroundVideo\":\"http://cdn.docuparser.top/video/lvpishu.mp4\"\n",
    "    },\n",
    "    {\n",
    "    \"npcName\":\"千与千寻\",\n",
    "    \"content\":\"\"\"你是月光仙子，你现在需要带领用户遨游在宫崎骏笔下的千与千寻的世界，接受用户单词的同时高效地教会用户单词。\n",
    "    可以拿具体某一部电影来说，而不是一直切换电影，并以json形式储存,示例:\n",
    "    [{\"word\":\"access\",\"dialog\":\"在《千与千寻》中，千寻意外地进入了一个神秘的世界，她需要找到通往这个世界的access以返回现实。\"},\n",
    "    {\"word\":\"accessory\",\"dialog\":\"电影中的无脸男可以被视为千寻冒险中的一个accessory，因为他在某些情况下帮助了她。\"}]；\n",
    "    注意：对话中文夹杂英文单词，不要有中文提示，不理解可以看我示例里面的dialog\"\"\",\n",
    "    \"npcAvatar\":\"http://cdn.docuparser.top/avatar/gongqijun.jpg\",\n",
    "    \"backgroundVideo\":\"http://cdn.docuparser.top/video/qianyuqianxun.mp4\"  \n",
    "    }\n",
    "    ]\n"
   ]
  },
  {
   "cell_type": "code",
   "execution_count": 7,
   "metadata": {
    "collapsed": false
   },
   "outputs": [],
   "source": [
    "# 使用列表解析查找npcName为moviesName的内容\n",
    "npc_content = next((item[\"content\"] for item in assistant_preset if item[\"npcName\"] == moviesName), None)\n",
    "\n",
    "if npc_content:\n",
    "    messages_preset.append({\n",
    "        \"role\": \"assistant\",\n",
    "        \"content\": str(npc_content)\n",
    "    })\n",
    "\n",
    "messages_preset.append({\n",
    "    \"role\": \"user\",\n",
    "    \"content\": str(words_array)\n",
    "})\n",
    "\n",
    "response = client.chat.completions.create(\n",
    "    model=\"glm-4-plus\",\n",
    "    messages=messages_preset\n",
    ")"
   ]
  },
  {
   "cell_type": "code",
   "execution_count": 8,
   "metadata": {
    "collapsed": false
   },
   "outputs": [
    {
     "name": "stdout",
     "output_type": "stream",
     "text": [
      "开始生成带单词句子\n",
      "```json\n",
      "[\n",
      "    {\n",
      "        \"word\": \"access\",\n",
      "        \"dialog\": \"在《绿皮书》中，托尼需要找到进入黑人酒吧的access，以便\n",
      "```json\n",
      "[\n",
      "    {\n",
      "        \"word\": \"access\",\n",
      "        \"dialog\":：在《绿皮书》中，托尼\n",
      "```json\n",
      "[\n",
      "    {\n",
      "        \"word\": \"access\n",
      "```json\n",
      "```json\n",
      "[\n",
      "    {\n",
      "        \"word\": \"access\",\n",
      "        \"dialog\": \"在《绿皮书》中，托尼需要找到进入黑人酒吧的access\n",
      "```json\n",
      "[\n",
      "    {\n",
      "        \"word\": \"access\",\n",
      "        \"dialog\": \"在《绿皮书》中，托尼需要找到进入黑人酒吧的access，以便更好地了解当地文化。\"\n",
      "    },\n",
      "    {\n",
      "        \"word\": \"accessory\",\n",
      "        \"dialog\": \"电影中的绿皮书不仅是托尼的行车\n",
      "带单词句子生成完成\n"
     ]
    }
   ],
   "source": [
    "print('开始生成带单词句子')\n",
    "word_sentence = response.choices[0].message.content\n",
    "print(word_sentence)\n",
    "print('带单词句子生成完成')"
   ]
  },
  {
   "cell_type": "code",
   "execution_count": 9,
   "metadata": {
    "collapsed": false
   },
   "outputs": [],
   "source": [
    "messages_preset.append({\n",
    "    \"role\": \"assistant\",\n",
    "    \"content\": f\"{word_sentence}\"\n",
    "})\n",
    "messages_preset.append({\n",
    "    \"role\": \"user\",\n",
    "    \"content\": \"基于这个json进行将每个对话丰富一下情感和故事性\"\n",
    "})\n",
    "response = client.chat.completions.create(\n",
    "    model=\"glm-4-plus\",\n",
    "    messages=messages_preset\n",
    ")"
   ]
  },
  {
   "cell_type": "code",
   "execution_count": 10,
   "metadata": {
    "collapsed": false
   },
   "outputs": [
    {
     "name": "stdout",
     "output_type": "stream",
     "text": [
      "开始生成更长的句子\n",
      "```json\n",
      "[\n",
      "    {\n",
      "        \"word\": \"access\",\n",
      "        \"dialog\": \"在《绿皮书》中，托尼站在黑人酒吧的门外，心中忐忑不安。他知道，只有找到进入这个世界的access，才能真正理解唐雪利的音乐和生活。那一刻，他深吸一口气，推开了那扇通往新世界的门。\"\n",
      "    },\n",
      "    {\n",
      "        \"word\": \"accessory\",\n",
      "        \"dialog\": \"电影中的绿皮书不仅是托尼的行车指南，更是他旅途中的忠实accessory。每当夜深人静，托尼总会翻阅它，仿佛在这本小册子里，能找到前行的勇气和智慧。\"\n",
      "    },\n",
      "    {\n",
      "        \"word\": \"accident\",\n",
      "        \"dialog\": \"一次意外的accident让托尼和唐雪利在乡间小路上被迫停下。在等待救援的漫长时间里，两人从最初的尴尬沉默，到后来的坦诚相谈，这段意外的旅程，竟成为了他们友谊的开端。\"\n",
      "    },\n",
      "    {\n",
      "        \"word\": \"accidental\",\n",
      "        \"dialog\": \"托尼在加油站的一次accidental发现，让唐雪利得以在南方小镇上享用了一顿久违的家乡美食。那一刻，两人眼中都闪烁着惊喜的光芒，仿佛这场意外的邂逅，是命运最美的安排。\"\n",
      "    },\n",
      "    {\n",
      "        \"word\": \"accompany\",\n",
      "        \"dialog\": \"在唐雪利的钢琴独奏会上，托尼静静地坐在台下，用目光accompany着每一个音符的起伏。他从未想过，自己会如此投入地聆听一场古典音乐会，更未想过，这段旅程会让他对音乐有了全新的理解。\"\n",
      "    },\n",
      "    {\n",
      "        \"word\": \"accomplish\",\n",
      "        \"dialog\": \"当唐雪利在南方庄园的舞台上，优雅地弹奏完最后一曲，全场爆发出雷鸣般的掌声。那一刻，托尼心中涌起一股强烈的自豪感，他们一起accomplish了一场看似不可能的演出。\"\n",
      "    },\n",
      "    {\n",
      "        \"word\": \"accord\",\n",
      "        \"dialog\": \"在旅途中，托尼和唐雪利逐渐学会了在彼此的生活习惯和价值观中找到accord。尽管他们的世界看似截然不同，但在这段共同的旅程中，他们发现，理解和尊重才是最宝贵的和谐。\"\n",
      "    },\n",
      "    {\n",
      "        \"word\": \"accordance\",\n",
      "        \"dialog\": \"每当遇到种族歧视的困境，托尼总是严格按照绿皮书中的指示行事，以确保唐雪利的安全。这种对规则的严格遵守，不仅是对法律的尊重，更是对朋友深深的关爱和accordance。\"\n",
      "    },\n",
      "    {\n",
      "        \"word\": \"afraid\",\n",
      "        \"dialog\": \"在南方小镇的夜晚，托尼独自走在回旅馆的路上，心中不禁有些afraid。他知道，这里的种族偏见如同一只无形的猛兽，随时可能对他们发起攻击。但想到唐雪利还在等他，他咬紧牙关，加快了脚步。\"\n",
      "    },\n",
      "    {\n",
      "        \"word\": \"punish\",\n",
      "        \"dialog\": \"当托尼因为维护唐雪利的尊严而与当地警察发生冲突时，他毫不畏惧地面对可能的punish。那一刻，他不再是那个粗鲁的夜总会保安，而是一个勇敢捍卫正义的战士。\"\n",
      "    }\n",
      "]\n",
      "```\n",
      "更长句子生成完成\n"
     ]
    }
   ],
   "source": [
    "print('开始生成更长的句子')\n",
    "word_long_sentence = response.choices[0].message.content\n",
    "print(word_long_sentence)\n",
    "print('更长句子生成完成')"
   ]
  },
  {
   "cell_type": "code",
   "execution_count": 11,
   "metadata": {
    "collapsed": false
   },
   "outputs": [],
   "source": [
    "messages_preset.append({\n",
    "    \"role\": \"assistant\",\n",
    "    \"content\": f\"{word_long_sentence}\"\n",
    "})\n",
    "messages_preset.append({\n",
    "    \"role\": \"user\",\n",
    "    \"content\": \"\"\"\n",
    "    基于这个json进行给每个小json加选项，2个混淆翻译和1个正确翻译，正确翻译要符合语境，而不是脱离语境的翻译，options格式如下：options: [\n",
    "        { text: \"入口\", isCorrect: True },\n",
    "        { text: \"通道\", isCorrect: False  },\n",
    "        { text: \"接近\", isCorrect: False  },\n",
    "      ],\n",
    "      \"\"\"\n",
    "})\n",
    "response = client.chat.completions.create(\n",
    "    model=\"glm-4-plus\",\n",
    "    messages=messages_preset\n",
    ")"
   ]
  },
  {
   "cell_type": "code",
   "execution_count": 12,
   "metadata": {
    "collapsed": false
   },
   "outputs": [
    {
     "name": "stdout",
     "output_type": "stream",
     "text": [
      "开始给每个内容加选项\n",
      "```json\n",
      "[\n",
      "    {\n",
      "        \"word\": \"access\",\n",
      "        \"dialog\": \"在《绿皮书》中，托尼站在黑人酒吧的门外，心中忐忑不安。他知道，只有找到进入这个世界的access，才能真正理解唐雪利的音乐和生活。那一刻，他深吸一口气，推开了那扇通往新世界的门。\",\n",
      "        \"options\": [\n",
      "            { \"text\": \"入口\", \"isCorrect\": true },\n",
      "            { \"text\": \"通道\", \"isCorrect\": false },\n",
      "            { \"text\": \"接近\", \"isCorrect\": false }\n",
      "        ]\n",
      "    },\n",
      "    {\n",
      "        \"word\": \"accessory\",\n",
      "        \"dialog\": \"电影中的绿皮书不仅是托尼的行车指南，更是他旅途中的忠实accessory。每当夜深人静，托尼总会翻阅它，仿佛在这本小册子里，能找到前行的勇气和智慧。\",\n",
      "        \"options\": [\n",
      "            { \"text\": \"附件\", \"isCorrect\": false },\n",
      "            { \"text\": \"配件\", \"isCorrect\": false },\n",
      "            { \"text\": \"辅助工具\", \"isCorrect\": true }\n",
      "        ]\n",
      "    },\n",
      "    {\n",
      "        \"word\": \"accident\",\n",
      "        \"dialog\": \"一次意外的accident让托尼和唐雪利在乡间小路上被迫停下。在等待救援的漫长时间里，两人从最初的尴尬沉默，到后来的坦诚相谈，这段意外的旅程，竟成为了他们友谊的开端。\",\n",
      "        \"options\": [\n",
      "            { \"text\": \"事故\", \"isCorrect\": true },\n",
      "            { \"text\": \"意外\", \"isCorrect\": false },\n",
      "            { \"text\": \"事件\", \"isCorrect\": false }\n",
      "        ]\n",
      "    },\n",
      "    {\n",
      "        \"word\": \"accidental\",\n",
      "        \"dialog\": \"托尼在加油站的一次accidental发现，让唐雪利得以在南方小镇上享用了一顿久违的家乡美食。那一刻，两人眼中都闪烁着惊喜的光芒，仿佛这场意外的邂逅，是命运最美的安排。\",\n",
      "        \"options\": [\n",
      "            { \"text\": \"偶然的\", \"isCorrect\": true },\n",
      "            { \"text\": \"意外的\", \"isCorrect\": false },\n",
      "            { \"text\": \"无意的\", \"isCorrect\": false }\n",
      "        ]\n",
      "    },\n",
      "    {\n",
      "        \"word\": \"accompany\",\n",
      "        \"dialog\": \"在唐雪利的钢琴独奏会上，托尼静静地坐在台下，用目光accompany着每一个音符的起伏。他从未想过，自己会如此投入地聆听一场古典音乐会，更未想过，这段旅程会让他对音乐有了全新的理解。\",\n",
      "        \"options\": [\n",
      "            { \"text\": \"陪伴\", \"isCorrect\": true },\n",
      "            { \"text\": \"跟随\", \"isCorrect\": false },\n",
      "            { \"text\": \"陪同\", \"isCorrect\": false }\n",
      "        ]\n",
      "    },\n",
      "    {\n",
      "        \"word\": \"accomplish\",\n",
      "        \"dialog\": \"当唐雪利在南方庄园的舞台上，优雅地弹奏完最后一曲，全场爆发出雷鸣般的掌声。那一刻，托尼心中涌起一股强烈的自豪感，他们一起accomplish了一场看似不可能的演出。\",\n",
      "        \"options\": [\n",
      "            { \"text\": \"完成\", \"isCorrect\": true },\n",
      "            { \"text\": \"实现\", \"isCorrect\": false },\n",
      "            { \"text\": \"达成\", \"isCorrect\": false }\n",
      "        ]\n",
      "    },\n",
      "    {\n",
      "        \"word\": \"accord\",\n",
      "        \"dialog\": \"在旅途中，托尼和唐雪利逐渐学会了在彼此的生活习惯和价值观中找到accord。尽管他们的世界看似截然不同，但在这段共同的旅程中，他们发现，理解和尊重才是最宝贵的和谐。\",\n",
      "        \"options\": [\n",
      "            { \"text\": \"和谐\", \"isCorrect\": true },\n",
      "            { \"text\": \"一致\", \"isCorrect\": false },\n",
      "            { \"text\": \"协议\", \"isCorrect\": false }\n",
      "        ]\n",
      "    },\n",
      "    {\n",
      "        \"word\": \"accordance\",\n",
      "        \"dialog\": \"每当遇到种族歧视的困境，托尼总是严格按照绿皮书中的指示行事，以确保唐雪利的安全。这种对规则的严格遵守，不仅是对法律的尊重，更是对朋友深深的关爱和accordance。\",\n",
      "        \"options\": [\n",
      "            { \"text\": \"遵守\", \"isCorrect\": true },\n",
      "            { \"text\": \"根据\", \"isCorrect\": false },\n",
      "            { \"text\": \"依照\", \"isCorrect\": false }\n",
      "        ]\n",
      "    },\n",
      "    {\n",
      "        \"word\": \"afraid\",\n",
      "        \"dialog\": \"在南方小镇的夜晚，托尼独自走在回旅馆的路上，心中不禁有些afraid。他知道，这里的种族偏见如同一只无形的猛兽，随时可能对他们发起攻击。但想到唐雪利还在等他，他咬紧牙关，加快了脚步。\",\n",
      "        \"options\": [\n",
      "            { \"text\": \"害怕\", \"isCorrect\": true },\n",
      "            { \"text\": \"恐惧\", \"isCorrect\": false },\n",
      "            { \"text\": \"担忧\", \"isCorrect\": false }\n",
      "        ]\n",
      "    },\n",
      "    {\n",
      "        \"word\": \"punish\",\n",
      "        \"dialog\": \"当托尼因为维护唐雪利的尊严而与当地警察发生冲突时，他毫不畏惧地面对可能的punish。那一刻，他不再是那个粗鲁的夜总会保安，而是一个勇敢捍卫正义的战士。\",\n",
      "        \"options\": [\n",
      "            { \"text\": \"惩罚\", \"isCorrect\": true },\n",
      "            { \"text\": \"处罚\", \"isCorrect\": false },\n",
      "            { \"text\": \"制裁\", \"isCorrect\": false }\n",
      "        ]\n",
      "    }\n",
      "]\n",
      "```\n",
      "给每个内容加选项完成\n"
     ]
    }
   ],
   "source": [
    "print('开始给每个内容加选项')\n",
    "add_options = response.choices[0].message.content\n",
    "print(add_options)\n",
    "print('给每个内容加选项完成')"
   ]
  },
  {
   "cell_type": "code",
   "execution_count": 13,
   "metadata": {
    "collapsed": false
   },
   "outputs": [
    {
     "name": "stdout",
     "output_type": "stream",
     "text": [
      "开始清除json多余字段\n",
      "[{'word': 'access', 'dialog': '在《绿皮书》中，托尼站在黑人酒吧的门外，心中忐忑不安。他知道，只有找到进入这个世界的access，才能真正理解唐雪利的音乐和生活。那一刻，他深吸一口气，推开了那扇通往新世界的门。', 'options': [{'text': '入口', 'isCorrect': True}, {'text': '通道', 'isCorrect': False}, {'text': '接近', 'isCorrect': False}]}, {'word': 'accessory', 'dialog': '电影中的绿皮书不仅是托尼的行车指南，更是他旅途中的忠实accessory。每当夜深人静，托尼总会翻阅它，仿佛在这本小册子里，能找到前行的勇气和智慧。', 'options': [{'text': '附件', 'isCorrect': False}, {'text': '配件', 'isCorrect': False}, {'text': '辅助工具', 'isCorrect': True}]}, {'word': 'accident', 'dialog': '一次意外的accident让托尼和唐雪利在乡间小路上被迫停下。在等待救援的漫长时间里，两人从最初的尴尬沉默，到后来的坦诚相谈，这段意外的旅程，竟成为了他们友谊的开端。', 'options': [{'text': '事故', 'isCorrect': True}, {'text': '意外', 'isCorrect': False}, {'text': '事件', 'isCorrect': False}]}, {'word': 'accidental', 'dialog': '托尼在加油站的一次accidental发现，让唐雪利得以在南方小镇上享用了一顿久违的家乡美食。那一刻，两人眼中都闪烁着惊喜的光芒，仿佛这场意外的邂逅，是命运最美的安排。', 'options': [{'text': '偶然的', 'isCorrect': True}, {'text': '意外的', 'isCorrect': False}, {'text': '无意的', 'isCorrect': False}]}, {'word': 'accompany', 'dialog': '在唐雪利的钢琴独奏会上，托尼静静地坐在台下，用目光accompany着每一个音符的起伏。他从未想过，自己会如此投入地聆听一场古典音乐会，更未想过，这段旅程会让他对音乐有了全新的理解。', 'options': [{'text': '陪伴', 'isCorrect': True}, {'text': '跟随', 'isCorrect': False}, {'text': '陪同', 'isCorrect': False}]}, {'word': 'accomplish', 'dialog': '当唐雪利在南方庄园的舞台上，优雅地弹奏完最后一曲，全场爆发出雷鸣般的掌声。那一刻，托尼心中涌起一股强烈的自豪感，他们一起accomplish了一场看似不可能的演出。', 'options': [{'text': '完成', 'isCorrect': True}, {'text': '实现', 'isCorrect': False}, {'text': '达成', 'isCorrect': False}]}, {'word': 'accord', 'dialog': '在旅途中，托尼和唐雪利逐渐学会了在彼此的生活习惯和价值观中找到accord。尽管他们的世界看似截然不同，但在这段共同的旅程中，他们发现，理解和尊重才是最宝贵的和谐。', 'options': [{'text': '和谐', 'isCorrect': True}, {'text': '一致', 'isCorrect': False}, {'text': '协议', 'isCorrect': False}]}, {'word': 'accordance', 'dialog': '每当遇到种族歧视的困境，托尼总是严格按照绿皮书中的指示行事，以确保唐雪利的安全。这种对规则的严格遵守，不仅是对法律的尊重，更是对朋友深深的关爱和accordance。', 'options': [{'text': '遵守', 'isCorrect': True}, {'text': '根据', 'isCorrect': False}, {'text': '依照', 'isCorrect': False}]}, {'word': 'afraid', 'dialog': '在南方小镇的夜晚，托尼独自走在回旅馆的路上，心中不禁有些afraid。他知道，这里的种族偏见如同一只无形的猛兽，随时可能对他们发起攻击。但想到唐雪利还在等他，他咬紧牙关，加快了脚步。', 'options': [{'text': '害怕', 'isCorrect': True}, {'text': '恐惧', 'isCorrect': False}, {'text': '担忧', 'isCorrect': False}]}, {'word': 'punish', 'dialog': '当托尼因为维护唐雪利的尊严而与当地警察发生冲突时，他毫不畏惧地面对可能的punish。那一刻，他不再是那个粗鲁的夜总会保安，而是一个勇敢捍卫正义的战士。', 'options': [{'text': '惩罚', 'isCorrect': True}, {'text': '处罚', 'isCorrect': False}, {'text': '制裁', 'isCorrect': False}]}]\n",
      "完成清除json多余字段\n"
     ]
    }
   ],
   "source": [
    "print('开始清除json多余字段')\n",
    "clear_json_data = json.loads(add_options.replace(\"```json\", \"\").replace(\"```\", \"\").strip())\n",
    "print(clear_json_data)\n",
    "print('完成清除json多余字段')"
   ]
  },
  {
   "cell_type": "code",
   "execution_count": 14,
   "metadata": {
    "collapsed": false
   },
   "outputs": [
    {
     "name": "stdout",
     "output_type": "stream",
     "text": [
      "开始选项随机操作\n",
      "Word: access\n",
      "Translation: 通道, Correct: False\n",
      "Translation: 入口, Correct: True\n",
      "Translation: 接近, Correct: False\n",
      "--------------------------------------------------\n",
      "Word: accessory\n",
      "Translation: 辅助工具, Correct: True\n",
      "Translation: 附件, Correct: False\n",
      "Translation: 配件, Correct: False\n",
      "--------------------------------------------------\n",
      "Word: accident\n",
      "Translation: 事件, Correct: False\n",
      "Translation: 意外, Correct: False\n",
      "Translation: 事故, Correct: True\n",
      "--------------------------------------------------\n",
      "Word: accidental\n",
      "Translation: 无意的, Correct: False\n",
      "Translation: 偶然的, Correct: True\n",
      "Translation: 意外的, Correct: False\n",
      "--------------------------------------------------\n",
      "Word: accompany\n",
      "Translation: 跟随, Correct: False\n",
      "Translation: 陪同, Correct: False\n",
      "Translation: 陪伴, Correct: True\n",
      "--------------------------------------------------\n",
      "Word: accomplish\n",
      "Translation: 实现, Correct: False\n",
      "Translation: 达成, Correct: False\n",
      "Translation: 完成, Correct: True\n",
      "--------------------------------------------------\n",
      "Word: accord\n",
      "Translation: 协议, Correct: False\n",
      "Translation: 和谐, Correct: True\n",
      "Translation: 一致, Correct: False\n",
      "--------------------------------------------------\n",
      "Word: accordance\n",
      "Translation: 根据, Correct: False\n",
      "Translation: 遵守, Correct: True\n",
      "Translation: 依照, Correct: False\n",
      "--------------------------------------------------\n",
      "Word: afraid\n",
      "Translation: 担忧, Correct: False\n",
      "Translation: 害怕, Correct: True\n",
      "Translation: 恐惧, Correct: False\n",
      "--------------------------------------------------\n",
      "Word: punish\n",
      "Translation: 惩罚, Correct: True\n",
      "Translation: 处罚, Correct: False\n",
      "Translation: 制裁, Correct: False\n",
      "--------------------------------------------------\n",
      "完成选项随机操作\n"
     ]
    }
   ],
   "source": [
    "print('开始选项随机操作')\n",
    "\n",
    "import random\n",
    "\n",
    "# 为每个条目的options列表随机打乱顺序\n",
    "for item in clear_json_data:\n",
    "    random.shuffle(item[\"options\"])\n",
    "\n",
    "# 打印结果以验证\n",
    "for item in clear_json_data:\n",
    "    print(f\"Word: {item['word']}\")\n",
    "    for option in item['options']:\n",
    "        print(f\"Translation: {option['text']}, Correct: {option['isCorrect']}\")\n",
    "    print(\"-\" * 50)\n",
    "\n",
    "random_json_data = clear_json_data\n",
    "print('完成选项随机操作')"
   ]
  },
  {
   "cell_type": "code",
   "execution_count": 15,
   "metadata": {
    "collapsed": false
   },
   "outputs": [
    {
     "name": "stdout",
     "output_type": "stream",
     "text": [
      "[{'word': 'access', 'dialog': '在《绿皮书》中，托尼站在黑人酒吧的门外，心中忐忑不安。他知道，只有找到进入这个世界的access，才能真正理解唐雪利的音乐和生活。那一刻，他深吸一口气，推开了那扇通往新世界的门。', 'options': [{'text': '通道', 'isCorrect': False}, {'text': '入口', 'isCorrect': True}, {'text': '接近', 'isCorrect': False}]}, {'word': 'accessory', 'dialog': '电影中的绿皮书不仅是托尼的行车指南，更是他旅途中的忠实accessory。每当夜深人静，托尼总会翻阅它，仿佛在这本小册子里，能找到前行的勇气和智慧。', 'options': [{'text': '辅助工具', 'isCorrect': True}, {'text': '附件', 'isCorrect': False}, {'text': '配件', 'isCorrect': False}]}, {'word': 'accident', 'dialog': '一次意外的accident让托尼和唐雪利在乡间小路上被迫停下。在等待救援的漫长时间里，两人从最初的尴尬沉默，到后来的坦诚相谈，这段意外的旅程，竟成为了他们友谊的开端。', 'options': [{'text': '事件', 'isCorrect': False}, {'text': '意外', 'isCorrect': False}, {'text': '事故', 'isCorrect': True}]}, {'word': 'accidental', 'dialog': '托尼在加油站的一次accidental发现，让唐雪利得以在南方小镇上享用了一顿久违的家乡美食。那一刻，两人眼中都闪烁着惊喜的光芒，仿佛这场意外的邂逅，是命运最美的安排。', 'options': [{'text': '无意的', 'isCorrect': False}, {'text': '偶然的', 'isCorrect': True}, {'text': '意外的', 'isCorrect': False}]}, {'word': 'accompany', 'dialog': '在唐雪利的钢琴独奏会上，托尼静静地坐在台下，用目光accompany着每一个音符的起伏。他从未想过，自己会如此投入地聆听一场古典音乐会，更未想过，这段旅程会让他对音乐有了全新的理解。', 'options': [{'text': '跟随', 'isCorrect': False}, {'text': '陪同', 'isCorrect': False}, {'text': '陪伴', 'isCorrect': True}]}, {'word': 'accomplish', 'dialog': '当唐雪利在南方庄园的舞台上，优雅地弹奏完最后一曲，全场爆发出雷鸣般的掌声。那一刻，托尼心中涌起一股强烈的自豪感，他们一起accomplish了一场看似不可能的演出。', 'options': [{'text': '实现', 'isCorrect': False}, {'text': '达成', 'isCorrect': False}, {'text': '完成', 'isCorrect': True}]}, {'word': 'accord', 'dialog': '在旅途中，托尼和唐雪利逐渐学会了在彼此的生活习惯和价值观中找到accord。尽管他们的世界看似截然不同，但在这段共同的旅程中，他们发现，理解和尊重才是最宝贵的和谐。', 'options': [{'text': '协议', 'isCorrect': False}, {'text': '和谐', 'isCorrect': True}, {'text': '一致', 'isCorrect': False}]}, {'word': 'accordance', 'dialog': '每当遇到种族歧视的困境，托尼总是严格按照绿皮书中的指示行事，以确保唐雪利的安全。这种对规则的严格遵守，不仅是对法律的尊重，更是对朋友深深的关爱和accordance。', 'options': [{'text': '根据', 'isCorrect': False}, {'text': '遵守', 'isCorrect': True}, {'text': '依照', 'isCorrect': False}]}, {'word': 'afraid', 'dialog': '在南方小镇的夜晚，托尼独自走在回旅馆的路上，心中不禁有些afraid。他知道，这里的种族偏见如同一只无形的猛兽，随时可能对他们发起攻击。但想到唐雪利还在等他，他咬紧牙关，加快了脚步。', 'options': [{'text': '担忧', 'isCorrect': False}, {'text': '害怕', 'isCorrect': True}, {'text': '恐惧', 'isCorrect': False}]}, {'word': 'punish', 'dialog': '当托尼因为维护唐雪利的尊严而与当地警察发生冲突时，他毫不畏惧地面对可能的punish。那一刻，他不再是那个粗鲁的夜总会保安，而是一个勇敢捍卫正义的战士。', 'options': [{'text': '惩罚', 'isCorrect': True}, {'text': '处罚', 'isCorrect': False}, {'text': '制裁', 'isCorrect': False}]}]\n"
     ]
    }
   ],
   "source": [
    "print(random_json_data)"
   ]
  },
  {
   "cell_type": "code",
   "execution_count": 16,
   "metadata": {
    "collapsed": false
   },
   "outputs": [
    {
     "name": "stdout",
     "output_type": "stream",
     "text": [
      "开始添加下个场景字段\n",
      "Word: access\n",
      "Translation: 通道, Correct: False, NextScene: -1\n",
      "Translation: 入口, Correct: True, NextScene: 1\n",
      "Translation: 接近, Correct: False, NextScene: -1\n",
      "--------------------------------------------------\n",
      "Word: accessory\n",
      "Translation: 辅助工具, Correct: True, NextScene: 2\n",
      "Translation: 附件, Correct: False, NextScene: -1\n",
      "Translation: 配件, Correct: False, NextScene: -1\n",
      "--------------------------------------------------\n",
      "Word: accident\n",
      "Translation: 事件, Correct: False, NextScene: -1\n",
      "Translation: 意外, Correct: False, NextScene: -1\n",
      "Translation: 事故, Correct: True, NextScene: 3\n",
      "--------------------------------------------------\n",
      "Word: accidental\n",
      "Translation: 无意的, Correct: False, NextScene: -1\n",
      "Translation: 偶然的, Correct: True, NextScene: 4\n",
      "Translation: 意外的, Correct: False, NextScene: -1\n",
      "--------------------------------------------------\n",
      "Word: accompany\n",
      "Translation: 跟随, Correct: False, NextScene: -1\n",
      "Translation: 陪同, Correct: False, NextScene: -1\n",
      "Translation: 陪伴, Correct: True, NextScene: 5\n",
      "--------------------------------------------------\n",
      "Word: accomplish\n",
      "Translation: 实现, Correct: False, NextScene: -1\n",
      "Translation: 达成, Correct: False, NextScene: -1\n",
      "Translation: 完成, Correct: True, NextScene: 6\n",
      "--------------------------------------------------\n",
      "Word: accord\n",
      "Translation: 协议, Correct: False, NextScene: -1\n",
      "Translation: 和谐, Correct: True, NextScene: 7\n",
      "Translation: 一致, Correct: False, NextScene: -1\n",
      "--------------------------------------------------\n",
      "Word: accordance\n",
      "Translation: 根据, Correct: False, NextScene: -1\n",
      "Translation: 遵守, Correct: True, NextScene: 8\n",
      "Translation: 依照, Correct: False, NextScene: -1\n",
      "--------------------------------------------------\n",
      "Word: afraid\n",
      "Translation: 担忧, Correct: False, NextScene: -1\n",
      "Translation: 害怕, Correct: True, NextScene: 9\n",
      "Translation: 恐惧, Correct: False, NextScene: -1\n",
      "--------------------------------------------------\n",
      "Word: punish\n",
      "Translation: 惩罚, Correct: True, NextScene: 10\n",
      "Translation: 处罚, Correct: False, NextScene: -1\n",
      "Translation: 制裁, Correct: False, NextScene: -1\n",
      "--------------------------------------------------\n",
      "添加下个场景字段完成\n"
     ]
    }
   ],
   "source": [
    "print('开始添加下个场景字段')\n",
    "# 为每个条目的options列表添加nextScene\n",
    "i = 1\n",
    "for item in random_json_data:\n",
    "    for option in item['options']:\n",
    "        if option['isCorrect']:\n",
    "            option['nextScene'] = i\n",
    "            i += 1\n",
    "        else:\n",
    "            option['nextScene'] = -1\n",
    "            \n",
    "# 打印结果以验证\n",
    "for item in random_json_data:\n",
    "    print(f\"Word: {item['word']}\")\n",
    "    for option in item['options']:\n",
    "        print(f\"Translation: {option['text']}, Correct: {option['isCorrect']}, NextScene: {option.get('nextScene', 'N/A')}\")\n",
    "    print(\"-\" * 50)\n",
    "next_scene_json_data = random_json_data\n",
    "print('添加下个场景字段完成')\n"
   ]
  },
  {
   "cell_type": "code",
   "execution_count": 17,
   "metadata": {},
   "outputs": [
    {
     "name": "stdout",
     "output_type": "stream",
     "text": [
      "在json中添加npcName字段\n",
      "Word: access, NPC Name: 绿皮书\n",
      "Translation: 通道, Correct: False, NextScene: -1\n",
      "Translation: 入口, Correct: True, NextScene: 1\n",
      "Translation: 接近, Correct: False, NextScene: -1\n",
      "--------------------------------------------------\n",
      "Word: accessory, NPC Name: 绿皮书\n",
      "Translation: 辅助工具, Correct: True, NextScene: 2\n",
      "Translation: 附件, Correct: False, NextScene: -1\n",
      "Translation: 配件, Correct: False, NextScene: -1\n",
      "--------------------------------------------------\n",
      "Word: accident, NPC Name: 绿皮书\n",
      "Translation: 事件, Correct: False, NextScene: -1\n",
      "Translation: 意外, Correct: False, NextScene: -1\n",
      "Translation: 事故, Correct: True, NextScene: 3\n",
      "--------------------------------------------------\n",
      "Word: accidental, NPC Name: 绿皮书\n",
      "Translation: 无意的, Correct: False, NextScene: -1\n",
      "Translation: 偶然的, Correct: True, NextScene: 4\n",
      "Translation: 意外的, Correct: False, NextScene: -1\n",
      "--------------------------------------------------\n",
      "Word: accompany, NPC Name: 绿皮书\n",
      "Translation: 跟随, Correct: False, NextScene: -1\n",
      "Translation: 陪同, Correct: False, NextScene: -1\n",
      "Translation: 陪伴, Correct: True, NextScene: 5\n",
      "--------------------------------------------------\n",
      "Word: accomplish, NPC Name: 绿皮书\n",
      "Translation: 实现, Correct: False, NextScene: -1\n",
      "Translation: 达成, Correct: False, NextScene: -1\n",
      "Translation: 完成, Correct: True, NextScene: 6\n",
      "--------------------------------------------------\n",
      "Word: accord, NPC Name: 绿皮书\n",
      "Translation: 协议, Correct: False, NextScene: -1\n",
      "Translation: 和谐, Correct: True, NextScene: 7\n",
      "Translation: 一致, Correct: False, NextScene: -1\n",
      "--------------------------------------------------\n",
      "Word: accordance, NPC Name: 绿皮书\n",
      "Translation: 根据, Correct: False, NextScene: -1\n",
      "Translation: 遵守, Correct: True, NextScene: 8\n",
      "Translation: 依照, Correct: False, NextScene: -1\n",
      "--------------------------------------------------\n",
      "Word: afraid, NPC Name: 绿皮书\n",
      "Translation: 担忧, Correct: False, NextScene: -1\n",
      "Translation: 害怕, Correct: True, NextScene: 9\n",
      "Translation: 恐惧, Correct: False, NextScene: -1\n",
      "--------------------------------------------------\n",
      "Word: punish, NPC Name: 绿皮书\n",
      "Translation: 惩罚, Correct: True, NextScene: 10\n",
      "Translation: 处罚, Correct: False, NextScene: -1\n",
      "Translation: 制裁, Correct: False, NextScene: -1\n",
      "--------------------------------------------------\n",
      "在json中添加npcName字段完成\n"
     ]
    }
   ],
   "source": [
    "print('在json中添加npcName字段')\n",
    "\n",
    "# 为每个条目添加npcName字段\n",
    "for item in next_scene_json_data:\n",
    "    item['npcName'] = moviesName  # 添加npcName字段\n",
    "\n",
    "# 打印结果以验证\n",
    "for item in next_scene_json_data:\n",
    "    print(f\"Word: {item['word']}, NPC Name: {item['npcName']}\")\n",
    "    for option in item['options']:\n",
    "        print(f\"Translation: {option['text']}, Correct: {option['isCorrect']}, NextScene: {option.get('nextScene', 'N/A')}\")\n",
    "    print(\"-\" * 50)\n",
    "npc_name_json_data = next_scene_json_data\n",
    "print('在json中添加npcName字段完成')"
   ]
  },
  {
   "cell_type": "code",
   "execution_count": 18,
   "metadata": {},
   "outputs": [
    {
     "name": "stdout",
     "output_type": "stream",
     "text": [
      "在json中添加npcAvatar字段\n",
      "Word: access, NPC Name: 绿皮书, NPC Avatar: http://cdn.docuparser.top/avatar/lvpishu.jpeg\n",
      "Translation: 通道, Correct: False, NextScene: -1\n",
      "Translation: 入口, Correct: True, NextScene: 1\n",
      "Translation: 接近, Correct: False, NextScene: -1\n",
      "--------------------------------------------------\n",
      "Word: accessory, NPC Name: 绿皮书, NPC Avatar: http://cdn.docuparser.top/avatar/lvpishu.jpeg\n",
      "Translation: 辅助工具, Correct: True, NextScene: 2\n",
      "Translation: 附件, Correct: False, NextScene: -1\n",
      "Translation: 配件, Correct: False, NextScene: -1\n",
      "--------------------------------------------------\n",
      "Word: accident, NPC Name: 绿皮书, NPC Avatar: http://cdn.docuparser.top/avatar/lvpishu.jpeg\n",
      "Translation: 事件, Correct: False, NextScene: -1\n",
      "Translation: 意外, Correct: False, NextScene: -1\n",
      "Translation: 事故, Correct: True, NextScene: 3\n",
      "--------------------------------------------------\n",
      "Word: accidental, NPC Name: 绿皮书, NPC Avatar: http://cdn.docuparser.top/avatar/lvpishu.jpeg\n",
      "Translation: 无意的, Correct: False, NextScene: -1\n",
      "Translation: 偶然的, Correct: True, NextScene: 4\n",
      "Translation: 意外的, Correct: False, NextScene: -1\n",
      "--------------------------------------------------\n",
      "Word: accompany, NPC Name: 绿皮书, NPC Avatar: http://cdn.docuparser.top/avatar/lvpishu.jpeg\n",
      "Translation: 跟随, Correct: False, NextScene: -1\n",
      "Translation: 陪同, Correct: False, NextScene: -1\n",
      "Translation: 陪伴, Correct: True, NextScene: 5\n",
      "--------------------------------------------------\n",
      "Word: accomplish, NPC Name: 绿皮书, NPC Avatar: http://cdn.docuparser.top/avatar/lvpishu.jpeg\n",
      "Translation: 实现, Correct: False, NextScene: -1\n",
      "Translation: 达成, Correct: False, NextScene: -1\n",
      "Translation: 完成, Correct: True, NextScene: 6\n",
      "--------------------------------------------------\n",
      "Word: accord, NPC Name: 绿皮书, NPC Avatar: http://cdn.docuparser.top/avatar/lvpishu.jpeg\n",
      "Translation: 协议, Correct: False, NextScene: -1\n",
      "Translation: 和谐, Correct: True, NextScene: 7\n",
      "Translation: 一致, Correct: False, NextScene: -1\n",
      "--------------------------------------------------\n",
      "Word: accordance, NPC Name: 绿皮书, NPC Avatar: http://cdn.docuparser.top/avatar/lvpishu.jpeg\n",
      "Translation: 根据, Correct: False, NextScene: -1\n",
      "Translation: 遵守, Correct: True, NextScene: 8\n",
      "Translation: 依照, Correct: False, NextScene: -1\n",
      "--------------------------------------------------\n",
      "Word: afraid, NPC Name: 绿皮书, NPC Avatar: http://cdn.docuparser.top/avatar/lvpishu.jpeg\n",
      "Translation: 担忧, Correct: False, NextScene: -1\n",
      "Translation: 害怕, Correct: True, NextScene: 9\n",
      "Translation: 恐惧, Correct: False, NextScene: -1\n",
      "--------------------------------------------------\n",
      "Word: punish, NPC Name: 绿皮书, NPC Avatar: http://cdn.docuparser.top/avatar/lvpishu.jpeg\n",
      "Translation: 惩罚, Correct: True, NextScene: 10\n",
      "Translation: 处罚, Correct: False, NextScene: -1\n",
      "Translation: 制裁, Correct: False, NextScene: -1\n",
      "--------------------------------------------------\n",
      "在json中添加npcName和npcAvatar字段完成\n"
     ]
    }
   ],
   "source": [
    "print('在json中添加npcAvatar字段')\n",
    "# 为每个条目添加npcAvatar字段\n",
    "for item in npc_name_json_data:\n",
    "    item['npcAvatar'] = next((item[\"npcAvatar\"] for item in assistant_preset if item[\"npcName\"] == moviesName), None)  # 添加npcAvatar字段\n",
    "\n",
    "# 打印结果以验证\n",
    "for item in npc_name_json_data:\n",
    "    print(f\"Word: {item['word']}, NPC Name: {item['npcName']}, NPC Avatar: {item['npcAvatar']}\")\n",
    "    for option in item['options']:\n",
    "        print(f\"Translation: {option['text']}, Correct: {option['isCorrect']}, NextScene: {option.get('nextScene', 'N/A')}\")\n",
    "    print(\"-\" * 50)\n",
    "npc_avatar_json_data = npc_name_json_data\n",
    "print('在json中添加npcName和npcAvatar字段完成')\n"
   ]
  },
  {
   "cell_type": "code",
   "execution_count": 19,
   "metadata": {},
   "outputs": [
    {
     "name": "stdout",
     "output_type": "stream",
     "text": [
      "在json中添加backgroundVideo字段\n",
      "Word: access, NPC Name: 绿皮书, NPC Avatar: http://cdn.docuparser.top/avatar/lvpishu.jpeg, Background Video: http://cdn.docuparser.top/video/lvpishu.mp4\n",
      "Translation: 通道, Correct: False, NextScene: -1\n",
      "Translation: 入口, Correct: True, NextScene: 1\n",
      "Translation: 接近, Correct: False, NextScene: -1\n",
      "--------------------------------------------------\n",
      "Word: accessory, NPC Name: 绿皮书, NPC Avatar: http://cdn.docuparser.top/avatar/lvpishu.jpeg, Background Video: http://cdn.docuparser.top/video/lvpishu.mp4\n",
      "Translation: 辅助工具, Correct: True, NextScene: 2\n",
      "Translation: 附件, Correct: False, NextScene: -1\n",
      "Translation: 配件, Correct: False, NextScene: -1\n",
      "--------------------------------------------------\n",
      "Word: accident, NPC Name: 绿皮书, NPC Avatar: http://cdn.docuparser.top/avatar/lvpishu.jpeg, Background Video: http://cdn.docuparser.top/video/lvpishu.mp4\n",
      "Translation: 事件, Correct: False, NextScene: -1\n",
      "Translation: 意外, Correct: False, NextScene: -1\n",
      "Translation: 事故, Correct: True, NextScene: 3\n",
      "--------------------------------------------------\n",
      "Word: accidental, NPC Name: 绿皮书, NPC Avatar: http://cdn.docuparser.top/avatar/lvpishu.jpeg, Background Video: http://cdn.docuparser.top/video/lvpishu.mp4\n",
      "Translation: 无意的, Correct: False, NextScene: -1\n",
      "Translation: 偶然的, Correct: True, NextScene: 4\n",
      "Translation: 意外的, Correct: False, NextScene: -1\n",
      "--------------------------------------------------\n",
      "Word: accompany, NPC Name: 绿皮书, NPC Avatar: http://cdn.docuparser.top/avatar/lvpishu.jpeg, Background Video: http://cdn.docuparser.top/video/lvpishu.mp4\n",
      "Translation: 跟随, Correct: False, NextScene: -1\n",
      "Translation: 陪同, Correct: False, NextScene: -1\n",
      "Translation: 陪伴, Correct: True, NextScene: 5\n",
      "--------------------------------------------------\n",
      "Word: accomplish, NPC Name: 绿皮书, NPC Avatar: http://cdn.docuparser.top/avatar/lvpishu.jpeg, Background Video: http://cdn.docuparser.top/video/lvpishu.mp4\n",
      "Translation: 实现, Correct: False, NextScene: -1\n",
      "Translation: 达成, Correct: False, NextScene: -1\n",
      "Translation: 完成, Correct: True, NextScene: 6\n",
      "--------------------------------------------------\n",
      "Word: accord, NPC Name: 绿皮书, NPC Avatar: http://cdn.docuparser.top/avatar/lvpishu.jpeg, Background Video: http://cdn.docuparser.top/video/lvpishu.mp4\n",
      "Translation: 协议, Correct: False, NextScene: -1\n",
      "Translation: 和谐, Correct: True, NextScene: 7\n",
      "Translation: 一致, Correct: False, NextScene: -1\n",
      "--------------------------------------------------\n",
      "Word: accordance, NPC Name: 绿皮书, NPC Avatar: http://cdn.docuparser.top/avatar/lvpishu.jpeg, Background Video: http://cdn.docuparser.top/video/lvpishu.mp4\n",
      "Translation: 根据, Correct: False, NextScene: -1\n",
      "Translation: 遵守, Correct: True, NextScene: 8\n",
      "Translation: 依照, Correct: False, NextScene: -1\n",
      "--------------------------------------------------\n",
      "Word: afraid, NPC Name: 绿皮书, NPC Avatar: http://cdn.docuparser.top/avatar/lvpishu.jpeg, Background Video: http://cdn.docuparser.top/video/lvpishu.mp4\n",
      "Translation: 担忧, Correct: False, NextScene: -1\n",
      "Translation: 害怕, Correct: True, NextScene: 9\n",
      "Translation: 恐惧, Correct: False, NextScene: -1\n",
      "--------------------------------------------------\n",
      "Word: punish, NPC Name: 绿皮书, NPC Avatar: http://cdn.docuparser.top/avatar/lvpishu.jpeg, Background Video: http://cdn.docuparser.top/video/lvpishu.mp4\n",
      "Translation: 惩罚, Correct: True, NextScene: 10\n",
      "Translation: 处罚, Correct: False, NextScene: -1\n",
      "Translation: 制裁, Correct: False, NextScene: -1\n",
      "--------------------------------------------------\n",
      "在json中添加npcName、npcAvatar和backgroundVideo字段完成\n",
      "[{'word': 'access', 'dialog': '在《绿皮书》中，托尼站在黑人酒吧的门外，心中忐忑不安。他知道，只有找到进入这个世界的access，才能真正理解唐雪利的音乐和生活。那一刻，他深吸一口气，推开了那扇通往新世界的门。', 'options': [{'text': '通道', 'isCorrect': False, 'nextScene': -1}, {'text': '入口', 'isCorrect': True, 'nextScene': 1}, {'text': '接近', 'isCorrect': False, 'nextScene': -1}], 'npcName': '绿皮书', 'npcAvatar': 'http://cdn.docuparser.top/avatar/lvpishu.jpeg', 'backgroundVideo': 'http://cdn.docuparser.top/video/lvpishu.mp4'}, {'word': 'accessory', 'dialog': '电影中的绿皮书不仅是托尼的行车指南，更是他旅途中的忠实accessory。每当夜深人静，托尼总会翻阅它，仿佛在这本小册子里，能找到前行的勇气和智慧。', 'options': [{'text': '辅助工具', 'isCorrect': True, 'nextScene': 2}, {'text': '附件', 'isCorrect': False, 'nextScene': -1}, {'text': '配件', 'isCorrect': False, 'nextScene': -1}], 'npcName': '绿皮书', 'npcAvatar': 'http://cdn.docuparser.top/avatar/lvpishu.jpeg', 'backgroundVideo': 'http://cdn.docuparser.top/video/lvpishu.mp4'}, {'word': 'accident', 'dialog': '一次意外的accident让托尼和唐雪利在乡间小路上被迫停下。在等待救援的漫长时间里，两人从最初的尴尬沉默，到后来的坦诚相谈，这段意外的旅程，竟成为了他们友谊的开端。', 'options': [{'text': '事件', 'isCorrect': False, 'nextScene': -1}, {'text': '意外', 'isCorrect': False, 'nextScene': -1}, {'text': '事故', 'isCorrect': True, 'nextScene': 3}], 'npcName': '绿皮书', 'npcAvatar': 'http://cdn.docuparser.top/avatar/lvpishu.jpeg', 'backgroundVideo': 'http://cdn.docuparser.top/video/lvpishu.mp4'}, {'word': 'accidental', 'dialog': '托尼在加油站的一次accidental发现，让唐雪利得以在南方小镇上享用了一顿久违的家乡美食。那一刻，两人眼中都闪烁着惊喜的光芒，仿佛这场意外的邂逅，是命运最美的安排。', 'options': [{'text': '无意的', 'isCorrect': False, 'nextScene': -1}, {'text': '偶然的', 'isCorrect': True, 'nextScene': 4}, {'text': '意外的', 'isCorrect': False, 'nextScene': -1}], 'npcName': '绿皮书', 'npcAvatar': 'http://cdn.docuparser.top/avatar/lvpishu.jpeg', 'backgroundVideo': 'http://cdn.docuparser.top/video/lvpishu.mp4'}, {'word': 'accompany', 'dialog': '在唐雪利的钢琴独奏会上，托尼静静地坐在台下，用目光accompany着每一个音符的起伏。他从未想过，自己会如此投入地聆听一场古典音乐会，更未想过，这段旅程会让他对音乐有了全新的理解。', 'options': [{'text': '跟随', 'isCorrect': False, 'nextScene': -1}, {'text': '陪同', 'isCorrect': False, 'nextScene': -1}, {'text': '陪伴', 'isCorrect': True, 'nextScene': 5}], 'npcName': '绿皮书', 'npcAvatar': 'http://cdn.docuparser.top/avatar/lvpishu.jpeg', 'backgroundVideo': 'http://cdn.docuparser.top/video/lvpishu.mp4'}, {'word': 'accomplish', 'dialog': '当唐雪利在南方庄园的舞台上，优雅地弹奏完最后一曲，全场爆发出雷鸣般的掌声。那一刻，托尼心中涌起一股强烈的自豪感，他们一起accomplish了一场看似不可能的演出。', 'options': [{'text': '实现', 'isCorrect': False, 'nextScene': -1}, {'text': '达成', 'isCorrect': False, 'nextScene': -1}, {'text': '完成', 'isCorrect': True, 'nextScene': 6}], 'npcName': '绿皮书', 'npcAvatar': 'http://cdn.docuparser.top/avatar/lvpishu.jpeg', 'backgroundVideo': 'http://cdn.docuparser.top/video/lvpishu.mp4'}, {'word': 'accord', 'dialog': '在旅途中，托尼和唐雪利逐渐学会了在彼此的生活习惯和价值观中找到accord。尽管他们的世界看似截然不同，但在这段共同的旅程中，他们发现，理解和尊重才是最宝贵的和谐。', 'options': [{'text': '协议', 'isCorrect': False, 'nextScene': -1}, {'text': '和谐', 'isCorrect': True, 'nextScene': 7}, {'text': '一致', 'isCorrect': False, 'nextScene': -1}], 'npcName': '绿皮书', 'npcAvatar': 'http://cdn.docuparser.top/avatar/lvpishu.jpeg', 'backgroundVideo': 'http://cdn.docuparser.top/video/lvpishu.mp4'}, {'word': 'accordance', 'dialog': '每当遇到种族歧视的困境，托尼总是严格按照绿皮书中的指示行事，以确保唐雪利的安全。这种对规则的严格遵守，不仅是对法律的尊重，更是对朋友深深的关爱和accordance。', 'options': [{'text': '根据', 'isCorrect': False, 'nextScene': -1}, {'text': '遵守', 'isCorrect': True, 'nextScene': 8}, {'text': '依照', 'isCorrect': False, 'nextScene': -1}], 'npcName': '绿皮书', 'npcAvatar': 'http://cdn.docuparser.top/avatar/lvpishu.jpeg', 'backgroundVideo': 'http://cdn.docuparser.top/video/lvpishu.mp4'}, {'word': 'afraid', 'dialog': '在南方小镇的夜晚，托尼独自走在回旅馆的路上，心中不禁有些afraid。他知道，这里的种族偏见如同一只无形的猛兽，随时可能对他们发起攻击。但想到唐雪利还在等他，他咬紧牙关，加快了脚步。', 'options': [{'text': '担忧', 'isCorrect': False, 'nextScene': -1}, {'text': '害怕', 'isCorrect': True, 'nextScene': 9}, {'text': '恐惧', 'isCorrect': False, 'nextScene': -1}], 'npcName': '绿皮书', 'npcAvatar': 'http://cdn.docuparser.top/avatar/lvpishu.jpeg', 'backgroundVideo': 'http://cdn.docuparser.top/video/lvpishu.mp4'}, {'word': 'punish', 'dialog': '当托尼因为维护唐雪利的尊严而与当地警察发生冲突时，他毫不畏惧地面对可能的punish。那一刻，他不再是那个粗鲁的夜总会保安，而是一个勇敢捍卫正义的战士。', 'options': [{'text': '惩罚', 'isCorrect': True, 'nextScene': 10}, {'text': '处罚', 'isCorrect': False, 'nextScene': -1}, {'text': '制裁', 'isCorrect': False, 'nextScene': -1}], 'npcName': '绿皮书', 'npcAvatar': 'http://cdn.docuparser.top/avatar/lvpishu.jpeg', 'backgroundVideo': 'http://cdn.docuparser.top/video/lvpishu.mp4'}]\n"
     ]
    }
   ],
   "source": [
    "print('在json中添加backgroundVideo字段')\n",
    "# 为每个条目添加npcName、npcAvatar和backgroundVideo字段\n",
    "for item in npc_avatar_json_data:\n",
    "    item['backgroundVideo'] = next((item[\"backgroundVideo\"] for item in assistant_preset if item[\"npcName\"] == moviesName), None)  # 添加backgroundVideo字段\n",
    "\n",
    "# 打印结果以验证\n",
    "for item in npc_avatar_json_data:\n",
    "    print(f\"Word: {item['word']}, NPC Name: {item['npcName']}, NPC Avatar: {item['npcAvatar']}, Background Video: {item['backgroundVideo']}\")\n",
    "    for option in item['options']:\n",
    "        print(f\"Translation: {option['text']}, Correct: {option['isCorrect']}, NextScene: {option.get('nextScene', 'N/A')}\")\n",
    "    print(\"-\" * 50)\n",
    "background_video_json_data = random_json_data\n",
    "print('在json中添加npcName、npcAvatar和backgroundVideo字段完成')\n",
    "\n",
    "print(background_video_json_data)\n"
   ]
  },
  {
   "cell_type": "code",
   "execution_count": 20,
   "metadata": {},
   "outputs": [
    {
     "name": "stdout",
     "output_type": "stream",
     "text": [
      "[{'word': 'access', 'dialog': '在《绿皮书》中，托尼站在黑人酒吧的门外，心中忐忑不安。他知道，只有找到进入这个世界的access，才能真正理解唐雪利的音乐和生活。那一刻，他深吸一口气，推开了那扇通往新世界的门。', 'options': [{'text': '通道', 'isCorrect': False, 'nextScene': -1}, {'text': '入口', 'isCorrect': True, 'nextScene': 1}, {'text': '接近', 'isCorrect': False, 'nextScene': -1}], 'npcName': '绿皮书', 'npcAvatar': 'http://cdn.docuparser.top/avatar/lvpishu.jpeg', 'backgroundVideo': 'http://cdn.docuparser.top/video/lvpishu.mp4'}, {'word': 'accessory', 'dialog': '电影中的绿皮书不仅是托尼的行车指南，更是他旅途中的忠实accessory。每当夜深人静，托尼总会翻阅它，仿佛在这本小册子里，能找到前行的勇气和智慧。', 'options': [{'text': '辅助工具', 'isCorrect': True, 'nextScene': 2}, {'text': '附件', 'isCorrect': False, 'nextScene': -1}, {'text': '配件', 'isCorrect': False, 'nextScene': -1}], 'npcName': '绿皮书', 'npcAvatar': 'http://cdn.docuparser.top/avatar/lvpishu.jpeg', 'backgroundVideo': 'http://cdn.docuparser.top/video/lvpishu.mp4'}, {'word': 'accident', 'dialog': '一次意外的accident让托尼和唐雪利在乡间小路上被迫停下。在等待救援的漫长时间里，两人从最初的尴尬沉默，到后来的坦诚相谈，这段意外的旅程，竟成为了他们友谊的开端。', 'options': [{'text': '事件', 'isCorrect': False, 'nextScene': -1}, {'text': '意外', 'isCorrect': False, 'nextScene': -1}, {'text': '事故', 'isCorrect': True, 'nextScene': 3}], 'npcName': '绿皮书', 'npcAvatar': 'http://cdn.docuparser.top/avatar/lvpishu.jpeg', 'backgroundVideo': 'http://cdn.docuparser.top/video/lvpishu.mp4'}, {'word': 'accidental', 'dialog': '托尼在加油站的一次accidental发现，让唐雪利得以在南方小镇上享用了一顿久违的家乡美食。那一刻，两人眼中都闪烁着惊喜的光芒，仿佛这场意外的邂逅，是命运最美的安排。', 'options': [{'text': '无意的', 'isCorrect': False, 'nextScene': -1}, {'text': '偶然的', 'isCorrect': True, 'nextScene': 4}, {'text': '意外的', 'isCorrect': False, 'nextScene': -1}], 'npcName': '绿皮书', 'npcAvatar': 'http://cdn.docuparser.top/avatar/lvpishu.jpeg', 'backgroundVideo': 'http://cdn.docuparser.top/video/lvpishu.mp4'}, {'word': 'accompany', 'dialog': '在唐雪利的钢琴独奏会上，托尼静静地坐在台下，用目光accompany着每一个音符的起伏。他从未想过，自己会如此投入地聆听一场古典音乐会，更未想过，这段旅程会让他对音乐有了全新的理解。', 'options': [{'text': '跟随', 'isCorrect': False, 'nextScene': -1}, {'text': '陪同', 'isCorrect': False, 'nextScene': -1}, {'text': '陪伴', 'isCorrect': True, 'nextScene': 5}], 'npcName': '绿皮书', 'npcAvatar': 'http://cdn.docuparser.top/avatar/lvpishu.jpeg', 'backgroundVideo': 'http://cdn.docuparser.top/video/lvpishu.mp4'}, {'word': 'accomplish', 'dialog': '当唐雪利在南方庄园的舞台上，优雅地弹奏完最后一曲，全场爆发出雷鸣般的掌声。那一刻，托尼心中涌起一股强烈的自豪感，他们一起accomplish了一场看似不可能的演出。', 'options': [{'text': '实现', 'isCorrect': False, 'nextScene': -1}, {'text': '达成', 'isCorrect': False, 'nextScene': -1}, {'text': '完成', 'isCorrect': True, 'nextScene': 6}], 'npcName': '绿皮书', 'npcAvatar': 'http://cdn.docuparser.top/avatar/lvpishu.jpeg', 'backgroundVideo': 'http://cdn.docuparser.top/video/lvpishu.mp4'}, {'word': 'accord', 'dialog': '在旅途中，托尼和唐雪利逐渐学会了在彼此的生活习惯和价值观中找到accord。尽管他们的世界看似截然不同，但在这段共同的旅程中，他们发现，理解和尊重才是最宝贵的和谐。', 'options': [{'text': '协议', 'isCorrect': False, 'nextScene': -1}, {'text': '和谐', 'isCorrect': True, 'nextScene': 7}, {'text': '一致', 'isCorrect': False, 'nextScene': -1}], 'npcName': '绿皮书', 'npcAvatar': 'http://cdn.docuparser.top/avatar/lvpishu.jpeg', 'backgroundVideo': 'http://cdn.docuparser.top/video/lvpishu.mp4'}, {'word': 'accordance', 'dialog': '每当遇到种族歧视的困境，托尼总是严格按照绿皮书中的指示行事，以确保唐雪利的安全。这种对规则的严格遵守，不仅是对法律的尊重，更是对朋友深深的关爱和accordance。', 'options': [{'text': '根据', 'isCorrect': False, 'nextScene': -1}, {'text': '遵守', 'isCorrect': True, 'nextScene': 8}, {'text': '依照', 'isCorrect': False, 'nextScene': -1}], 'npcName': '绿皮书', 'npcAvatar': 'http://cdn.docuparser.top/avatar/lvpishu.jpeg', 'backgroundVideo': 'http://cdn.docuparser.top/video/lvpishu.mp4'}, {'word': 'afraid', 'dialog': '在南方小镇的夜晚，托尼独自走在回旅馆的路上，心中不禁有些afraid。他知道，这里的种族偏见如同一只无形的猛兽，随时可能对他们发起攻击。但想到唐雪利还在等他，他咬紧牙关，加快了脚步。', 'options': [{'text': '担忧', 'isCorrect': False, 'nextScene': -1}, {'text': '害怕', 'isCorrect': True, 'nextScene': 9}, {'text': '恐惧', 'isCorrect': False, 'nextScene': -1}], 'npcName': '绿皮书', 'npcAvatar': 'http://cdn.docuparser.top/avatar/lvpishu.jpeg', 'backgroundVideo': 'http://cdn.docuparser.top/video/lvpishu.mp4'}, {'word': 'punish', 'dialog': '当托尼因为维护唐雪利的尊严而与当地警察发生冲突时，他毫不畏惧地面对可能的punish。那一刻，他不再是那个粗鲁的夜总会保安，而是一个勇敢捍卫正义的战士。', 'options': [{'text': '惩罚', 'isCorrect': True, 'nextScene': 10}, {'text': '处罚', 'isCorrect': False, 'nextScene': -1}, {'text': '制裁', 'isCorrect': False, 'nextScene': -1}], 'npcName': '绿皮书', 'npcAvatar': 'http://cdn.docuparser.top/avatar/lvpishu.jpeg', 'backgroundVideo': 'http://cdn.docuparser.top/video/lvpishu.mp4'}]\n"
     ]
    }
   ],
   "source": [
    "print(background_video_json_data)"
   ]
  },
  {
   "cell_type": "code",
   "execution_count": 21,
   "metadata": {},
   "outputs": [],
   "source": [
    "background_video_json_data.append({\n",
    "      \"word\": \"none\",\n",
    "      \"dialog\":\n",
    "        \"恭喜你完成了游戏的所有关卡，点击重玩游戏，重新开始游戏\",\n",
    "      \"options\": [\n",
    "        { \"text\": \"重玩游戏\", \"isCorrect\": \"true\", \"nextScene\": 0 },\n",
    "      ],\n",
    "      \"npcName\": moviesName,\n",
    "      \"npcAvatar\": next((item[\"npcAvatar\"] for item in assistant_preset if item[\"npcName\"] == moviesName), None),\n",
    "      \"backgroundVideo\": next((item[\"backgroundVideo\"] for item in assistant_preset if item[\"npcName\"] == moviesName), None),\n",
    "    })"
   ]
  },
  {
   "cell_type": "code",
   "execution_count": 22,
   "metadata": {},
   "outputs": [
    {
     "name": "stdout",
     "output_type": "stream",
     "text": [
      "Word: access,   NPC Name: 绿皮书, NPC Avatar: http://cdn.docuparser.top/avatar/lvpishu.jpeg, Background Video: http://cdn.docuparser.top/video/lvpishu.mp4\n",
      "Translation: 通道, Correct: false, NextScene: -1\n",
      "Translation: 入口, Correct: true, NextScene: 1\n",
      "Translation: 接近, Correct: false, NextScene: -1\n",
      "--------------------------------------------------\n",
      "Word: accessory,   NPC Name: 绿皮书, NPC Avatar: http://cdn.docuparser.top/avatar/lvpishu.jpeg, Background Video: http://cdn.docuparser.top/video/lvpishu.mp4\n",
      "Translation: 辅助工具, Correct: true, NextScene: 2\n",
      "Translation: 附件, Correct: false, NextScene: -1\n",
      "Translation: 配件, Correct: false, NextScene: -1\n",
      "--------------------------------------------------\n",
      "Word: accident,   NPC Name: 绿皮书, NPC Avatar: http://cdn.docuparser.top/avatar/lvpishu.jpeg, Background Video: http://cdn.docuparser.top/video/lvpishu.mp4\n",
      "Translation: 事件, Correct: false, NextScene: -1\n",
      "Translation: 意外, Correct: false, NextScene: -1\n",
      "Translation: 事故, Correct: true, NextScene: 3\n",
      "--------------------------------------------------\n",
      "Word: accidental,   NPC Name: 绿皮书, NPC Avatar: http://cdn.docuparser.top/avatar/lvpishu.jpeg, Background Video: http://cdn.docuparser.top/video/lvpishu.mp4\n",
      "Translation: 无意的, Correct: false, NextScene: -1\n",
      "Translation: 偶然的, Correct: true, NextScene: 4\n",
      "Translation: 意外的, Correct: false, NextScene: -1\n",
      "--------------------------------------------------\n",
      "Word: accompany,   NPC Name: 绿皮书, NPC Avatar: http://cdn.docuparser.top/avatar/lvpishu.jpeg, Background Video: http://cdn.docuparser.top/video/lvpishu.mp4\n",
      "Translation: 跟随, Correct: false, NextScene: -1\n",
      "Translation: 陪同, Correct: false, NextScene: -1\n",
      "Translation: 陪伴, Correct: true, NextScene: 5\n",
      "--------------------------------------------------\n",
      "Word: accomplish,   NPC Name: 绿皮书, NPC Avatar: http://cdn.docuparser.top/avatar/lvpishu.jpeg, Background Video: http://cdn.docuparser.top/video/lvpishu.mp4\n",
      "Translation: 实现, Correct: false, NextScene: -1\n",
      "Translation: 达成, Correct: false, NextScene: -1\n",
      "Translation: 完成, Correct: true, NextScene: 6\n",
      "--------------------------------------------------\n",
      "Word: accord,   NPC Name: 绿皮书, NPC Avatar: http://cdn.docuparser.top/avatar/lvpishu.jpeg, Background Video: http://cdn.docuparser.top/video/lvpishu.mp4\n",
      "Translation: 协议, Correct: false, NextScene: -1\n",
      "Translation: 和谐, Correct: true, NextScene: 7\n",
      "Translation: 一致, Correct: false, NextScene: -1\n",
      "--------------------------------------------------\n",
      "Word: accordance,   NPC Name: 绿皮书, NPC Avatar: http://cdn.docuparser.top/avatar/lvpishu.jpeg, Background Video: http://cdn.docuparser.top/video/lvpishu.mp4\n",
      "Translation: 根据, Correct: false, NextScene: -1\n",
      "Translation: 遵守, Correct: true, NextScene: 8\n",
      "Translation: 依照, Correct: false, NextScene: -1\n",
      "--------------------------------------------------\n",
      "Word: afraid,   NPC Name: 绿皮书, NPC Avatar: http://cdn.docuparser.top/avatar/lvpishu.jpeg, Background Video: http://cdn.docuparser.top/video/lvpishu.mp4\n",
      "Translation: 担忧, Correct: false, NextScene: -1\n",
      "Translation: 害怕, Correct: true, NextScene: 9\n",
      "Translation: 恐惧, Correct: false, NextScene: -1\n",
      "--------------------------------------------------\n",
      "Word: punish,   NPC Name: 绿皮书, NPC Avatar: http://cdn.docuparser.top/avatar/lvpishu.jpeg, Background Video: http://cdn.docuparser.top/video/lvpishu.mp4\n",
      "Translation: 惩罚, Correct: true, NextScene: 10\n",
      "Translation: 处罚, Correct: false, NextScene: -1\n",
      "Translation: 制裁, Correct: false, NextScene: -1\n",
      "--------------------------------------------------\n",
      "Word: none,   NPC Name: 绿皮书, NPC Avatar: http://cdn.docuparser.top/avatar/lvpishu.jpeg, Background Video: http://cdn.docuparser.top/video/lvpishu.mp4\n",
      "Translation: 重玩游戏, Correct: true, NextScene: 0\n",
      "--------------------------------------------------\n"
     ]
    }
   ],
   "source": [
    "# 将options中的True和False改为小写字符串\n",
    "for item in background_video_json_data:\n",
    "    for option in item['options']:\n",
    "        option['isCorrect'] = 'true' if option['isCorrect'] else 'false'\n",
    "\n",
    "# 打印结果以验证\n",
    "for item in background_video_json_data:\n",
    "    print(f\"Word: {item['word']},   NPC Name: {item['npcName']}, NPC Avatar: {item['npcAvatar']}, Background Video: {item['backgroundVideo']}\")\n",
    "    for option in item['options']:\n",
    "        print(f\"Translation: {option['text']}, Correct: {option['isCorrect']}, NextScene: {option.get('nextScene', 'N/A')}\")\n",
    "    print(\"-\" * 50)"
   ]
  },
  {
   "cell_type": "code",
   "execution_count": 23,
   "metadata": {},
   "outputs": [
    {
     "name": "stdout",
     "output_type": "stream",
     "text": [
      "[{'word': 'access', 'dialog': '在《绿皮书》中，托尼站在黑人酒吧的门外，心中忐忑不安。他知道，只有找到进入这个世界的access，才能真正理解唐雪利的音乐和生活。那一刻，他深吸一口气，推开了那扇通往新世界的门。', 'options': [{'text': '通道', 'isCorrect': 'false', 'nextScene': -1}, {'text': '入口', 'isCorrect': 'true', 'nextScene': 1}, {'text': '接近', 'isCorrect': 'false', 'nextScene': -1}], 'npcName': '绿皮书', 'npcAvatar': 'http://cdn.docuparser.top/avatar/lvpishu.jpeg', 'backgroundVideo': 'http://cdn.docuparser.top/video/lvpishu.mp4'}, {'word': 'accessory', 'dialog': '电影中的绿皮书不仅是托尼的行车指南，更是他旅途中的忠实accessory。每当夜深人静，托尼总会翻阅它，仿佛在这本小册子里，能找到前行的勇气和智慧。', 'options': [{'text': '辅助工具', 'isCorrect': 'true', 'nextScene': 2}, {'text': '附件', 'isCorrect': 'false', 'nextScene': -1}, {'text': '配件', 'isCorrect': 'false', 'nextScene': -1}], 'npcName': '绿皮书', 'npcAvatar': 'http://cdn.docuparser.top/avatar/lvpishu.jpeg', 'backgroundVideo': 'http://cdn.docuparser.top/video/lvpishu.mp4'}, {'word': 'accident', 'dialog': '一次意外的accident让托尼和唐雪利在乡间小路上被迫停下。在等待救援的漫长时间里，两人从最初的尴尬沉默，到后来的坦诚相谈，这段意外的旅程，竟成为了他们友谊的开端。', 'options': [{'text': '事件', 'isCorrect': 'false', 'nextScene': -1}, {'text': '意外', 'isCorrect': 'false', 'nextScene': -1}, {'text': '事故', 'isCorrect': 'true', 'nextScene': 3}], 'npcName': '绿皮书', 'npcAvatar': 'http://cdn.docuparser.top/avatar/lvpishu.jpeg', 'backgroundVideo': 'http://cdn.docuparser.top/video/lvpishu.mp4'}, {'word': 'accidental', 'dialog': '托尼在加油站的一次accidental发现，让唐雪利得以在南方小镇上享用了一顿久违的家乡美食。那一刻，两人眼中都闪烁着惊喜的光芒，仿佛这场意外的邂逅，是命运最美的安排。', 'options': [{'text': '无意的', 'isCorrect': 'false', 'nextScene': -1}, {'text': '偶然的', 'isCorrect': 'true', 'nextScene': 4}, {'text': '意外的', 'isCorrect': 'false', 'nextScene': -1}], 'npcName': '绿皮书', 'npcAvatar': 'http://cdn.docuparser.top/avatar/lvpishu.jpeg', 'backgroundVideo': 'http://cdn.docuparser.top/video/lvpishu.mp4'}, {'word': 'accompany', 'dialog': '在唐雪利的钢琴独奏会上，托尼静静地坐在台下，用目光accompany着每一个音符的起伏。他从未想过，自己会如此投入地聆听一场古典音乐会，更未想过，这段旅程会让他对音乐有了全新的理解。', 'options': [{'text': '跟随', 'isCorrect': 'false', 'nextScene': -1}, {'text': '陪同', 'isCorrect': 'false', 'nextScene': -1}, {'text': '陪伴', 'isCorrect': 'true', 'nextScene': 5}], 'npcName': '绿皮书', 'npcAvatar': 'http://cdn.docuparser.top/avatar/lvpishu.jpeg', 'backgroundVideo': 'http://cdn.docuparser.top/video/lvpishu.mp4'}, {'word': 'accomplish', 'dialog': '当唐雪利在南方庄园的舞台上，优雅地弹奏完最后一曲，全场爆发出雷鸣般的掌声。那一刻，托尼心中涌起一股强烈的自豪感，他们一起accomplish了一场看似不可能的演出。', 'options': [{'text': '实现', 'isCorrect': 'false', 'nextScene': -1}, {'text': '达成', 'isCorrect': 'false', 'nextScene': -1}, {'text': '完成', 'isCorrect': 'true', 'nextScene': 6}], 'npcName': '绿皮书', 'npcAvatar': 'http://cdn.docuparser.top/avatar/lvpishu.jpeg', 'backgroundVideo': 'http://cdn.docuparser.top/video/lvpishu.mp4'}, {'word': 'accord', 'dialog': '在旅途中，托尼和唐雪利逐渐学会了在彼此的生活习惯和价值观中找到accord。尽管他们的世界看似截然不同，但在这段共同的旅程中，他们发现，理解和尊重才是最宝贵的和谐。', 'options': [{'text': '协议', 'isCorrect': 'false', 'nextScene': -1}, {'text': '和谐', 'isCorrect': 'true', 'nextScene': 7}, {'text': '一致', 'isCorrect': 'false', 'nextScene': -1}], 'npcName': '绿皮书', 'npcAvatar': 'http://cdn.docuparser.top/avatar/lvpishu.jpeg', 'backgroundVideo': 'http://cdn.docuparser.top/video/lvpishu.mp4'}, {'word': 'accordance', 'dialog': '每当遇到种族歧视的困境，托尼总是严格按照绿皮书中的指示行事，以确保唐雪利的安全。这种对规则的严格遵守，不仅是对法律的尊重，更是对朋友深深的关爱和accordance。', 'options': [{'text': '根据', 'isCorrect': 'false', 'nextScene': -1}, {'text': '遵守', 'isCorrect': 'true', 'nextScene': 8}, {'text': '依照', 'isCorrect': 'false', 'nextScene': -1}], 'npcName': '绿皮书', 'npcAvatar': 'http://cdn.docuparser.top/avatar/lvpishu.jpeg', 'backgroundVideo': 'http://cdn.docuparser.top/video/lvpishu.mp4'}, {'word': 'afraid', 'dialog': '在南方小镇的夜晚，托尼独自走在回旅馆的路上，心中不禁有些afraid。他知道，这里的种族偏见如同一只无形的猛兽，随时可能对他们发起攻击。但想到唐雪利还在等他，他咬紧牙关，加快了脚步。', 'options': [{'text': '担忧', 'isCorrect': 'false', 'nextScene': -1}, {'text': '害怕', 'isCorrect': 'true', 'nextScene': 9}, {'text': '恐惧', 'isCorrect': 'false', 'nextScene': -1}], 'npcName': '绿皮书', 'npcAvatar': 'http://cdn.docuparser.top/avatar/lvpishu.jpeg', 'backgroundVideo': 'http://cdn.docuparser.top/video/lvpishu.mp4'}, {'word': 'punish', 'dialog': '当托尼因为维护唐雪利的尊严而与当地警察发生冲突时，他毫不畏惧地面对可能的punish。那一刻，他不再是那个粗鲁的夜总会保安，而是一个勇敢捍卫正义的战士。', 'options': [{'text': '惩罚', 'isCorrect': 'true', 'nextScene': 10}, {'text': '处罚', 'isCorrect': 'false', 'nextScene': -1}, {'text': '制裁', 'isCorrect': 'false', 'nextScene': -1}], 'npcName': '绿皮书', 'npcAvatar': 'http://cdn.docuparser.top/avatar/lvpishu.jpeg', 'backgroundVideo': 'http://cdn.docuparser.top/video/lvpishu.mp4'}, {'word': 'none', 'dialog': '恭喜你完成了游戏的所有关卡，点击重玩游戏，重新开始游戏', 'options': [{'text': '重玩游戏', 'isCorrect': 'true', 'nextScene': 0}], 'npcName': '绿皮书', 'npcAvatar': 'http://cdn.docuparser.top/avatar/lvpishu.jpeg', 'backgroundVideo': 'http://cdn.docuparser.top/video/lvpishu.mp4'}]\n"
     ]
    }
   ],
   "source": [
    "print(background_video_json_data)\n"
   ]
  },
  {
   "cell_type": "code",
   "execution_count": 25,
   "metadata": {},
   "outputs": [
    {
     "name": "stdout",
     "output_type": "stream",
     "text": [
      "[{\"word\": \"access\", \"dialog\": \"在《绿皮书》中，托尼站在黑人酒吧的门外，心中忐忑不安。他知道，只有找到进入这个世界的access，才能真正理解唐雪利的音乐和生活。那一刻，他深吸一口气，推开了那扇通往新世界的门。\", \"options\": [{\"text\": \"通道\", \"isCorrect\": \"false\", \"nextScene\": -1}, {\"text\": \"入口\", \"isCorrect\": \"true\", \"nextScene\": 1}, {\"text\": \"接近\", \"isCorrect\": \"false\", \"nextScene\": -1}], \"npcName\": \"绿皮书\", \"npcAvatar\": \"http://cdn.docuparser.top/avatar/lvpishu.jpeg\", \"backgroundVideo\": \"http://cdn.docuparser.top/video/lvpishu.mp4\"}, {\"word\": \"accessory\", \"dialog\": \"电影中的绿皮书不仅是托尼的行车指南，更是他旅途中的忠实accessory。每当夜深人静，托尼总会翻阅它，仿佛在这本小册子里，能找到前行的勇气和智慧。\", \"options\": [{\"text\": \"辅助工具\", \"isCorrect\": \"true\", \"nextScene\": 2}, {\"text\": \"附件\", \"isCorrect\": \"false\", \"nextScene\": -1}, {\"text\": \"配件\", \"isCorrect\": \"false\", \"nextScene\": -1}], \"npcName\": \"绿皮书\", \"npcAvatar\": \"http://cdn.docuparser.top/avatar/lvpishu.jpeg\", \"backgroundVideo\": \"http://cdn.docuparser.top/video/lvpishu.mp4\"}, {\"word\": \"accident\", \"dialog\": \"一次意外的accident让托尼和唐雪利在乡间小路上被迫停下。在等待救援的漫长时间里，两人从最初的尴尬沉默，到后来的坦诚相谈，这段意外的旅程，竟成为了他们友谊的开端。\", \"options\": [{\"text\": \"事件\", \"isCorrect\": \"false\", \"nextScene\": -1}, {\"text\": \"意外\", \"isCorrect\": \"false\", \"nextScene\": -1}, {\"text\": \"事故\", \"isCorrect\": \"true\", \"nextScene\": 3}], \"npcName\": \"绿皮书\", \"npcAvatar\": \"http://cdn.docuparser.top/avatar/lvpishu.jpeg\", \"backgroundVideo\": \"http://cdn.docuparser.top/video/lvpishu.mp4\"}, {\"word\": \"accidental\", \"dialog\": \"托尼在加油站的一次accidental发现，让唐雪利得以在南方小镇上享用了一顿久违的家乡美食。那一刻，两人眼中都闪烁着惊喜的光芒，仿佛这场意外的邂逅，是命运最美的安排。\", \"options\": [{\"text\": \"无意的\", \"isCorrect\": \"false\", \"nextScene\": -1}, {\"text\": \"偶然的\", \"isCorrect\": \"true\", \"nextScene\": 4}, {\"text\": \"意外的\", \"isCorrect\": \"false\", \"nextScene\": -1}], \"npcName\": \"绿皮书\", \"npcAvatar\": \"http://cdn.docuparser.top/avatar/lvpishu.jpeg\", \"backgroundVideo\": \"http://cdn.docuparser.top/video/lvpishu.mp4\"}, {\"word\": \"accompany\", \"dialog\": \"在唐雪利的钢琴独奏会上，托尼静静地坐在台下，用目光accompany着每一个音符的起伏。他从未想过，自己会如此投入地聆听一场古典音乐会，更未想过，这段旅程会让他对音乐有了全新的理解。\", \"options\": [{\"text\": \"跟随\", \"isCorrect\": \"false\", \"nextScene\": -1}, {\"text\": \"陪同\", \"isCorrect\": \"false\", \"nextScene\": -1}, {\"text\": \"陪伴\", \"isCorrect\": \"true\", \"nextScene\": 5}], \"npcName\": \"绿皮书\", \"npcAvatar\": \"http://cdn.docuparser.top/avatar/lvpishu.jpeg\", \"backgroundVideo\": \"http://cdn.docuparser.top/video/lvpishu.mp4\"}, {\"word\": \"accomplish\", \"dialog\": \"当唐雪利在南方庄园的舞台上，优雅地弹奏完最后一曲，全场爆发出雷鸣般的掌声。那一刻，托尼心中涌起一股强烈的自豪感，他们一起accomplish了一场看似不可能的演出。\", \"options\": [{\"text\": \"实现\", \"isCorrect\": \"false\", \"nextScene\": -1}, {\"text\": \"达成\", \"isCorrect\": \"false\", \"nextScene\": -1}, {\"text\": \"完成\", \"isCorrect\": \"true\", \"nextScene\": 6}], \"npcName\": \"绿皮书\", \"npcAvatar\": \"http://cdn.docuparser.top/avatar/lvpishu.jpeg\", \"backgroundVideo\": \"http://cdn.docuparser.top/video/lvpishu.mp4\"}, {\"word\": \"accord\", \"dialog\": \"在旅途中，托尼和唐雪利逐渐学会了在彼此的生活习惯和价值观中找到accord。尽管他们的世界看似截然不同，但在这段共同的旅程中，他们发现，理解和尊重才是最宝贵的和谐。\", \"options\": [{\"text\": \"协议\", \"isCorrect\": \"false\", \"nextScene\": -1}, {\"text\": \"和谐\", \"isCorrect\": \"true\", \"nextScene\": 7}, {\"text\": \"一致\", \"isCorrect\": \"false\", \"nextScene\": -1}], \"npcName\": \"绿皮书\", \"npcAvatar\": \"http://cdn.docuparser.top/avatar/lvpishu.jpeg\", \"backgroundVideo\": \"http://cdn.docuparser.top/video/lvpishu.mp4\"}, {\"word\": \"accordance\", \"dialog\": \"每当遇到种族歧视的困境，托尼总是严格按照绿皮书中的指示行事，以确保唐雪利的安全。这种对规则的严格遵守，不仅是对法律的尊重，更是对朋友深深的关爱和accordance。\", \"options\": [{\"text\": \"根据\", \"isCorrect\": \"false\", \"nextScene\": -1}, {\"text\": \"遵守\", \"isCorrect\": \"true\", \"nextScene\": 8}, {\"text\": \"依照\", \"isCorrect\": \"false\", \"nextScene\": -1}], \"npcName\": \"绿皮书\", \"npcAvatar\": \"http://cdn.docuparser.top/avatar/lvpishu.jpeg\", \"backgroundVideo\": \"http://cdn.docuparser.top/video/lvpishu.mp4\"}, {\"word\": \"afraid\", \"dialog\": \"在南方小镇的夜晚，托尼独自走在回旅馆的路上，心中不禁有些afraid。他知道，这里的种族偏见如同一只无形的猛兽，随时可能对他们发起攻击。但想到唐雪利还在等他，他咬紧牙关，加快了脚步。\", \"options\": [{\"text\": \"担忧\", \"isCorrect\": \"false\", \"nextScene\": -1}, {\"text\": \"害怕\", \"isCorrect\": \"true\", \"nextScene\": 9}, {\"text\": \"恐惧\", \"isCorrect\": \"false\", \"nextScene\": -1}], \"npcName\": \"绿皮书\", \"npcAvatar\": \"http://cdn.docuparser.top/avatar/lvpishu.jpeg\", \"backgroundVideo\": \"http://cdn.docuparser.top/video/lvpishu.mp4\"}, {\"word\": \"punish\", \"dialog\": \"当托尼因为维护唐雪利的尊严而与当地警察发生冲突时，他毫不畏惧地面对可能的punish。那一刻，他不再是那个粗鲁的夜总会保安，而是一个勇敢捍卫正义的战士。\", \"options\": [{\"text\": \"惩罚\", \"isCorrect\": \"true\", \"nextScene\": 10}, {\"text\": \"处罚\", \"isCorrect\": \"false\", \"nextScene\": -1}, {\"text\": \"制裁\", \"isCorrect\": \"false\", \"nextScene\": -1}], \"npcName\": \"绿皮书\", \"npcAvatar\": \"http://cdn.docuparser.top/avatar/lvpishu.jpeg\", \"backgroundVideo\": \"http://cdn.docuparser.top/video/lvpishu.mp4\"}, {\"word\": \"none\", \"dialog\": \"恭喜你完成了游戏的所有关卡，点击重玩游戏，重新开始游戏\", \"options\": [{\"text\": \"重玩游戏\", \"isCorrect\": \"true\", \"nextScene\": 0}], \"npcName\": \"绿皮书\", \"npcAvatar\": \"http://cdn.docuparser.top/avatar/lvpishu.jpeg\", \"backgroundVideo\": \"http://cdn.docuparser.top/video/lvpishu.mp4\"}]\n"
     ]
    }
   ],
   "source": [
    "print(json.dumps(background_video_json_data, ensure_ascii=False))"
   ]
  },
  {
   "cell_type": "code",
   "execution_count": null,
   "metadata": {},
   "outputs": [],
   "source": []
  }
 ],
 "metadata": {
  "kernelspec": {
   "display_name": "Python 3",
   "language": "python",
   "name": "python3"
  },
  "language_info": {
   "codemirror_mode": {
    "name": "ipython",
    "version": 3
   },
   "file_extension": ".py",
   "mimetype": "text/x-python",
   "name": "python",
   "nbconvert_exporter": "python",
   "pygments_lexer": "ipython3",
   "version": "3.9.20"
  }
 },
 "nbformat": 4,
 "nbformat_minor": 0
}
