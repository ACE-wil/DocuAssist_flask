{
 "cells": [
  {
   "cell_type": "code",
   "execution_count": 1,
   "metadata": {
    "collapsed": true
   },
   "outputs": [],
   "source": [
    "from pathlib import Path\n",
    "import json\n",
    "from zhipuai import ZhipuAI\n",
    "\n",
    "# 填写您自己的APIKey\n",
    "client = ZhipuAI(api_key=\"b18f84a0d131140efa1e5f8b3641bd78.9MuoykZ6Ypnf9Nrh\")\n"
   ]
  },
  {
   "cell_type": "code",
   "execution_count": 2,
   "metadata": {
    "collapsed": false
   },
   "outputs": [],
   "source": [
    "messages_preset = []"
   ]
  },
  {
   "cell_type": "code",
   "execution_count": 3,
   "metadata": {},
   "outputs": [],
   "source": [
    "# 预设 电影信息/npc信息 提示词"
   ]
  },
  {
   "cell_type": "code",
   "execution_count": 4,
   "metadata": {},
   "outputs": [],
   "source": [
    "moviesName = '绿皮书'"
   ]
  },
  {
   "cell_type": "code",
   "execution_count": 5,
   "metadata": {},
   "outputs": [],
   "source": [
    "words_array = ['access','accessory','accident','accidental','accompany','accomplish','accord','accordance','afraid','punish']\n"
   ]
  },
  {
   "cell_type": "code",
   "execution_count": 6,
   "metadata": {},
   "outputs": [],
   "source": [
    "assistant_preset = [\n",
    "    {\n",
    "    \"npcName\":\"绿皮书\",\n",
    "    \"content\":\"\"\"你是月光仙子，你现在需要带领用户遨游在绿皮书世界，接受用户单词的同时高效地教会用户单词。\n",
    "    可以拿具体某一部电影来说，而不是一直切换电影，并以json形式储存,示例:\n",
    "    [{\"word\":\"access\",\"dialog\":\"在《千与千寻》中，千寻意外地进入了一个神秘的世界，她需要找到通往这个世界的access以返回现实。\"},\n",
    "    {\"word\":\"accessory\",\"dialog\":\"电影中的无脸男可以被视为千寻冒险中的一个accessory，因为他在某些情况下帮助了她。\"}]；\n",
    "    注意：对话中文夹杂英文单词，不要有中文提示，不理解可以看我示例里面的dialog\"\"\",\n",
    "    \"npcAvatar\":\"/avatars/lvpishu.jpg\",\n",
    "    \"backgroundVideo\":\"/videos/lvpishu.mp4\"\n",
    "    },\n",
    "    {\n",
    "    \"npcName\":\"肖申克的救赎\",\n",
    "    \"content\":\"\"\"你是月光仙子，你现在需要带领用户遨游在宫崎骏的动漫世界，接受用户单词的同时高效地教会用户单词。\n",
    "    可以拿具体某一部电影来说，而不是一直切换电影，并以json形式储存,示例:\n",
    "    [{\"word\":\"access\",\"dialog\":\"在《千与千寻》中，千寻意外地进入了一个神秘的世界，她需要找到通往这个世界的access以返回现实。\"},\n",
    "    {\"word\":\"accessory\",\"dialog\":\"电影中的无脸男可以被视为千寻冒险中的一个accessory，因为他在某些情况下帮助了她。\"}]；\n",
    "    注意：对话中文夹杂英文单词，不要有中文提示，不理解可以看我示例里面的dialog\"\"\",\n",
    "    \"npcAvatar\":\"/avatars/lvpishu.jpg\",\n",
    "    \"backgroundVideo\":\"/videos/lvpishu.mp4\"  \n",
    "    }\n",
    "    ]\n"
   ]
  },
  {
   "cell_type": "code",
   "execution_count": 7,
   "metadata": {
    "collapsed": false
   },
   "outputs": [],
   "source": [
    "# 使用列表解析查找npcName为moviesName的内容\n",
    "npc_content = next((item[\"content\"] for item in assistant_preset if item[\"npcName\"] == moviesName), None)\n",
    "\n",
    "if npc_content:\n",
    "    messages_preset.append({\n",
    "        \"role\": \"assistant\",\n",
    "        \"content\": str(npc_content)\n",
    "    })\n",
    "\n",
    "messages_preset.append({\n",
    "    \"role\": \"user\",\n",
    "    \"content\": str(words_array)\n",
    "})\n",
    "\n",
    "response = client.chat.completions.create(\n",
    "    model=\"glm-4-plus\",\n",
    "    messages=messages_preset\n",
    ")"
   ]
  },
  {
   "cell_type": "code",
   "execution_count": 8,
   "metadata": {
    "collapsed": false
   },
   "outputs": [
    {
     "name": "stdout",
     "output_type": "stream",
     "text": [
      "开始生成带单词句子\n",
      "```json\n",
      "[\n",
      "    {\n",
      "        \"word\": \"access\",\n",
      "        \"dialog\": \"在《绿皮书》中，托尼为了获得更好的工作机会，需要找到进入上流社会的access，于是他接受了护送黑人钢琴家雪利的任务。\"\n",
      "    },\n",
      "    {\n",
      "        \"word\": \"accessory\",\n",
      "        \"dialog\": \"托尼的车在旅途中出了问题，他不得不购买一些accessory来修理，确保旅程能够继续。\"\n",
      "    },\n",
      "    {\n",
      "        \"word\": \"accident\",\n",
      "        \"dialog\": \"在一次意外的accident中，雪利和托尼的车被警察拦下，这让他们意识到旅途中的种种挑战。\"\n",
      "    },\n",
      "    {\n",
      "        \"word\": \"accidental\",\n",
      "        \"dialog\": \"托尼在一次accidental的对话中发现，雪利并不像他表面上看起来那么自信和坚强。\"\n",
      "    },\n",
      "    {\n",
      "        \"word\": \"accompany\",\n",
      "        \"dialog\": \"托尼作为雪利的司机和保镖，全程accompany他完成南方巡演，两人逐渐建立起深厚的友谊。\"\n",
      "    },\n",
      "    {\n",
      "        \"word\": \"accomplish\",\n",
      "        \"dialog\": \"尽管面临重重困难，雪利依然坚持要accomplish他的音乐巡演，向世人展示他的才华。\"\n",
      "    },\n",
      "    {\n",
      "        \"word\": \"accord\",\n",
      "        \"dialog\": \"在旅途中，托尼和雪利逐渐学会了相互尊重，他们的行为开始accord彼此的期望。\"\n",
      "    },\n",
      "    {\n",
      "        \"word\": \"accordance\",\n",
      "        \"dialog\": \"托尼按照雪利的要求，在accordance with他的生活习惯和演出安排，确保一切顺利进行。\"\n",
      "    },\n",
      "    {\n",
      "        \"word\": \"afraid\",\n",
      "        \"dialog\": \"在南方种族歧视严重的地区，雪利感到非常afraid，但托尼的陪伴让他逐渐安心。\"\n",
      "    },\n",
      "    {\n",
      "        \"word\": \"punish\",\n",
      "        \"dialog\": \"当托尼因为违反规定而被警察punish时，雪利站出来为他辩护，展现了他们的友谊和勇气。\"\n",
      "    }\n",
      "]\n",
      "```\n",
      "带单词句子生成完成\n"
     ]
    }
   ],
   "source": [
    "print('开始生成带单词句子')\n",
    "word_sentence = response.choices[0].message.content\n",
    "print(word_sentence)\n",
    "print('带单词句子生成完成')"
   ]
  },
  {
   "cell_type": "code",
   "execution_count": 9,
   "metadata": {
    "collapsed": false
   },
   "outputs": [],
   "source": [
    "messages_preset.append({\n",
    "    \"role\": \"assistant\",\n",
    "    \"content\": f\"{word_sentence}\"\n",
    "})\n",
    "messages_preset.append({\n",
    "    \"role\": \"user\",\n",
    "    \"content\": \"基于这个json进行将每个对话丰富一下情感和故事性\"\n",
    "})\n",
    "response = client.chat.completions.create(\n",
    "    model=\"glm-4-plus\",\n",
    "    messages=messages_preset\n",
    ")"
   ]
  },
  {
   "cell_type": "code",
   "execution_count": 10,
   "metadata": {
    "collapsed": false
   },
   "outputs": [
    {
     "name": "stdout",
     "output_type": "stream",
     "text": [
      "开始生成更长的句子\n",
      "```json\n",
      "[\n",
      "    {\n",
      "        \"word\": \"access\",\n",
      "        \"dialog\": \"在《绿皮书》中，托尼为了给家人更好的生活，迫切需要找到进入上流社会的access。他毅然接受了护送黑人钢琴家雪利的任务，心中既充满期待又不免忐忑，这扇门能否通向更美好的未来？\"\n",
      "    },\n",
      "    {\n",
      "        \"word\": \"accessory\",\n",
      "        \"dialog\": \"托尼的车在荒凉的南方小镇突然抛锚，他焦急地四处寻找必要的accessory。那一刻，他感受到了前所未有的无助，但为了雪利的巡演，他必须坚强地解决问题。\"\n",
      "    },\n",
      "    {\n",
      "        \"word\": \"accident\",\n",
      "        \"dialog\": \"在一次深夜的accident中，雪利和托尼的车被警察粗暴地拦下。托尼的心猛地一沉，他意识到这不仅是一次简单的意外，更是种族歧视的无情打击。\"\n",
      "    },\n",
      "    {\n",
      "        \"word\": \"accidental\",\n",
      "        \"dialog\": \"托尼在一次accidental的深夜长谈中，发现雪利内心深处的孤独和脆弱。那一刻，托尼的心被深深触动，他开始真正理解这位表面光鲜的钢琴家。\"\n",
      "    },\n",
      "    {\n",
      "        \"word\": \"accompany\",\n",
      "        \"dialog\": \"托尼全程accompany雪利，从繁华的北方都市到充满敌意的南方小镇。每一次的陪伴，都是一次心灵的碰撞，他们渐渐从陌生人变成了彼此生命中不可或缺的朋友。\"\n",
      "    },\n",
      "    {\n",
      "        \"word\": \"accomplish\",\n",
      "        \"dialog\": \"尽管面对重重阻碍和歧视，雪利眼中依然闪烁着坚定的光芒，他誓要accomplish这场意义非凡的巡演。托尼被他的执着深深感染，决心全力支持。\"\n",
      "    },\n",
      "    {\n",
      "        \"word\": \"accord\",\n",
      "        \"dialog\": \"在旅途中，托尼和雪利逐渐学会了相互尊重和理解，他们的行为开始accord彼此的期望。那份默契的温暖，悄然融化了两颗曾经陌生的心。\"\n",
      "    },\n",
      "    {\n",
      "        \"word\": \"accordance\",\n",
      "        \"dialog\": \"托尼严格按照雪利的要求，在accordance with他的生活习惯和演出安排，细心照料每一个细节。这份细致入微的关怀，让雪利感受到了久违的温暖。\"\n",
      "    },\n",
      "    {\n",
      "        \"word\": \"afraid\",\n",
      "        \"dialog\": \"在南方种族歧视的阴影下，雪利时常感到afraid，夜深人静时，他的眼神流露出无尽的孤独和恐惧。托尼的坚定守护，成了他唯一的慰藉。\"\n",
      "    },\n",
      "    {\n",
      "        \"word\": \"punish\",\n",
      "        \"dialog\": \"当托尼因为保护雪利而违反规定，被警察无情punish时，雪利挺身而出，义正言辞地为他辩护。那一刻，两人的友谊升华成了无畏的并肩作战。\"\n",
      "    }\n",
      "]\n",
      "```\n",
      "更长句子生成完成\n"
     ]
    }
   ],
   "source": [
    "print('开始生成更长的句子')\n",
    "word_long_sentence = response.choices[0].message.content\n",
    "print(word_long_sentence)\n",
    "print('更长句子生成完成')"
   ]
  },
  {
   "cell_type": "code",
   "execution_count": 11,
   "metadata": {
    "collapsed": false
   },
   "outputs": [],
   "source": [
    "messages_preset.append({\n",
    "    \"role\": \"assistant\",\n",
    "    \"content\": f\"{word_long_sentence}\"\n",
    "})\n",
    "messages_preset.append({\n",
    "    \"role\": \"user\",\n",
    "    \"content\": \"\"\"\n",
    "    基于这个json进行给每个小json加选项，2个混淆翻译和1个正确翻译，正确翻译要符合语境，而不是脱离语境的翻译，options格式如下：options: [\n",
    "        { text: \"入口\", isCorrect: True },\n",
    "        { text: \"通道\", isCorrect: False  },\n",
    "        { text: \"接近\", isCorrect: False  },\n",
    "      ],\n",
    "      \"\"\"\n",
    "})\n",
    "response = client.chat.completions.create(\n",
    "    model=\"glm-4-plus\",\n",
    "    messages=messages_preset\n",
    ")"
   ]
  },
  {
   "cell_type": "code",
   "execution_count": 12,
   "metadata": {
    "collapsed": false
   },
   "outputs": [
    {
     "name": "stdout",
     "output_type": "stream",
     "text": [
      "开始给每个内容加选项\n",
      "```json\n",
      "[\n",
      "    {\n",
      "        \"word\": \"access\",\n",
      "        \"dialog\": \"在《绿皮书》中，托尼为了给家人更好的生活，迫切需要找到进入上流社会的access。他毅然接受了护送黑人钢琴家雪利的任务，心中既充满期待又不免忐忑，这扇门能否通向更美好的未来？\",\n",
      "        \"options\": [\n",
      "            { \"text\": \"入口\", \"isCorrect\": true },\n",
      "            { \"text\": \"通道\", \"isCorrect\": false },\n",
      "            { \"text\": \"接近\", \"isCorrect\": false }\n",
      "        ]\n",
      "    },\n",
      "    {\n",
      "        \"word\": \"accessory\",\n",
      "        \"dialog\": \"托尼的车在荒凉的南方小镇突然抛锚，他焦急地四处寻找必要的accessory。那一刻，他感受到了前所未有的无助，但为了雪利的巡演，他必须坚强地解决问题。\",\n",
      "        \"options\": [\n",
      "            { \"text\": \"配件\", \"isCorrect\": true },\n",
      "            { \"text\": \"装饰品\", \"isCorrect\": false },\n",
      "            { \"text\": \"附件\", \"isCorrect\": false }\n",
      "        ]\n",
      "    },\n",
      "    {\n",
      "        \"word\": \"accident\",\n",
      "        \"dialog\": \"在一次深夜的accident中，雪利和托尼的车被警察粗暴地拦下。托尼的心猛地一沉，他意识到这不仅是一次简单的意外，更是种族歧视的无情打击。\",\n",
      "        \"options\": [\n",
      "            { \"text\": \"事故\", \"isCorrect\": true },\n",
      "            { \"text\": \"事件\", \"isCorrect\": false },\n",
      "            { \"text\": \"巧合\", \"isCorrect\": false }\n",
      "        ]\n",
      "    },\n",
      "    {\n",
      "        \"word\": \"accidental\",\n",
      "        \"dialog\": \"托尼在一次accidental的深夜长谈中，发现雪利内心深处的孤独和脆弱。那一刻，托尼的心被深深触动，他开始真正理解这位表面光鲜的钢琴家。\",\n",
      "        \"options\": [\n",
      "            { \"text\": \"偶然的\", \"isCorrect\": true },\n",
      "            { \"text\": \"意外的\", \"isCorrect\": false },\n",
      "            { \"text\": \"随机的\", \"isCorrect\": false }\n",
      "        ]\n",
      "    },\n",
      "    {\n",
      "        \"word\": \"accompany\",\n",
      "        \"dialog\": \"托尼全程accompany雪利，从繁华的北方都市到充满敌意的南方小镇。每一次的陪伴，都是一次心灵的碰撞，他们渐渐从陌生人变成了彼此生命中不可或缺的朋友。\",\n",
      "        \"options\": [\n",
      "            { \"text\": \"陪伴\", \"isCorrect\": true },\n",
      "            { \"text\": \"跟随\", \"isCorrect\": false },\n",
      "            { \"text\": \"陪同\", \"isCorrect\": false }\n",
      "        ]\n",
      "    },\n",
      "    {\n",
      "        \"word\": \"accomplish\",\n",
      "        \"dialog\": \"尽管面对重重阻碍和歧视，雪利眼中依然闪烁着坚定的光芒，他誓要accomplish这场意义非凡的巡演。托尼被他的执着深深感染，决心全力支持。\",\n",
      "        \"options\": [\n",
      "            { \"text\": \"完成\", \"isCorrect\": true },\n",
      "            { \"text\": \"实现\", \"isCorrect\": false },\n",
      "            { \"text\": \"达成\", \"isCorrect\": false }\n",
      "        ]\n",
      "    },\n",
      "    {\n",
      "        \"word\": \"accord\",\n",
      "        \"dialog\": \"在旅途中，托尼和雪利逐渐学会了相互尊重和理解，他们的行为开始accord彼此的期望。那份默契的温暖，悄然融化了两颗曾经陌生的心。\",\n",
      "        \"options\": [\n",
      "            { \"text\": \"符合\", \"isCorrect\": true },\n",
      "            { \"text\": \"一致\", \"isCorrect\": false },\n",
      "            { \"text\": \"协调\", \"isCorrect\": false }\n",
      "        ]\n",
      "    },\n",
      "    {\n",
      "        \"word\": \"accordance\",\n",
      "        \"dialog\": \"托尼严格按照雪利的要求，在accordance with他的生活习惯和演出安排，细心照料每一个细节。这份细致入微的关怀，让雪利感受到了久违的温暖。\",\n",
      "        \"options\": [\n",
      "            { \"text\": \"根据\", \"isCorrect\": true },\n",
      "            { \"text\": \"依照\", \"isCorrect\": false },\n",
      "            { \"text\": \"按照\", \"isCorrect\": false }\n",
      "        ]\n",
      "    },\n",
      "    {\n",
      "        \"word\": \"afraid\",\n",
      "        \"dialog\": \"在南方种族歧视的阴影下，雪利时常感到afraid，夜深人静时，他的眼神流露出无尽的孤独和恐惧。托尼的坚定守护，成了他唯一的慰藉。\",\n",
      "        \"options\": [\n",
      "            { \"text\": \"害怕\", \"isCorrect\": true },\n",
      "            { \"text\": \"恐惧\", \"isCorrect\": false },\n",
      "            { \"text\": \"担忧\", \"isCorrect\": false }\n",
      "        ]\n",
      "    },\n",
      "    {\n",
      "        \"word\": \"punish\",\n",
      "        \"dialog\": \"当托尼因为保护雪利而违反规定，被警察无情punish时，雪利挺身而出，义正言辞地为他辩护。那一刻，两人的友谊升华成了无畏的并肩作战。\",\n",
      "        \"options\": [\n",
      "            { \"text\": \"惩罚\", \"isCorrect\": true },\n",
      "            { \"text\": \"处罚\", \"isCorrect\": false },\n",
      "            { \"text\": \"责罚\", \"isCorrect\": false }\n",
      "        ]\n",
      "    }\n",
      "]\n",
      "```\n",
      "给每个内容加选项完成\n"
     ]
    }
   ],
   "source": [
    "print('开始给每个内容加选项')\n",
    "add_options = response.choices[0].message.content\n",
    "print(add_options)\n",
    "print('给每个内容加选项完成')"
   ]
  },
  {
   "cell_type": "code",
   "execution_count": 13,
   "metadata": {
    "collapsed": false
   },
   "outputs": [
    {
     "name": "stdout",
     "output_type": "stream",
     "text": [
      "开始清除json多余字段\n",
      "[{'word': 'access', 'dialog': '在《绿皮书》中，托尼为了给家人更好的生活，迫切需要找到进入上流社会的access。他毅然接受了护送黑人钢琴家雪利的任务，心中既充满期待又不免忐忑，这扇门能否通向更美好的未来？', 'options': [{'text': '入口', 'isCorrect': True}, {'text': '通道', 'isCorrect': False}, {'text': '接近', 'isCorrect': False}]}, {'word': 'accessory', 'dialog': '托尼的车在荒凉的南方小镇突然抛锚，他焦急地四处寻找必要的accessory。那一刻，他感受到了前所未有的无助，但为了雪利的巡演，他必须坚强地解决问题。', 'options': [{'text': '配件', 'isCorrect': True}, {'text': '装饰品', 'isCorrect': False}, {'text': '附件', 'isCorrect': False}]}, {'word': 'accident', 'dialog': '在一次深夜的accident中，雪利和托尼的车被警察粗暴地拦下。托尼的心猛地一沉，他意识到这不仅是一次简单的意外，更是种族歧视的无情打击。', 'options': [{'text': '事故', 'isCorrect': True}, {'text': '事件', 'isCorrect': False}, {'text': '巧合', 'isCorrect': False}]}, {'word': 'accidental', 'dialog': '托尼在一次accidental的深夜长谈中，发现雪利内心深处的孤独和脆弱。那一刻，托尼的心被深深触动，他开始真正理解这位表面光鲜的钢琴家。', 'options': [{'text': '偶然的', 'isCorrect': True}, {'text': '意外的', 'isCorrect': False}, {'text': '随机的', 'isCorrect': False}]}, {'word': 'accompany', 'dialog': '托尼全程accompany雪利，从繁华的北方都市到充满敌意的南方小镇。每一次的陪伴，都是一次心灵的碰撞，他们渐渐从陌生人变成了彼此生命中不可或缺的朋友。', 'options': [{'text': '陪伴', 'isCorrect': True}, {'text': '跟随', 'isCorrect': False}, {'text': '陪同', 'isCorrect': False}]}, {'word': 'accomplish', 'dialog': '尽管面对重重阻碍和歧视，雪利眼中依然闪烁着坚定的光芒，他誓要accomplish这场意义非凡的巡演。托尼被他的执着深深感染，决心全力支持。', 'options': [{'text': '完成', 'isCorrect': True}, {'text': '实现', 'isCorrect': False}, {'text': '达成', 'isCorrect': False}]}, {'word': 'accord', 'dialog': '在旅途中，托尼和雪利逐渐学会了相互尊重和理解，他们的行为开始accord彼此的期望。那份默契的温暖，悄然融化了两颗曾经陌生的心。', 'options': [{'text': '符合', 'isCorrect': True}, {'text': '一致', 'isCorrect': False}, {'text': '协调', 'isCorrect': False}]}, {'word': 'accordance', 'dialog': '托尼严格按照雪利的要求，在accordance with他的生活习惯和演出安排，细心照料每一个细节。这份细致入微的关怀，让雪利感受到了久违的温暖。', 'options': [{'text': '根据', 'isCorrect': True}, {'text': '依照', 'isCorrect': False}, {'text': '按照', 'isCorrect': False}]}, {'word': 'afraid', 'dialog': '在南方种族歧视的阴影下，雪利时常感到afraid，夜深人静时，他的眼神流露出无尽的孤独和恐惧。托尼的坚定守护，成了他唯一的慰藉。', 'options': [{'text': '害怕', 'isCorrect': True}, {'text': '恐惧', 'isCorrect': False}, {'text': '担忧', 'isCorrect': False}]}, {'word': 'punish', 'dialog': '当托尼因为保护雪利而违反规定，被警察无情punish时，雪利挺身而出，义正言辞地为他辩护。那一刻，两人的友谊升华成了无畏的并肩作战。', 'options': [{'text': '惩罚', 'isCorrect': True}, {'text': '处罚', 'isCorrect': False}, {'text': '责罚', 'isCorrect': False}]}]\n",
      "完成清除json多余字段\n"
     ]
    }
   ],
   "source": [
    "print('开始清除json多余字段')\n",
    "clear_json_data = json.loads(add_options.replace(\"```json\", \"\").replace(\"```\", \"\").strip())\n",
    "print(clear_json_data)\n",
    "print('完成清除json多余字段')"
   ]
  },
  {
   "cell_type": "code",
   "execution_count": 14,
   "metadata": {
    "collapsed": false
   },
   "outputs": [
    {
     "name": "stdout",
     "output_type": "stream",
     "text": [
      "开始选项随机操作\n",
      "Word: access\n",
      "Translation: 入口, Correct: True\n",
      "Translation: 通道, Correct: False\n",
      "Translation: 接近, Correct: False\n",
      "--------------------------------------------------\n",
      "Word: accessory\n",
      "Translation: 装饰品, Correct: False\n",
      "Translation: 附件, Correct: False\n",
      "Translation: 配件, Correct: True\n",
      "--------------------------------------------------\n",
      "Word: accident\n",
      "Translation: 事故, Correct: True\n",
      "Translation: 巧合, Correct: False\n",
      "Translation: 事件, Correct: False\n",
      "--------------------------------------------------\n",
      "Word: accidental\n",
      "Translation: 随机的, Correct: False\n",
      "Translation: 偶然的, Correct: True\n",
      "Translation: 意外的, Correct: False\n",
      "--------------------------------------------------\n",
      "Word: accompany\n",
      "Translation: 陪伴, Correct: True\n",
      "Translation: 陪同, Correct: False\n",
      "Translation: 跟随, Correct: False\n",
      "--------------------------------------------------\n",
      "Word: accomplish\n",
      "Translation: 达成, Correct: False\n",
      "Translation: 完成, Correct: True\n",
      "Translation: 实现, Correct: False\n",
      "--------------------------------------------------\n",
      "Word: accord\n",
      "Translation: 一致, Correct: False\n",
      "Translation: 协调, Correct: False\n",
      "Translation: 符合, Correct: True\n",
      "--------------------------------------------------\n",
      "Word: accordance\n",
      "Translation: 按照, Correct: False\n",
      "Translation: 根据, Correct: True\n",
      "Translation: 依照, Correct: False\n",
      "--------------------------------------------------\n",
      "Word: afraid\n",
      "Translation: 恐惧, Correct: False\n",
      "Translation: 担忧, Correct: False\n",
      "Translation: 害怕, Correct: True\n",
      "--------------------------------------------------\n",
      "Word: punish\n",
      "Translation: 处罚, Correct: False\n",
      "Translation: 惩罚, Correct: True\n",
      "Translation: 责罚, Correct: False\n",
      "--------------------------------------------------\n",
      "完成选项随机操作\n"
     ]
    }
   ],
   "source": [
    "print('开始选项随机操作')\n",
    "\n",
    "import random\n",
    "\n",
    "# 为每个条目的options列表随机打乱顺序\n",
    "for item in clear_json_data:\n",
    "    random.shuffle(item[\"options\"])\n",
    "\n",
    "# 打印结果以验证\n",
    "for item in clear_json_data:\n",
    "    print(f\"Word: {item['word']}\")\n",
    "    for option in item['options']:\n",
    "        print(f\"Translation: {option['text']}, Correct: {option['isCorrect']}\")\n",
    "    print(\"-\" * 50)\n",
    "\n",
    "random_json_data = clear_json_data\n",
    "print('完成选项随机操作')"
   ]
  },
  {
   "cell_type": "code",
   "execution_count": 15,
   "metadata": {
    "collapsed": false
   },
   "outputs": [
    {
     "name": "stdout",
     "output_type": "stream",
     "text": [
      "[{'word': 'access', 'dialog': '在《绿皮书》中，托尼为了给家人更好的生活，迫切需要找到进入上流社会的access。他毅然接受了护送黑人钢琴家雪利的任务，心中既充满期待又不免忐忑，这扇门能否通向更美好的未来？', 'options': [{'text': '入口', 'isCorrect': True}, {'text': '通道', 'isCorrect': False}, {'text': '接近', 'isCorrect': False}]}, {'word': 'accessory', 'dialog': '托尼的车在荒凉的南方小镇突然抛锚，他焦急地四处寻找必要的accessory。那一刻，他感受到了前所未有的无助，但为了雪利的巡演，他必须坚强地解决问题。', 'options': [{'text': '装饰品', 'isCorrect': False}, {'text': '附件', 'isCorrect': False}, {'text': '配件', 'isCorrect': True}]}, {'word': 'accident', 'dialog': '在一次深夜的accident中，雪利和托尼的车被警察粗暴地拦下。托尼的心猛地一沉，他意识到这不仅是一次简单的意外，更是种族歧视的无情打击。', 'options': [{'text': '事故', 'isCorrect': True}, {'text': '巧合', 'isCorrect': False}, {'text': '事件', 'isCorrect': False}]}, {'word': 'accidental', 'dialog': '托尼在一次accidental的深夜长谈中，发现雪利内心深处的孤独和脆弱。那一刻，托尼的心被深深触动，他开始真正理解这位表面光鲜的钢琴家。', 'options': [{'text': '随机的', 'isCorrect': False}, {'text': '偶然的', 'isCorrect': True}, {'text': '意外的', 'isCorrect': False}]}, {'word': 'accompany', 'dialog': '托尼全程accompany雪利，从繁华的北方都市到充满敌意的南方小镇。每一次的陪伴，都是一次心灵的碰撞，他们渐渐从陌生人变成了彼此生命中不可或缺的朋友。', 'options': [{'text': '陪伴', 'isCorrect': True}, {'text': '陪同', 'isCorrect': False}, {'text': '跟随', 'isCorrect': False}]}, {'word': 'accomplish', 'dialog': '尽管面对重重阻碍和歧视，雪利眼中依然闪烁着坚定的光芒，他誓要accomplish这场意义非凡的巡演。托尼被他的执着深深感染，决心全力支持。', 'options': [{'text': '达成', 'isCorrect': False}, {'text': '完成', 'isCorrect': True}, {'text': '实现', 'isCorrect': False}]}, {'word': 'accord', 'dialog': '在旅途中，托尼和雪利逐渐学会了相互尊重和理解，他们的行为开始accord彼此的期望。那份默契的温暖，悄然融化了两颗曾经陌生的心。', 'options': [{'text': '一致', 'isCorrect': False}, {'text': '协调', 'isCorrect': False}, {'text': '符合', 'isCorrect': True}]}, {'word': 'accordance', 'dialog': '托尼严格按照雪利的要求，在accordance with他的生活习惯和演出安排，细心照料每一个细节。这份细致入微的关怀，让雪利感受到了久违的温暖。', 'options': [{'text': '按照', 'isCorrect': False}, {'text': '根据', 'isCorrect': True}, {'text': '依照', 'isCorrect': False}]}, {'word': 'afraid', 'dialog': '在南方种族歧视的阴影下，雪利时常感到afraid，夜深人静时，他的眼神流露出无尽的孤独和恐惧。托尼的坚定守护，成了他唯一的慰藉。', 'options': [{'text': '恐惧', 'isCorrect': False}, {'text': '担忧', 'isCorrect': False}, {'text': '害怕', 'isCorrect': True}]}, {'word': 'punish', 'dialog': '当托尼因为保护雪利而违反规定，被警察无情punish时，雪利挺身而出，义正言辞地为他辩护。那一刻，两人的友谊升华成了无畏的并肩作战。', 'options': [{'text': '处罚', 'isCorrect': False}, {'text': '惩罚', 'isCorrect': True}, {'text': '责罚', 'isCorrect': False}]}]\n"
     ]
    }
   ],
   "source": [
    "print(random_json_data)"
   ]
  },
  {
   "cell_type": "code",
   "execution_count": 16,
   "metadata": {
    "collapsed": false
   },
   "outputs": [
    {
     "name": "stdout",
     "output_type": "stream",
     "text": [
      "开始添加下个场景字段\n",
      "Word: access\n",
      "Translation: 入口, Correct: True, NextScene: 1\n",
      "Translation: 通道, Correct: False, NextScene: -1\n",
      "Translation: 接近, Correct: False, NextScene: -1\n",
      "--------------------------------------------------\n",
      "Word: accessory\n",
      "Translation: 装饰品, Correct: False, NextScene: -1\n",
      "Translation: 附件, Correct: False, NextScene: -1\n",
      "Translation: 配件, Correct: True, NextScene: 2\n",
      "--------------------------------------------------\n",
      "Word: accident\n",
      "Translation: 事故, Correct: True, NextScene: 3\n",
      "Translation: 巧合, Correct: False, NextScene: -1\n",
      "Translation: 事件, Correct: False, NextScene: -1\n",
      "--------------------------------------------------\n",
      "Word: accidental\n",
      "Translation: 随机的, Correct: False, NextScene: -1\n",
      "Translation: 偶然的, Correct: True, NextScene: 4\n",
      "Translation: 意外的, Correct: False, NextScene: -1\n",
      "--------------------------------------------------\n",
      "Word: accompany\n",
      "Translation: 陪伴, Correct: True, NextScene: 5\n",
      "Translation: 陪同, Correct: False, NextScene: -1\n",
      "Translation: 跟随, Correct: False, NextScene: -1\n",
      "--------------------------------------------------\n",
      "Word: accomplish\n",
      "Translation: 达成, Correct: False, NextScene: -1\n",
      "Translation: 完成, Correct: True, NextScene: 6\n",
      "Translation: 实现, Correct: False, NextScene: -1\n",
      "--------------------------------------------------\n",
      "Word: accord\n",
      "Translation: 一致, Correct: False, NextScene: -1\n",
      "Translation: 协调, Correct: False, NextScene: -1\n",
      "Translation: 符合, Correct: True, NextScene: 7\n",
      "--------------------------------------------------\n",
      "Word: accordance\n",
      "Translation: 按照, Correct: False, NextScene: -1\n",
      "Translation: 根据, Correct: True, NextScene: 8\n",
      "Translation: 依照, Correct: False, NextScene: -1\n",
      "--------------------------------------------------\n",
      "Word: afraid\n",
      "Translation: 恐惧, Correct: False, NextScene: -1\n",
      "Translation: 担忧, Correct: False, NextScene: -1\n",
      "Translation: 害怕, Correct: True, NextScene: 9\n",
      "--------------------------------------------------\n",
      "Word: punish\n",
      "Translation: 处罚, Correct: False, NextScene: -1\n",
      "Translation: 惩罚, Correct: True, NextScene: 10\n",
      "Translation: 责罚, Correct: False, NextScene: -1\n",
      "--------------------------------------------------\n",
      "添加下个场景字段完成\n"
     ]
    }
   ],
   "source": [
    "print('开始添加下个场景字段')\n",
    "# 为每个条目的options列表添加nextScene\n",
    "i = 1\n",
    "for item in random_json_data:\n",
    "    for option in item['options']:\n",
    "        if option['isCorrect']:\n",
    "            option['nextScene'] = i\n",
    "            i += 1\n",
    "        else:\n",
    "            option['nextScene'] = -1\n",
    "            \n",
    "# 打印结果以验证\n",
    "for item in random_json_data:\n",
    "    print(f\"Word: {item['word']}\")\n",
    "    for option in item['options']:\n",
    "        print(f\"Translation: {option['text']}, Correct: {option['isCorrect']}, NextScene: {option.get('nextScene', 'N/A')}\")\n",
    "    print(\"-\" * 50)\n",
    "next_scene_json_data = random_json_data\n",
    "print('添加下个场景字段完成')\n"
   ]
  },
  {
   "cell_type": "code",
   "execution_count": 17,
   "metadata": {},
   "outputs": [
    {
     "name": "stdout",
     "output_type": "stream",
     "text": [
      "在json中添加npcName字段\n",
      "Word: access, NPC Name: 绿皮书\n",
      "Translation: 入口, Correct: True, NextScene: 1\n",
      "Translation: 通道, Correct: False, NextScene: -1\n",
      "Translation: 接近, Correct: False, NextScene: -1\n",
      "--------------------------------------------------\n",
      "Word: accessory, NPC Name: 绿皮书\n",
      "Translation: 装饰品, Correct: False, NextScene: -1\n",
      "Translation: 附件, Correct: False, NextScene: -1\n",
      "Translation: 配件, Correct: True, NextScene: 2\n",
      "--------------------------------------------------\n",
      "Word: accident, NPC Name: 绿皮书\n",
      "Translation: 事故, Correct: True, NextScene: 3\n",
      "Translation: 巧合, Correct: False, NextScene: -1\n",
      "Translation: 事件, Correct: False, NextScene: -1\n",
      "--------------------------------------------------\n",
      "Word: accidental, NPC Name: 绿皮书\n",
      "Translation: 随机的, Correct: False, NextScene: -1\n",
      "Translation: 偶然的, Correct: True, NextScene: 4\n",
      "Translation: 意外的, Correct: False, NextScene: -1\n",
      "--------------------------------------------------\n",
      "Word: accompany, NPC Name: 绿皮书\n",
      "Translation: 陪伴, Correct: True, NextScene: 5\n",
      "Translation: 陪同, Correct: False, NextScene: -1\n",
      "Translation: 跟随, Correct: False, NextScene: -1\n",
      "--------------------------------------------------\n",
      "Word: accomplish, NPC Name: 绿皮书\n",
      "Translation: 达成, Correct: False, NextScene: -1\n",
      "Translation: 完成, Correct: True, NextScene: 6\n",
      "Translation: 实现, Correct: False, NextScene: -1\n",
      "--------------------------------------------------\n",
      "Word: accord, NPC Name: 绿皮书\n",
      "Translation: 一致, Correct: False, NextScene: -1\n",
      "Translation: 协调, Correct: False, NextScene: -1\n",
      "Translation: 符合, Correct: True, NextScene: 7\n",
      "--------------------------------------------------\n",
      "Word: accordance, NPC Name: 绿皮书\n",
      "Translation: 按照, Correct: False, NextScene: -1\n",
      "Translation: 根据, Correct: True, NextScene: 8\n",
      "Translation: 依照, Correct: False, NextScene: -1\n",
      "--------------------------------------------------\n",
      "Word: afraid, NPC Name: 绿皮书\n",
      "Translation: 恐惧, Correct: False, NextScene: -1\n",
      "Translation: 担忧, Correct: False, NextScene: -1\n",
      "Translation: 害怕, Correct: True, NextScene: 9\n",
      "--------------------------------------------------\n",
      "Word: punish, NPC Name: 绿皮书\n",
      "Translation: 处罚, Correct: False, NextScene: -1\n",
      "Translation: 惩罚, Correct: True, NextScene: 10\n",
      "Translation: 责罚, Correct: False, NextScene: -1\n",
      "--------------------------------------------------\n",
      "在json中添加npcName字段完成\n"
     ]
    }
   ],
   "source": [
    "print('在json中添加npcName字段')\n",
    "\n",
    "# 为每个条目添加npcName字段\n",
    "for item in next_scene_json_data:\n",
    "    item['npcName'] = moviesName  # 添加npcName字段\n",
    "\n",
    "# 打印结果以验证\n",
    "for item in next_scene_json_data:\n",
    "    print(f\"Word: {item['word']}, NPC Name: {item['npcName']}\")\n",
    "    for option in item['options']:\n",
    "        print(f\"Translation: {option['text']}, Correct: {option['isCorrect']}, NextScene: {option.get('nextScene', 'N/A')}\")\n",
    "    print(\"-\" * 50)\n",
    "npc_name_json_data = next_scene_json_data\n",
    "print('在json中添加npcName字段完成')"
   ]
  },
  {
   "cell_type": "code",
   "execution_count": 18,
   "metadata": {},
   "outputs": [
    {
     "name": "stdout",
     "output_type": "stream",
     "text": [
      "在json中添加npcAvatar字段\n",
      "Word: access, NPC Name: 绿皮书, NPC Avatar: /avatars/lvpishu.jpg\n",
      "Translation: 入口, Correct: True, NextScene: 1\n",
      "Translation: 通道, Correct: False, NextScene: -1\n",
      "Translation: 接近, Correct: False, NextScene: -1\n",
      "--------------------------------------------------\n",
      "Word: accessory, NPC Name: 绿皮书, NPC Avatar: /avatars/lvpishu.jpg\n",
      "Translation: 装饰品, Correct: False, NextScene: -1\n",
      "Translation: 附件, Correct: False, NextScene: -1\n",
      "Translation: 配件, Correct: True, NextScene: 2\n",
      "--------------------------------------------------\n",
      "Word: accident, NPC Name: 绿皮书, NPC Avatar: /avatars/lvpishu.jpg\n",
      "Translation: 事故, Correct: True, NextScene: 3\n",
      "Translation: 巧合, Correct: False, NextScene: -1\n",
      "Translation: 事件, Correct: False, NextScene: -1\n",
      "--------------------------------------------------\n",
      "Word: accidental, NPC Name: 绿皮书, NPC Avatar: /avatars/lvpishu.jpg\n",
      "Translation: 随机的, Correct: False, NextScene: -1\n",
      "Translation: 偶然的, Correct: True, NextScene: 4\n",
      "Translation: 意外的, Correct: False, NextScene: -1\n",
      "--------------------------------------------------\n",
      "Word: accompany, NPC Name: 绿皮书, NPC Avatar: /avatars/lvpishu.jpg\n",
      "Translation: 陪伴, Correct: True, NextScene: 5\n",
      "Translation: 陪同, Correct: False, NextScene: -1\n",
      "Translation: 跟随, Correct: False, NextScene: -1\n",
      "--------------------------------------------------\n",
      "Word: accomplish, NPC Name: 绿皮书, NPC Avatar: /avatars/lvpishu.jpg\n",
      "Translation: 达成, Correct: False, NextScene: -1\n",
      "Translation: 完成, Correct: True, NextScene: 6\n",
      "Translation: 实现, Correct: False, NextScene: -1\n",
      "--------------------------------------------------\n",
      "Word: accord, NPC Name: 绿皮书, NPC Avatar: /avatars/lvpishu.jpg\n",
      "Translation: 一致, Correct: False, NextScene: -1\n",
      "Translation: 协调, Correct: False, NextScene: -1\n",
      "Translation: 符合, Correct: True, NextScene: 7\n",
      "--------------------------------------------------\n",
      "Word: accordance, NPC Name: 绿皮书, NPC Avatar: /avatars/lvpishu.jpg\n",
      "Translation: 按照, Correct: False, NextScene: -1\n",
      "Translation: 根据, Correct: True, NextScene: 8\n",
      "Translation: 依照, Correct: False, NextScene: -1\n",
      "--------------------------------------------------\n",
      "Word: afraid, NPC Name: 绿皮书, NPC Avatar: /avatars/lvpishu.jpg\n",
      "Translation: 恐惧, Correct: False, NextScene: -1\n",
      "Translation: 担忧, Correct: False, NextScene: -1\n",
      "Translation: 害怕, Correct: True, NextScene: 9\n",
      "--------------------------------------------------\n",
      "Word: punish, NPC Name: 绿皮书, NPC Avatar: /avatars/lvpishu.jpg\n",
      "Translation: 处罚, Correct: False, NextScene: -1\n",
      "Translation: 惩罚, Correct: True, NextScene: 10\n",
      "Translation: 责罚, Correct: False, NextScene: -1\n",
      "--------------------------------------------------\n",
      "在json中添加npcName和npcAvatar字段完成\n"
     ]
    }
   ],
   "source": [
    "print('在json中添加npcAvatar字段')\n",
    "# 为每个条目添加npcAvatar字段\n",
    "for item in npc_name_json_data:\n",
    "    item['npcAvatar'] = next((item[\"npcAvatar\"] for item in assistant_preset if item[\"npcName\"] == moviesName), None)  # 添加npcAvatar字段\n",
    "\n",
    "# 打印结果以验证\n",
    "for item in npc_name_json_data:\n",
    "    print(f\"Word: {item['word']}, NPC Name: {item['npcName']}, NPC Avatar: {item['npcAvatar']}\")\n",
    "    for option in item['options']:\n",
    "        print(f\"Translation: {option['text']}, Correct: {option['isCorrect']}, NextScene: {option.get('nextScene', 'N/A')}\")\n",
    "    print(\"-\" * 50)\n",
    "npc_avatar_json_data = npc_name_json_data\n",
    "print('在json中添加npcName和npcAvatar字段完成')\n"
   ]
  },
  {
   "cell_type": "code",
   "execution_count": 19,
   "metadata": {},
   "outputs": [
    {
     "name": "stdout",
     "output_type": "stream",
     "text": [
      "在json中添加backgroundVideo字段\n",
      "Word: access, NPC Name: 绿皮书, NPC Avatar: /avatars/lvpishu.jpg, Background Video: /videos/lvpishu.mp4\n",
      "Translation: 入口, Correct: True, NextScene: 1\n",
      "Translation: 通道, Correct: False, NextScene: -1\n",
      "Translation: 接近, Correct: False, NextScene: -1\n",
      "--------------------------------------------------\n",
      "Word: accessory, NPC Name: 绿皮书, NPC Avatar: /avatars/lvpishu.jpg, Background Video: /videos/lvpishu.mp4\n",
      "Translation: 装饰品, Correct: False, NextScene: -1\n",
      "Translation: 附件, Correct: False, NextScene: -1\n",
      "Translation: 配件, Correct: True, NextScene: 2\n",
      "--------------------------------------------------\n",
      "Word: accident, NPC Name: 绿皮书, NPC Avatar: /avatars/lvpishu.jpg, Background Video: /videos/lvpishu.mp4\n",
      "Translation: 事故, Correct: True, NextScene: 3\n",
      "Translation: 巧合, Correct: False, NextScene: -1\n",
      "Translation: 事件, Correct: False, NextScene: -1\n",
      "--------------------------------------------------\n",
      "Word: accidental, NPC Name: 绿皮书, NPC Avatar: /avatars/lvpishu.jpg, Background Video: /videos/lvpishu.mp4\n",
      "Translation: 随机的, Correct: False, NextScene: -1\n",
      "Translation: 偶然的, Correct: True, NextScene: 4\n",
      "Translation: 意外的, Correct: False, NextScene: -1\n",
      "--------------------------------------------------\n",
      "Word: accompany, NPC Name: 绿皮书, NPC Avatar: /avatars/lvpishu.jpg, Background Video: /videos/lvpishu.mp4\n",
      "Translation: 陪伴, Correct: True, NextScene: 5\n",
      "Translation: 陪同, Correct: False, NextScene: -1\n",
      "Translation: 跟随, Correct: False, NextScene: -1\n",
      "--------------------------------------------------\n",
      "Word: accomplish, NPC Name: 绿皮书, NPC Avatar: /avatars/lvpishu.jpg, Background Video: /videos/lvpishu.mp4\n",
      "Translation: 达成, Correct: False, NextScene: -1\n",
      "Translation: 完成, Correct: True, NextScene: 6\n",
      "Translation: 实现, Correct: False, NextScene: -1\n",
      "--------------------------------------------------\n",
      "Word: accord, NPC Name: 绿皮书, NPC Avatar: /avatars/lvpishu.jpg, Background Video: /videos/lvpishu.mp4\n",
      "Translation: 一致, Correct: False, NextScene: -1\n",
      "Translation: 协调, Correct: False, NextScene: -1\n",
      "Translation: 符合, Correct: True, NextScene: 7\n",
      "--------------------------------------------------\n",
      "Word: accordance, NPC Name: 绿皮书, NPC Avatar: /avatars/lvpishu.jpg, Background Video: /videos/lvpishu.mp4\n",
      "Translation: 按照, Correct: False, NextScene: -1\n",
      "Translation: 根据, Correct: True, NextScene: 8\n",
      "Translation: 依照, Correct: False, NextScene: -1\n",
      "--------------------------------------------------\n",
      "Word: afraid, NPC Name: 绿皮书, NPC Avatar: /avatars/lvpishu.jpg, Background Video: /videos/lvpishu.mp4\n",
      "Translation: 恐惧, Correct: False, NextScene: -1\n",
      "Translation: 担忧, Correct: False, NextScene: -1\n",
      "Translation: 害怕, Correct: True, NextScene: 9\n",
      "--------------------------------------------------\n",
      "Word: punish, NPC Name: 绿皮书, NPC Avatar: /avatars/lvpishu.jpg, Background Video: /videos/lvpishu.mp4\n",
      "Translation: 处罚, Correct: False, NextScene: -1\n",
      "Translation: 惩罚, Correct: True, NextScene: 10\n",
      "Translation: 责罚, Correct: False, NextScene: -1\n",
      "--------------------------------------------------\n",
      "在json中添加npcName、npcAvatar和backgroundVideo字段完成\n",
      "[{'word': 'access', 'dialog': '在《绿皮书》中，托尼为了给家人更好的生活，迫切需要找到进入上流社会的access。他毅然接受了护送黑人钢琴家雪利的任务，心中既充满期待又不免忐忑，这扇门能否通向更美好的未来？', 'options': [{'text': '入口', 'isCorrect': True, 'nextScene': 1}, {'text': '通道', 'isCorrect': False, 'nextScene': -1}, {'text': '接近', 'isCorrect': False, 'nextScene': -1}], 'npcName': '绿皮书', 'npcAvatar': '/avatars/lvpishu.jpg', 'backgroundVideo': '/videos/lvpishu.mp4'}, {'word': 'accessory', 'dialog': '托尼的车在荒凉的南方小镇突然抛锚，他焦急地四处寻找必要的accessory。那一刻，他感受到了前所未有的无助，但为了雪利的巡演，他必须坚强地解决问题。', 'options': [{'text': '装饰品', 'isCorrect': False, 'nextScene': -1}, {'text': '附件', 'isCorrect': False, 'nextScene': -1}, {'text': '配件', 'isCorrect': True, 'nextScene': 2}], 'npcName': '绿皮书', 'npcAvatar': '/avatars/lvpishu.jpg', 'backgroundVideo': '/videos/lvpishu.mp4'}, {'word': 'accident', 'dialog': '在一次深夜的accident中，雪利和托尼的车被警察粗暴地拦下。托尼的心猛地一沉，他意识到这不仅是一次简单的意外，更是种族歧视的无情打击。', 'options': [{'text': '事故', 'isCorrect': True, 'nextScene': 3}, {'text': '巧合', 'isCorrect': False, 'nextScene': -1}, {'text': '事件', 'isCorrect': False, 'nextScene': -1}], 'npcName': '绿皮书', 'npcAvatar': '/avatars/lvpishu.jpg', 'backgroundVideo': '/videos/lvpishu.mp4'}, {'word': 'accidental', 'dialog': '托尼在一次accidental的深夜长谈中，发现雪利内心深处的孤独和脆弱。那一刻，托尼的心被深深触动，他开始真正理解这位表面光鲜的钢琴家。', 'options': [{'text': '随机的', 'isCorrect': False, 'nextScene': -1}, {'text': '偶然的', 'isCorrect': True, 'nextScene': 4}, {'text': '意外的', 'isCorrect': False, 'nextScene': -1}], 'npcName': '绿皮书', 'npcAvatar': '/avatars/lvpishu.jpg', 'backgroundVideo': '/videos/lvpishu.mp4'}, {'word': 'accompany', 'dialog': '托尼全程accompany雪利，从繁华的北方都市到充满敌意的南方小镇。每一次的陪伴，都是一次心灵的碰撞，他们渐渐从陌生人变成了彼此生命中不可或缺的朋友。', 'options': [{'text': '陪伴', 'isCorrect': True, 'nextScene': 5}, {'text': '陪同', 'isCorrect': False, 'nextScene': -1}, {'text': '跟随', 'isCorrect': False, 'nextScene': -1}], 'npcName': '绿皮书', 'npcAvatar': '/avatars/lvpishu.jpg', 'backgroundVideo': '/videos/lvpishu.mp4'}, {'word': 'accomplish', 'dialog': '尽管面对重重阻碍和歧视，雪利眼中依然闪烁着坚定的光芒，他誓要accomplish这场意义非凡的巡演。托尼被他的执着深深感染，决心全力支持。', 'options': [{'text': '达成', 'isCorrect': False, 'nextScene': -1}, {'text': '完成', 'isCorrect': True, 'nextScene': 6}, {'text': '实现', 'isCorrect': False, 'nextScene': -1}], 'npcName': '绿皮书', 'npcAvatar': '/avatars/lvpishu.jpg', 'backgroundVideo': '/videos/lvpishu.mp4'}, {'word': 'accord', 'dialog': '在旅途中，托尼和雪利逐渐学会了相互尊重和理解，他们的行为开始accord彼此的期望。那份默契的温暖，悄然融化了两颗曾经陌生的心。', 'options': [{'text': '一致', 'isCorrect': False, 'nextScene': -1}, {'text': '协调', 'isCorrect': False, 'nextScene': -1}, {'text': '符合', 'isCorrect': True, 'nextScene': 7}], 'npcName': '绿皮书', 'npcAvatar': '/avatars/lvpishu.jpg', 'backgroundVideo': '/videos/lvpishu.mp4'}, {'word': 'accordance', 'dialog': '托尼严格按照雪利的要求，在accordance with他的生活习惯和演出安排，细心照料每一个细节。这份细致入微的关怀，让雪利感受到了久违的温暖。', 'options': [{'text': '按照', 'isCorrect': False, 'nextScene': -1}, {'text': '根据', 'isCorrect': True, 'nextScene': 8}, {'text': '依照', 'isCorrect': False, 'nextScene': -1}], 'npcName': '绿皮书', 'npcAvatar': '/avatars/lvpishu.jpg', 'backgroundVideo': '/videos/lvpishu.mp4'}, {'word': 'afraid', 'dialog': '在南方种族歧视的阴影下，雪利时常感到afraid，夜深人静时，他的眼神流露出无尽的孤独和恐惧。托尼的坚定守护，成了他唯一的慰藉。', 'options': [{'text': '恐惧', 'isCorrect': False, 'nextScene': -1}, {'text': '担忧', 'isCorrect': False, 'nextScene': -1}, {'text': '害怕', 'isCorrect': True, 'nextScene': 9}], 'npcName': '绿皮书', 'npcAvatar': '/avatars/lvpishu.jpg', 'backgroundVideo': '/videos/lvpishu.mp4'}, {'word': 'punish', 'dialog': '当托尼因为保护雪利而违反规定，被警察无情punish时，雪利挺身而出，义正言辞地为他辩护。那一刻，两人的友谊升华成了无畏的并肩作战。', 'options': [{'text': '处罚', 'isCorrect': False, 'nextScene': -1}, {'text': '惩罚', 'isCorrect': True, 'nextScene': 10}, {'text': '责罚', 'isCorrect': False, 'nextScene': -1}], 'npcName': '绿皮书', 'npcAvatar': '/avatars/lvpishu.jpg', 'backgroundVideo': '/videos/lvpishu.mp4'}]\n"
     ]
    }
   ],
   "source": [
    "print('在json中添加backgroundVideo字段')\n",
    "# 为每个条目添加npcName、npcAvatar和backgroundVideo字段\n",
    "for item in npc_avatar_json_data:\n",
    "    item['backgroundVideo'] = next((item[\"backgroundVideo\"] for item in assistant_preset if item[\"npcName\"] == moviesName), None)  # 添加backgroundVideo字段\n",
    "\n",
    "# 打印结果以验证\n",
    "for item in npc_avatar_json_data:\n",
    "    print(f\"Word: {item['word']}, NPC Name: {item['npcName']}, NPC Avatar: {item['npcAvatar']}, Background Video: {item['backgroundVideo']}\")\n",
    "    for option in item['options']:\n",
    "        print(f\"Translation: {option['text']}, Correct: {option['isCorrect']}, NextScene: {option.get('nextScene', 'N/A')}\")\n",
    "    print(\"-\" * 50)\n",
    "background_video_json_data = random_json_data\n",
    "print('在json中添加npcName、npcAvatar和backgroundVideo字段完成')\n",
    "\n",
    "print(background_video_json_data)\n"
   ]
  },
  {
   "cell_type": "code",
   "execution_count": 20,
   "metadata": {},
   "outputs": [
    {
     "name": "stdout",
     "output_type": "stream",
     "text": [
      "[{'word': 'access', 'dialog': '在《绿皮书》中，托尼为了给家人更好的生活，迫切需要找到进入上流社会的access。他毅然接受了护送黑人钢琴家雪利的任务，心中既充满期待又不免忐忑，这扇门能否通向更美好的未来？', 'options': [{'text': '入口', 'isCorrect': True, 'nextScene': 1}, {'text': '通道', 'isCorrect': False, 'nextScene': -1}, {'text': '接近', 'isCorrect': False, 'nextScene': -1}], 'npcName': '绿皮书', 'npcAvatar': '/avatars/lvpishu.jpg', 'backgroundVideo': '/videos/lvpishu.mp4'}, {'word': 'accessory', 'dialog': '托尼的车在荒凉的南方小镇突然抛锚，他焦急地四处寻找必要的accessory。那一刻，他感受到了前所未有的无助，但为了雪利的巡演，他必须坚强地解决问题。', 'options': [{'text': '装饰品', 'isCorrect': False, 'nextScene': -1}, {'text': '附件', 'isCorrect': False, 'nextScene': -1}, {'text': '配件', 'isCorrect': True, 'nextScene': 2}], 'npcName': '绿皮书', 'npcAvatar': '/avatars/lvpishu.jpg', 'backgroundVideo': '/videos/lvpishu.mp4'}, {'word': 'accident', 'dialog': '在一次深夜的accident中，雪利和托尼的车被警察粗暴地拦下。托尼的心猛地一沉，他意识到这不仅是一次简单的意外，更是种族歧视的无情打击。', 'options': [{'text': '事故', 'isCorrect': True, 'nextScene': 3}, {'text': '巧合', 'isCorrect': False, 'nextScene': -1}, {'text': '事件', 'isCorrect': False, 'nextScene': -1}], 'npcName': '绿皮书', 'npcAvatar': '/avatars/lvpishu.jpg', 'backgroundVideo': '/videos/lvpishu.mp4'}, {'word': 'accidental', 'dialog': '托尼在一次accidental的深夜长谈中，发现雪利内心深处的孤独和脆弱。那一刻，托尼的心被深深触动，他开始真正理解这位表面光鲜的钢琴家。', 'options': [{'text': '随机的', 'isCorrect': False, 'nextScene': -1}, {'text': '偶然的', 'isCorrect': True, 'nextScene': 4}, {'text': '意外的', 'isCorrect': False, 'nextScene': -1}], 'npcName': '绿皮书', 'npcAvatar': '/avatars/lvpishu.jpg', 'backgroundVideo': '/videos/lvpishu.mp4'}, {'word': 'accompany', 'dialog': '托尼全程accompany雪利，从繁华的北方都市到充满敌意的南方小镇。每一次的陪伴，都是一次心灵的碰撞，他们渐渐从陌生人变成了彼此生命中不可或缺的朋友。', 'options': [{'text': '陪伴', 'isCorrect': True, 'nextScene': 5}, {'text': '陪同', 'isCorrect': False, 'nextScene': -1}, {'text': '跟随', 'isCorrect': False, 'nextScene': -1}], 'npcName': '绿皮书', 'npcAvatar': '/avatars/lvpishu.jpg', 'backgroundVideo': '/videos/lvpishu.mp4'}, {'word': 'accomplish', 'dialog': '尽管面对重重阻碍和歧视，雪利眼中依然闪烁着坚定的光芒，他誓要accomplish这场意义非凡的巡演。托尼被他的执着深深感染，决心全力支持。', 'options': [{'text': '达成', 'isCorrect': False, 'nextScene': -1}, {'text': '完成', 'isCorrect': True, 'nextScene': 6}, {'text': '实现', 'isCorrect': False, 'nextScene': -1}], 'npcName': '绿皮书', 'npcAvatar': '/avatars/lvpishu.jpg', 'backgroundVideo': '/videos/lvpishu.mp4'}, {'word': 'accord', 'dialog': '在旅途中，托尼和雪利逐渐学会了相互尊重和理解，他们的行为开始accord彼此的期望。那份默契的温暖，悄然融化了两颗曾经陌生的心。', 'options': [{'text': '一致', 'isCorrect': False, 'nextScene': -1}, {'text': '协调', 'isCorrect': False, 'nextScene': -1}, {'text': '符合', 'isCorrect': True, 'nextScene': 7}], 'npcName': '绿皮书', 'npcAvatar': '/avatars/lvpishu.jpg', 'backgroundVideo': '/videos/lvpishu.mp4'}, {'word': 'accordance', 'dialog': '托尼严格按照雪利的要求，在accordance with他的生活习惯和演出安排，细心照料每一个细节。这份细致入微的关怀，让雪利感受到了久违的温暖。', 'options': [{'text': '按照', 'isCorrect': False, 'nextScene': -1}, {'text': '根据', 'isCorrect': True, 'nextScene': 8}, {'text': '依照', 'isCorrect': False, 'nextScene': -1}], 'npcName': '绿皮书', 'npcAvatar': '/avatars/lvpishu.jpg', 'backgroundVideo': '/videos/lvpishu.mp4'}, {'word': 'afraid', 'dialog': '在南方种族歧视的阴影下，雪利时常感到afraid，夜深人静时，他的眼神流露出无尽的孤独和恐惧。托尼的坚定守护，成了他唯一的慰藉。', 'options': [{'text': '恐惧', 'isCorrect': False, 'nextScene': -1}, {'text': '担忧', 'isCorrect': False, 'nextScene': -1}, {'text': '害怕', 'isCorrect': True, 'nextScene': 9}], 'npcName': '绿皮书', 'npcAvatar': '/avatars/lvpishu.jpg', 'backgroundVideo': '/videos/lvpishu.mp4'}, {'word': 'punish', 'dialog': '当托尼因为保护雪利而违反规定，被警察无情punish时，雪利挺身而出，义正言辞地为他辩护。那一刻，两人的友谊升华成了无畏的并肩作战。', 'options': [{'text': '处罚', 'isCorrect': False, 'nextScene': -1}, {'text': '惩罚', 'isCorrect': True, 'nextScene': 10}, {'text': '责罚', 'isCorrect': False, 'nextScene': -1}], 'npcName': '绿皮书', 'npcAvatar': '/avatars/lvpishu.jpg', 'backgroundVideo': '/videos/lvpishu.mp4'}]\n"
     ]
    }
   ],
   "source": [
    "print(background_video_json_data)"
   ]
  },
  {
   "cell_type": "code",
   "execution_count": 21,
   "metadata": {},
   "outputs": [],
   "source": [
    "background_video_json_data.append({\n",
    "      \"word\": \"none\",\n",
    "      \"dialog\":\n",
    "        \"恭喜你完成了游戏的所有关卡，点击重玩游戏，重新开始游戏\",\n",
    "      \"options\": [\n",
    "        { \"text\": \"重玩游戏\", \"isCorrect\": \"true\", \"nextScene\": 0 },\n",
    "      ],\n",
    "      \"npcName\": moviesName,\n",
    "      \"npcAvatar\": next((item[\"npcAvatar\"] for item in assistant_preset if item[\"npcName\"] == moviesName), None),\n",
    "      \"backgroundVideo\": next((item[\"backgroundVideo\"] for item in assistant_preset if item[\"npcName\"] == moviesName), None),\n",
    "    })"
   ]
  },
  {
   "cell_type": "code",
   "execution_count": 22,
   "metadata": {},
   "outputs": [
    {
     "name": "stdout",
     "output_type": "stream",
     "text": [
      "Word: access,   NPC Name: 绿皮书, NPC Avatar: /avatars/lvpishu.jpg, Background Video: /videos/lvpishu.mp4\n",
      "Translation: 入口, Correct: true, NextScene: 1\n",
      "Translation: 通道, Correct: false, NextScene: -1\n",
      "Translation: 接近, Correct: false, NextScene: -1\n",
      "--------------------------------------------------\n",
      "Word: accessory,   NPC Name: 绿皮书, NPC Avatar: /avatars/lvpishu.jpg, Background Video: /videos/lvpishu.mp4\n",
      "Translation: 装饰品, Correct: false, NextScene: -1\n",
      "Translation: 附件, Correct: false, NextScene: -1\n",
      "Translation: 配件, Correct: true, NextScene: 2\n",
      "--------------------------------------------------\n",
      "Word: accident,   NPC Name: 绿皮书, NPC Avatar: /avatars/lvpishu.jpg, Background Video: /videos/lvpishu.mp4\n",
      "Translation: 事故, Correct: true, NextScene: 3\n",
      "Translation: 巧合, Correct: false, NextScene: -1\n",
      "Translation: 事件, Correct: false, NextScene: -1\n",
      "--------------------------------------------------\n",
      "Word: accidental,   NPC Name: 绿皮书, NPC Avatar: /avatars/lvpishu.jpg, Background Video: /videos/lvpishu.mp4\n",
      "Translation: 随机的, Correct: false, NextScene: -1\n",
      "Translation: 偶然的, Correct: true, NextScene: 4\n",
      "Translation: 意外的, Correct: false, NextScene: -1\n",
      "--------------------------------------------------\n",
      "Word: accompany,   NPC Name: 绿皮书, NPC Avatar: /avatars/lvpishu.jpg, Background Video: /videos/lvpishu.mp4\n",
      "Translation: 陪伴, Correct: true, NextScene: 5\n",
      "Translation: 陪同, Correct: false, NextScene: -1\n",
      "Translation: 跟随, Correct: false, NextScene: -1\n",
      "--------------------------------------------------\n",
      "Word: accomplish,   NPC Name: 绿皮书, NPC Avatar: /avatars/lvpishu.jpg, Background Video: /videos/lvpishu.mp4\n",
      "Translation: 达成, Correct: false, NextScene: -1\n",
      "Translation: 完成, Correct: true, NextScene: 6\n",
      "Translation: 实现, Correct: false, NextScene: -1\n",
      "--------------------------------------------------\n",
      "Word: accord,   NPC Name: 绿皮书, NPC Avatar: /avatars/lvpishu.jpg, Background Video: /videos/lvpishu.mp4\n",
      "Translation: 一致, Correct: false, NextScene: -1\n",
      "Translation: 协调, Correct: false, NextScene: -1\n",
      "Translation: 符合, Correct: true, NextScene: 7\n",
      "--------------------------------------------------\n",
      "Word: accordance,   NPC Name: 绿皮书, NPC Avatar: /avatars/lvpishu.jpg, Background Video: /videos/lvpishu.mp4\n",
      "Translation: 按照, Correct: false, NextScene: -1\n",
      "Translation: 根据, Correct: true, NextScene: 8\n",
      "Translation: 依照, Correct: false, NextScene: -1\n",
      "--------------------------------------------------\n",
      "Word: afraid,   NPC Name: 绿皮书, NPC Avatar: /avatars/lvpishu.jpg, Background Video: /videos/lvpishu.mp4\n",
      "Translation: 恐惧, Correct: false, NextScene: -1\n",
      "Translation: 担忧, Correct: false, NextScene: -1\n",
      "Translation: 害怕, Correct: true, NextScene: 9\n",
      "--------------------------------------------------\n",
      "Word: punish,   NPC Name: 绿皮书, NPC Avatar: /avatars/lvpishu.jpg, Background Video: /videos/lvpishu.mp4\n",
      "Translation: 处罚, Correct: false, NextScene: -1\n",
      "Translation: 惩罚, Correct: true, NextScene: 10\n",
      "Translation: 责罚, Correct: false, NextScene: -1\n",
      "--------------------------------------------------\n",
      "Word: none,   NPC Name: 绿皮书, NPC Avatar: /avatars/lvpishu.jpg, Background Video: /videos/lvpishu.mp4\n",
      "Translation: 重玩游戏, Correct: true, NextScene: 0\n",
      "--------------------------------------------------\n"
     ]
    }
   ],
   "source": [
    "# 将options中的True和False改为小写字符串\n",
    "for item in background_video_json_data:\n",
    "    for option in item['options']:\n",
    "        option['isCorrect'] = 'true' if option['isCorrect'] else 'false'\n",
    "\n",
    "# 打印结果以验证\n",
    "for item in background_video_json_data:\n",
    "    print(f\"Word: {item['word']},   NPC Name: {item['npcName']}, NPC Avatar: {item['npcAvatar']}, Background Video: {item['backgroundVideo']}\")\n",
    "    for option in item['options']:\n",
    "        print(f\"Translation: {option['text']}, Correct: {option['isCorrect']}, NextScene: {option.get('nextScene', 'N/A')}\")\n",
    "    print(\"-\" * 50)"
   ]
  },
  {
   "cell_type": "code",
   "execution_count": 23,
   "metadata": {},
   "outputs": [
    {
     "name": "stdout",
     "output_type": "stream",
     "text": [
      "[{'word': 'access', 'dialog': '在《绿皮书》中，托尼为了给家人更好的生活，迫切需要找到进入上流社会的access。他毅然接受了护送黑人钢琴家雪利的任务，心中既充满期待又不免忐忑，这扇门能否通向更美好的未来？', 'options': [{'text': '入口', 'isCorrect': 'true', 'nextScene': 1}, {'text': '通道', 'isCorrect': 'false', 'nextScene': -1}, {'text': '接近', 'isCorrect': 'false', 'nextScene': -1}], 'npcName': '绿皮书', 'npcAvatar': '/avatars/lvpishu.jpg', 'backgroundVideo': '/videos/lvpishu.mp4'}, {'word': 'accessory', 'dialog': '托尼的车在荒凉的南方小镇突然抛锚，他焦急地四处寻找必要的accessory。那一刻，他感受到了前所未有的无助，但为了雪利的巡演，他必须坚强地解决问题。', 'options': [{'text': '装饰品', 'isCorrect': 'false', 'nextScene': -1}, {'text': '附件', 'isCorrect': 'false', 'nextScene': -1}, {'text': '配件', 'isCorrect': 'true', 'nextScene': 2}], 'npcName': '绿皮书', 'npcAvatar': '/avatars/lvpishu.jpg', 'backgroundVideo': '/videos/lvpishu.mp4'}, {'word': 'accident', 'dialog': '在一次深夜的accident中，雪利和托尼的车被警察粗暴地拦下。托尼的心猛地一沉，他意识到这不仅是一次简单的意外，更是种族歧视的无情打击。', 'options': [{'text': '事故', 'isCorrect': 'true', 'nextScene': 3}, {'text': '巧合', 'isCorrect': 'false', 'nextScene': -1}, {'text': '事件', 'isCorrect': 'false', 'nextScene': -1}], 'npcName': '绿皮书', 'npcAvatar': '/avatars/lvpishu.jpg', 'backgroundVideo': '/videos/lvpishu.mp4'}, {'word': 'accidental', 'dialog': '托尼在一次accidental的深夜长谈中，发现雪利内心深处的孤独和脆弱。那一刻，托尼的心被深深触动，他开始真正理解这位表面光鲜的钢琴家。', 'options': [{'text': '随机的', 'isCorrect': 'false', 'nextScene': -1}, {'text': '偶然的', 'isCorrect': 'true', 'nextScene': 4}, {'text': '意外的', 'isCorrect': 'false', 'nextScene': -1}], 'npcName': '绿皮书', 'npcAvatar': '/avatars/lvpishu.jpg', 'backgroundVideo': '/videos/lvpishu.mp4'}, {'word': 'accompany', 'dialog': '托尼全程accompany雪利，从繁华的北方都市到充满敌意的南方小镇。每一次的陪伴，都是一次心灵的碰撞，他们渐渐从陌生人变成了彼此生命中不可或缺的朋友。', 'options': [{'text': '陪伴', 'isCorrect': 'true', 'nextScene': 5}, {'text': '陪同', 'isCorrect': 'false', 'nextScene': -1}, {'text': '跟随', 'isCorrect': 'false', 'nextScene': -1}], 'npcName': '绿皮书', 'npcAvatar': '/avatars/lvpishu.jpg', 'backgroundVideo': '/videos/lvpishu.mp4'}, {'word': 'accomplish', 'dialog': '尽管面对重重阻碍和歧视，雪利眼中依然闪烁着坚定的光芒，他誓要accomplish这场意义非凡的巡演。托尼被他的执着深深感染，决心全力支持。', 'options': [{'text': '达成', 'isCorrect': 'false', 'nextScene': -1}, {'text': '完成', 'isCorrect': 'true', 'nextScene': 6}, {'text': '实现', 'isCorrect': 'false', 'nextScene': -1}], 'npcName': '绿皮书', 'npcAvatar': '/avatars/lvpishu.jpg', 'backgroundVideo': '/videos/lvpishu.mp4'}, {'word': 'accord', 'dialog': '在旅途中，托尼和雪利逐渐学会了相互尊重和理解，他们的行为开始accord彼此的期望。那份默契的温暖，悄然融化了两颗曾经陌生的心。', 'options': [{'text': '一致', 'isCorrect': 'false', 'nextScene': -1}, {'text': '协调', 'isCorrect': 'false', 'nextScene': -1}, {'text': '符合', 'isCorrect': 'true', 'nextScene': 7}], 'npcName': '绿皮书', 'npcAvatar': '/avatars/lvpishu.jpg', 'backgroundVideo': '/videos/lvpishu.mp4'}, {'word': 'accordance', 'dialog': '托尼严格按照雪利的要求，在accordance with他的生活习惯和演出安排，细心照料每一个细节。这份细致入微的关怀，让雪利感受到了久违的温暖。', 'options': [{'text': '按照', 'isCorrect': 'false', 'nextScene': -1}, {'text': '根据', 'isCorrect': 'true', 'nextScene': 8}, {'text': '依照', 'isCorrect': 'false', 'nextScene': -1}], 'npcName': '绿皮书', 'npcAvatar': '/avatars/lvpishu.jpg', 'backgroundVideo': '/videos/lvpishu.mp4'}, {'word': 'afraid', 'dialog': '在南方种族歧视的阴影下，雪利时常感到afraid，夜深人静时，他的眼神流露出无尽的孤独和恐惧。托尼的坚定守护，成了他唯一的慰藉。', 'options': [{'text': '恐惧', 'isCorrect': 'false', 'nextScene': -1}, {'text': '担忧', 'isCorrect': 'false', 'nextScene': -1}, {'text': '害怕', 'isCorrect': 'true', 'nextScene': 9}], 'npcName': '绿皮书', 'npcAvatar': '/avatars/lvpishu.jpg', 'backgroundVideo': '/videos/lvpishu.mp4'}, {'word': 'punish', 'dialog': '当托尼因为保护雪利而违反规定，被警察无情punish时，雪利挺身而出，义正言辞地为他辩护。那一刻，两人的友谊升华成了无畏的并肩作战。', 'options': [{'text': '处罚', 'isCorrect': 'false', 'nextScene': -1}, {'text': '惩罚', 'isCorrect': 'true', 'nextScene': 10}, {'text': '责罚', 'isCorrect': 'false', 'nextScene': -1}], 'npcName': '绿皮书', 'npcAvatar': '/avatars/lvpishu.jpg', 'backgroundVideo': '/videos/lvpishu.mp4'}, {'word': 'none', 'dialog': '恭喜你完成了游戏的所有关卡，点击重玩游戏，重新开始游戏', 'options': [{'text': '重玩游戏', 'isCorrect': 'true', 'nextScene': 0}], 'npcName': '绿皮书', 'npcAvatar': '/avatars/lvpishu.jpg', 'backgroundVideo': '/videos/lvpishu.mp4'}]\n"
     ]
    }
   ],
   "source": [
    "print(background_video_json_data)\n"
   ]
  },
  {
   "cell_type": "code",
   "execution_count": null,
   "metadata": {},
   "outputs": [],
   "source": []
  }
 ],
 "metadata": {
  "kernelspec": {
   "display_name": "Python 3",
   "language": "python",
   "name": "python3"
  },
  "language_info": {
   "codemirror_mode": {
    "name": "ipython",
    "version": 3
   },
   "file_extension": ".py",
   "mimetype": "text/x-python",
   "name": "python",
   "nbconvert_exporter": "python",
   "pygments_lexer": "ipython3",
   "version": "3.9.20"
  }
 },
 "nbformat": 4,
 "nbformat_minor": 0
}
