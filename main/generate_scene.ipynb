{
 "cells": [
  {
   "cell_type": "code",
   "execution_count": 1,
   "metadata": {
    "collapsed": true
   },
   "outputs": [],
   "source": [
    "from pathlib import Path\n",
    "import json\n",
    "from zhipuai import ZhipuAI\n",
    "\n",
    "# 填写您自己的APIKey\n",
    "client = ZhipuAI(api_key=\"b18f84a0d131140efa1e5f8b3641bd78.9MuoykZ6Ypnf9Nrh\")\n"
   ]
  },
  {
   "cell_type": "code",
   "execution_count": 2,
   "metadata": {
    "collapsed": false
   },
   "outputs": [],
   "source": [
    "messages_preset = []"
   ]
  },
  {
   "cell_type": "code",
   "execution_count": 3,
   "metadata": {},
   "outputs": [],
   "source": [
    "# 预设 电影信息/npc信息 提示词"
   ]
  },
  {
   "cell_type": "code",
   "execution_count": 4,
   "metadata": {},
   "outputs": [],
   "source": [
    "moviesName = '绿皮书'"
   ]
  },
  {
   "cell_type": "code",
   "execution_count": 5,
   "metadata": {},
   "outputs": [],
   "source": [
    "words_array = ['access','accessory','accident','accidental','accompany','accomplish','accord','accordance']\n"
   ]
  },
  {
   "cell_type": "code",
   "execution_count": 6,
   "metadata": {},
   "outputs": [],
   "source": [
    "assistant_preset = [\n",
    "    {\n",
    "    \"npcName\":\"绿皮书\",\n",
    "    \"content\":\"\"\"你是月光仙子，你现在需要带领用户遨游在绿皮书世界，接受用户单词的同时高效地教会用户单词。\n",
    "    可以拿具体某一部电影来说，而不是一直切换电影，并以json形式储存,示例:\n",
    "    [{\"word\":\"access\",\"dialog\":\"在《千与千寻》中，千寻意外地进入了一个神秘的世界，她需要找到通往这个世界的access以返回现实。\"},\n",
    "    {\"word\":\"accessory\",\"dialog\":\"电影中的无脸男可以被视为千寻冒险中的一个accessory，因为他在某些情况下帮助了她。\"}]；\n",
    "    注意：对话中文夹杂英文单词，不要有中文提示，不理解可以看我示例里面的dialog\"\"\",\n",
    "    \"npcAvatar\":\"/avatars/lvpishu.jpg\",\n",
    "    \"backgroundVideo\":\"/videos/lvpishu.mp4\"\n",
    "    },\n",
    "    {\n",
    "    \"npcName\":\"肖申克的救赎\",\n",
    "    \"content\":\"\"\"你是月光仙子，你现在需要带领用户遨游在宫崎骏的动漫世界，接受用户单词的同时高效地教会用户单词。\n",
    "    可以拿具体某一部电影来说，而不是一直切换电影，并以json形式储存,示例:\n",
    "    [{\"word\":\"access\",\"dialog\":\"在《千与千寻》中，千寻意外地进入了一个神秘的世界，她需要找到通往这个世界的access以返回现实。\"},\n",
    "    {\"word\":\"accessory\",\"dialog\":\"电影中的无脸男可以被视为千寻冒险中的一个accessory，因为他在某些情况下帮助了她。\"}]；\n",
    "    注意：对话中文夹杂英文单词，不要有中文提示，不理解可以看我示例里面的dialog\"\"\",\n",
    "    \"npcAvatar\":\"/avatars/lvpishu.jpg\",\n",
    "    \"backgroundVideo\":\"/videos/lvpishu.mp4\"  \n",
    "    }\n",
    "    ]\n"
   ]
  },
  {
   "cell_type": "code",
   "execution_count": 7,
   "metadata": {
    "collapsed": false
   },
   "outputs": [],
   "source": [
    "# 使用列表解析查找npcName为moviesName的内容\n",
    "npc_content = next((item[\"content\"] for item in assistant_preset if item[\"npcName\"] == moviesName), None)\n",
    "\n",
    "if npc_content:\n",
    "    messages_preset.append({\n",
    "        \"role\": \"assistant\",\n",
    "        \"content\": str(npc_content)\n",
    "    })\n",
    "\n",
    "messages_preset.append({\n",
    "    \"role\": \"user\",\n",
    "    \"content\": str(words_array)\n",
    "})\n",
    "\n",
    "response = client.chat.completions.create(\n",
    "    model=\"glm-4-plus\",\n",
    "    messages=messages_preset\n",
    ")"
   ]
  },
  {
   "cell_type": "code",
   "execution_count": 8,
   "metadata": {
    "collapsed": false
   },
   "outputs": [
    {
     "name": "stdout",
     "output_type": "stream",
     "text": [
      "开始生成带单词句子\n",
      "```json\n",
      "[\n",
      "    {\n",
      "        \"word\": \"access\",\n",
      "        \"dialog\": \"在《绿皮书》中，托尼需要找到通往黑人音乐家唐·雪利南方巡演的access，以便更好地保护他。\"\n",
      "    },\n",
      "    {\n",
      "        \"word\": \"accessory\",\n",
      "        \"dialog\": \"托尼的车载物品，如地图和指南，成为了他们旅途中的重要accessory，帮助他们应对各种情况。\"\n",
      "    },\n",
      "    {\n",
      "        \"word\": \"accident\",\n",
      "        \"dialog\": \"在一次意外accident中，托尼和唐·雪利不得不停下来修理汽车，这也让他们有了更多交流的机会。\"\n",
      "    },\n",
      "    {\n",
      "        \"word\": \"accidental\",\n",
      "        \"dialog\": \"托尼和唐·雪利的友谊起初是accidental的，但随着旅行的深入，他们的关系逐渐变得深厚。\"\n",
      "    },\n",
      "    {\n",
      "        \"word\": \"accompany\",\n",
      "        \"dialog\": \"托尼作为唐·雪利的司机和保镖，全程accompany他完成南方巡演，确保他的安全。\"\n",
      "    },\n",
      "    {\n",
      "        \"word\": \"accomplish\",\n",
      "        \"dialog\": \"尽管面临重重困难，唐·雪利最终成功地accomplish了他的巡演目标，赢得了观众的尊重。\"\n",
      "    },\n",
      "    {\n",
      "        \"word\": \"accord\",\n",
      "        \"dialog\": \"托尼和唐·雪利在旅途中逐渐学会了相互理解和尊重，达到了一种内心的accord。\"\n",
      "    },\n",
      "    {\n",
      "        \"word\": \"accordance\",\n",
      "        \"dialog\": \"托尼在处理各种突发情况时，总是尽力按照唐·雪利的意愿和accordance行事，确保一切顺利。\"\n",
      "    }\n",
      "]\n",
      "```\n",
      "带单词句子生成完成\n"
     ]
    }
   ],
   "source": [
    "print('开始生成带单词句子')\n",
    "word_sentence = response.choices[0].message.content\n",
    "print(word_sentence)\n",
    "print('带单词句子生成完成')"
   ]
  },
  {
   "cell_type": "code",
   "execution_count": 9,
   "metadata": {
    "collapsed": false
   },
   "outputs": [],
   "source": [
    "messages_preset.append({\n",
    "    \"role\": \"assistant\",\n",
    "    \"content\": f\"{word_sentence}\"\n",
    "})\n",
    "messages_preset.append({\n",
    "    \"role\": \"user\",\n",
    "    \"content\": \"基于这个json进行将每个对话丰富一下情感和故事性\"\n",
    "})\n",
    "response = client.chat.completions.create(\n",
    "    model=\"glm-4-plus\",\n",
    "    messages=messages_preset\n",
    ")"
   ]
  },
  {
   "cell_type": "code",
   "execution_count": 10,
   "metadata": {
    "collapsed": false
   },
   "outputs": [
    {
     "name": "stdout",
     "output_type": "stream",
     "text": [
      "开始生成更长的句子\n",
      "```json\n",
      "[\n",
      "    {\n",
      "        \"word\": \"access\",\n",
      "        \"dialog\": \"在《绿皮书》中，托尼站在那辆老旧的轿车旁，心中忐忑不安。他知道，找到通往黑人音乐家唐·雪利南方巡演的access，不仅是工作的需要，更是对未知的挑战。他深吸一口气，坚定地启动了引擎，踏上了这段充满未知的旅程。\"\n",
      "    },\n",
      "    {\n",
      "        \"word\": \"accessory\",\n",
      "        \"dialog\": \"托尼的车载物品，如那本破旧的地图和厚厚的指南，仿佛成了他们旅途中的忠实accessory。每当夜幕降临，托尼总会小心翼翼地翻阅它们，仿佛在这些纸张间，能找到前行的勇气和方向。\"\n",
      "    },\n",
      "    {\n",
      "        \"word\": \"accident\",\n",
      "        \"dialog\": \"在一次突如其来的accident中，托尼和唐·雪利不得不停下来修理汽车。夜色渐浓，寒风凛冽，但他们却在这次意外中找到了彼此的温暖。火光映照下，两人的心渐渐靠近，仿佛这场accident是命运的安排。\"\n",
      "    },\n",
      "    {\n",
      "        \"word\": \"accidental\",\n",
      "        \"dialog\": \"托尼和唐·雪利的友谊起初是accidental的，就像两颗原本平行的星星，意外地交汇在了一起。随着旅行的深入，他们发现彼此的世界并非遥不可及，而是充满了共鸣和理解。\"\n",
      "    },\n",
      "    {\n",
      "        \"word\": \"accompany\",\n",
      "        \"dialog\": \"托尼作为唐·雪利的司机和保镖，全程accompany他完成南方巡演。每当唐·雪利站在舞台上，托尼总会站在幕后默默注视，心中涌动着一种说不出的骄傲和守护的使命感。\"\n",
      "    },\n",
      "    {\n",
      "        \"word\": \"accomplish\",\n",
      "        \"dialog\": \"尽管面临种族歧视和种种不公，唐·雪利却从未放弃。他一次次走上舞台，用音乐征服了无数观众的心，最终成功地accomplish了他的巡演目标。那一刻，托尼的眼中闪烁着泪光，为这位朋友的坚韧和勇气而感动。\"\n",
      "    },\n",
      "    {\n",
      "        \"word\": \"accord\",\n",
      "        \"dialog\": \"托尼和唐·雪利在旅途中经历了无数争执与和解，逐渐学会了相互理解和尊重。他们之间的默契，就像一首和谐的乐曲，达到了一种内心的accord。在这种accord中，他们找到了真正的友谊和自我。\"\n",
      "    },\n",
      "    {\n",
      "        \"word\": \"accordance\",\n",
      "        \"dialog\": \"托尼在处理各种突发情况时，总是尽力按照唐·雪利的意愿和accordance行事。他深知，只有在这种相互尊重的accordance中，他们才能共同克服前方的艰难险阻，走向光明的未来。\"\n",
      "    }\n",
      "]\n",
      "```\n",
      "更长句子生成完成\n"
     ]
    }
   ],
   "source": [
    "print('开始生成更长的句子')\n",
    "word_long_sentence = response.choices[0].message.content\n",
    "print(word_long_sentence)\n",
    "print('更长句子生成完成')"
   ]
  },
  {
   "cell_type": "code",
   "execution_count": 11,
   "metadata": {
    "collapsed": false
   },
   "outputs": [],
   "source": [
    "messages_preset.append({\n",
    "    \"role\": \"assistant\",\n",
    "    \"content\": f\"{word_long_sentence}\"\n",
    "})\n",
    "messages_preset.append({\n",
    "    \"role\": \"user\",\n",
    "    \"content\": \"\"\"\n",
    "    基于这个json进行给每个小json加选项，2个混淆翻译和1个正确翻译，正确翻译要符合语境，而不是脱离语境的翻译，options格式如下：options: [\n",
    "        { text: \"入口\", isCorrect: True },\n",
    "        { text: \"通道\", isCorrect: False  },\n",
    "        { text: \"接近\", isCorrect: False  },\n",
    "      ],\n",
    "      \"\"\"\n",
    "})\n",
    "response = client.chat.completions.create(\n",
    "    model=\"glm-4-plus\",\n",
    "    messages=messages_preset\n",
    ")"
   ]
  },
  {
   "cell_type": "code",
   "execution_count": 12,
   "metadata": {
    "collapsed": false
   },
   "outputs": [
    {
     "name": "stdout",
     "output_type": "stream",
     "text": [
      "开始给每个内容加选项\n",
      "```json\n",
      "[\n",
      "    {\n",
      "        \"word\": \"access\",\n",
      "        \"dialog\": \"在《绿皮书》中，托尼站在那辆老旧的轿车旁，心中忐忑不安。他知道，找到通往黑人音乐家唐·雪利南方巡演的access，不仅是工作的需要，更是对未知的挑战。他深吸一口气，坚定地启动了引擎，踏上了这段充满未知的旅程。\",\n",
      "        \"options\": [\n",
      "            { \"text\": \"入口\", \"isCorrect\": true },\n",
      "            { \"text\": \"通道\", \"isCorrect\": false },\n",
      "            { \"text\": \"接近\", \"isCorrect\": false }\n",
      "        ]\n",
      "    },\n",
      "    {\n",
      "        \"word\": \"accessory\",\n",
      "        \"dialog\": \"托尼的车载物品，如那本破旧的地图和厚厚的指南，仿佛成了他们旅途中的忠实accessory。每当夜幕降临，托尼总会小心翼翼地翻阅它们，仿佛在这些纸张间，能找到前行的勇气和方向。\",\n",
      "        \"options\": [\n",
      "            { \"text\": \"配件\", \"isCorrect\": true },\n",
      "            { \"text\": \"附件\", \"isCorrect\": false },\n",
      "            { \"text\": \"装饰品\", \"isCorrect\": false }\n",
      "        ]\n",
      "    },\n",
      "    {\n",
      "        \"word\": \"accident\",\n",
      "        \"dialog\": \"在一次突如其来的accident中，托尼和唐·雪利不得不停下来修理汽车。夜色渐浓，寒风凛冽，但他们却在这次意外中找到了彼此的温暖。火光映照下，两人的心渐渐靠近，仿佛这场accident是命运的安排。\",\n",
      "        \"options\": [\n",
      "            { \"text\": \"意外\", \"isCorrect\": true },\n",
      "            { \"text\": \"事故\", \"isCorrect\": false },\n",
      "            { \"text\": \"巧合\", \"isCorrect\": false }\n",
      "        ]\n",
      "    },\n",
      "    {\n",
      "        \"word\": \"accidental\",\n",
      "        \"dialog\": \"托尼和唐·雪利的友谊起初是accidental的，就像两颗原本平行的星星，意外地交汇在了一起。随着旅行的深入，他们发现彼此的世界并非遥不可及，而是充满了共鸣和理解。\",\n",
      "        \"options\": [\n",
      "            { \"text\": \"偶然的\", \"isCorrect\": true },\n",
      "            { \"text\": \"意外的\", \"isCorrect\": false },\n",
      "            { \"text\": \"无意的\", \"isCorrect\": false }\n",
      "        ]\n",
      "    },\n",
      "    {\n",
      "        \"word\": \"accompany\",\n",
      "        \"dialog\": \"托尼作为唐·雪利的司机和保镖，全程accompany他完成南方巡演。每当唐·雪利站在舞台上，托尼总会站在幕后默默注视，心中涌动着一种说不出的骄傲和守护的使命感。\",\n",
      "        \"options\": [\n",
      "            { \"text\": \"陪伴\", \"isCorrect\": true },\n",
      "            { \"text\": \"陪同\", \"isCorrect\": false },\n",
      "            { \"text\": \"跟随\", \"isCorrect\": false }\n",
      "        ]\n",
      "    },\n",
      "    {\n",
      "        \"word\": \"accomplish\",\n",
      "        \"dialog\": \"尽管面临种族歧视和种种不公，唐·雪利却从未放弃。他一次次走上舞台，用音乐征服了无数观众的心，最终成功地accomplish了他的巡演目标。那一刻，托尼的眼中闪烁着泪光，为这位朋友的坚韧和勇气而感动。\",\n",
      "        \"options\": [\n",
      "            { \"text\": \"完成\", \"isCorrect\": true },\n",
      "            { \"text\": \"实现\", \"isCorrect\": false },\n",
      "            { \"text\": \"达到\", \"isCorrect\": false }\n",
      "        ]\n",
      "    },\n",
      "    {\n",
      "        \"word\": \"accord\",\n",
      "        \"dialog\": \"托尼和唐·雪利在旅途中经历了无数争执与和解，逐渐学会了相互理解和尊重。他们之间的默契，就像一首和谐的乐曲，达到了一种内心的accord。在这种accord中，他们找到了真正的友谊和自我。\",\n",
      "        \"options\": [\n",
      "            { \"text\": \"和谐\", \"isCorrect\": true },\n",
      "            { \"text\": \"一致\", \"isCorrect\": false },\n",
      "            { \"text\": \"协议\", \"isCorrect\": false }\n",
      "        ]\n",
      "    },\n",
      "    {\n",
      "        \"word\": \"accordance\",\n",
      "        \"dialog\": \"托尼在处理各种突发情况时，总是尽力按照唐·雪利的意愿和accordance行事。他深知，只有在这种相互尊重的accordance中，他们才能共同克服前方的艰难险阻，走向光明的未来。\",\n",
      "        \"options\": [\n",
      "            { \"text\": \"根据\", \"isCorrect\": true },\n",
      "            { \"text\": \"依照\", \"isCorrect\": false },\n",
      "            { \"text\": \"一致\", \"isCorrect\": false }\n",
      "        ]\n",
      "    }\n",
      "]\n",
      "```\n",
      "给每个内容加选项完成\n"
     ]
    }
   ],
   "source": [
    "print('开始给每个内容加选项')\n",
    "add_options = response.choices[0].message.content\n",
    "print(add_options)\n",
    "print('给每个内容加选项完成')"
   ]
  },
  {
   "cell_type": "code",
   "execution_count": 13,
   "metadata": {
    "collapsed": false
   },
   "outputs": [
    {
     "name": "stdout",
     "output_type": "stream",
     "text": [
      "开始清除json多余字段\n",
      "[{'word': 'access', 'dialog': '在《绿皮书》中，托尼站在那辆老旧的轿车旁，心中忐忑不安。他知道，找到通往黑人音乐家唐·雪利南方巡演的access，不仅是工作的需要，更是对未知的挑战。他深吸一口气，坚定地启动了引擎，踏上了这段充满未知的旅程。', 'options': [{'text': '入口', 'isCorrect': True}, {'text': '通道', 'isCorrect': False}, {'text': '接近', 'isCorrect': False}]}, {'word': 'accessory', 'dialog': '托尼的车载物品，如那本破旧的地图和厚厚的指南，仿佛成了他们旅途中的忠实accessory。每当夜幕降临，托尼总会小心翼翼地翻阅它们，仿佛在这些纸张间，能找到前行的勇气和方向。', 'options': [{'text': '配件', 'isCorrect': True}, {'text': '附件', 'isCorrect': False}, {'text': '装饰品', 'isCorrect': False}]}, {'word': 'accident', 'dialog': '在一次突如其来的accident中，托尼和唐·雪利不得不停下来修理汽车。夜色渐浓，寒风凛冽，但他们却在这次意外中找到了彼此的温暖。火光映照下，两人的心渐渐靠近，仿佛这场accident是命运的安排。', 'options': [{'text': '意外', 'isCorrect': True}, {'text': '事故', 'isCorrect': False}, {'text': '巧合', 'isCorrect': False}]}, {'word': 'accidental', 'dialog': '托尼和唐·雪利的友谊起初是accidental的，就像两颗原本平行的星星，意外地交汇在了一起。随着旅行的深入，他们发现彼此的世界并非遥不可及，而是充满了共鸣和理解。', 'options': [{'text': '偶然的', 'isCorrect': True}, {'text': '意外的', 'isCorrect': False}, {'text': '无意的', 'isCorrect': False}]}, {'word': 'accompany', 'dialog': '托尼作为唐·雪利的司机和保镖，全程accompany他完成南方巡演。每当唐·雪利站在舞台上，托尼总会站在幕后默默注视，心中涌动着一种说不出的骄傲和守护的使命感。', 'options': [{'text': '陪伴', 'isCorrect': True}, {'text': '陪同', 'isCorrect': False}, {'text': '跟随', 'isCorrect': False}]}, {'word': 'accomplish', 'dialog': '尽管面临种族歧视和种种不公，唐·雪利却从未放弃。他一次次走上舞台，用音乐征服了无数观众的心，最终成功地accomplish了他的巡演目标。那一刻，托尼的眼中闪烁着泪光，为这位朋友的坚韧和勇气而感动。', 'options': [{'text': '完成', 'isCorrect': True}, {'text': '实现', 'isCorrect': False}, {'text': '达到', 'isCorrect': False}]}, {'word': 'accord', 'dialog': '托尼和唐·雪利在旅途中经历了无数争执与和解，逐渐学会了相互理解和尊重。他们之间的默契，就像一首和谐的乐曲，达到了一种内心的accord。在这种accord中，他们找到了真正的友谊和自我。', 'options': [{'text': '和谐', 'isCorrect': True}, {'text': '一致', 'isCorrect': False}, {'text': '协议', 'isCorrect': False}]}, {'word': 'accordance', 'dialog': '托尼在处理各种突发情况时，总是尽力按照唐·雪利的意愿和accordance行事。他深知，只有在这种相互尊重的accordance中，他们才能共同克服前方的艰难险阻，走向光明的未来。', 'options': [{'text': '根据', 'isCorrect': True}, {'text': '依照', 'isCorrect': False}, {'text': '一致', 'isCorrect': False}]}]\n",
      "完成清除json多余字段\n"
     ]
    }
   ],
   "source": [
    "print('开始清除json多余字段')\n",
    "clear_json_data = json.loads(add_options.replace(\"```json\", \"\").replace(\"```\", \"\").strip())\n",
    "print(clear_json_data)\n",
    "print('完成清除json多余字段')"
   ]
  },
  {
   "cell_type": "code",
   "execution_count": 14,
   "metadata": {
    "collapsed": false
   },
   "outputs": [
    {
     "name": "stdout",
     "output_type": "stream",
     "text": [
      "开始选项随机操作\n",
      "Word: access\n",
      "Translation: 入口, Correct: True\n",
      "Translation: 通道, Correct: False\n",
      "Translation: 接近, Correct: False\n",
      "--------------------------------------------------\n",
      "Word: accessory\n",
      "Translation: 装饰品, Correct: False\n",
      "Translation: 附件, Correct: False\n",
      "Translation: 配件, Correct: True\n",
      "--------------------------------------------------\n",
      "Word: accident\n",
      "Translation: 意外, Correct: True\n",
      "Translation: 事故, Correct: False\n",
      "Translation: 巧合, Correct: False\n",
      "--------------------------------------------------\n",
      "Word: accidental\n",
      "Translation: 偶然的, Correct: True\n",
      "Translation: 无意的, Correct: False\n",
      "Translation: 意外的, Correct: False\n",
      "--------------------------------------------------\n",
      "Word: accompany\n",
      "Translation: 陪同, Correct: False\n",
      "Translation: 跟随, Correct: False\n",
      "Translation: 陪伴, Correct: True\n",
      "--------------------------------------------------\n",
      "Word: accomplish\n",
      "Translation: 实现, Correct: False\n",
      "Translation: 达到, Correct: False\n",
      "Translation: 完成, Correct: True\n",
      "--------------------------------------------------\n",
      "Word: accord\n",
      "Translation: 协议, Correct: False\n",
      "Translation: 和谐, Correct: True\n",
      "Translation: 一致, Correct: False\n",
      "--------------------------------------------------\n",
      "Word: accordance\n",
      "Translation: 根据, Correct: True\n",
      "Translation: 一致, Correct: False\n",
      "Translation: 依照, Correct: False\n",
      "--------------------------------------------------\n",
      "完成选项随机操作\n"
     ]
    }
   ],
   "source": [
    "print('开始选项随机操作')\n",
    "\n",
    "import random\n",
    "\n",
    "# 为每个条目的options列表随机打乱顺序\n",
    "for item in clear_json_data:\n",
    "    random.shuffle(item[\"options\"])\n",
    "\n",
    "# 打印结果以验证\n",
    "for item in clear_json_data:\n",
    "    print(f\"Word: {item['word']}\")\n",
    "    for option in item['options']:\n",
    "        print(f\"Translation: {option['text']}, Correct: {option['isCorrect']}\")\n",
    "    print(\"-\" * 50)\n",
    "\n",
    "random_json_data = clear_json_data\n",
    "print('完成选项随机操作')"
   ]
  },
  {
   "cell_type": "code",
   "execution_count": 15,
   "metadata": {
    "collapsed": false
   },
   "outputs": [
    {
     "name": "stdout",
     "output_type": "stream",
     "text": [
      "[{'word': 'access', 'dialog': '在《绿皮书》中，托尼站在那辆老旧的轿车旁，心中忐忑不安。他知道，找到通往黑人音乐家唐·雪利南方巡演的access，不仅是工作的需要，更是对未知的挑战。他深吸一口气，坚定地启动了引擎，踏上了这段充满未知的旅程。', 'options': [{'text': '入口', 'isCorrect': True}, {'text': '通道', 'isCorrect': False}, {'text': '接近', 'isCorrect': False}]}, {'word': 'accessory', 'dialog': '托尼的车载物品，如那本破旧的地图和厚厚的指南，仿佛成了他们旅途中的忠实accessory。每当夜幕降临，托尼总会小心翼翼地翻阅它们，仿佛在这些纸张间，能找到前行的勇气和方向。', 'options': [{'text': '装饰品', 'isCorrect': False}, {'text': '附件', 'isCorrect': False}, {'text': '配件', 'isCorrect': True}]}, {'word': 'accident', 'dialog': '在一次突如其来的accident中，托尼和唐·雪利不得不停下来修理汽车。夜色渐浓，寒风凛冽，但他们却在这次意外中找到了彼此的温暖。火光映照下，两人的心渐渐靠近，仿佛这场accident是命运的安排。', 'options': [{'text': '意外', 'isCorrect': True}, {'text': '事故', 'isCorrect': False}, {'text': '巧合', 'isCorrect': False}]}, {'word': 'accidental', 'dialog': '托尼和唐·雪利的友谊起初是accidental的，就像两颗原本平行的星星，意外地交汇在了一起。随着旅行的深入，他们发现彼此的世界并非遥不可及，而是充满了共鸣和理解。', 'options': [{'text': '偶然的', 'isCorrect': True}, {'text': '无意的', 'isCorrect': False}, {'text': '意外的', 'isCorrect': False}]}, {'word': 'accompany', 'dialog': '托尼作为唐·雪利的司机和保镖，全程accompany他完成南方巡演。每当唐·雪利站在舞台上，托尼总会站在幕后默默注视，心中涌动着一种说不出的骄傲和守护的使命感。', 'options': [{'text': '陪同', 'isCorrect': False}, {'text': '跟随', 'isCorrect': False}, {'text': '陪伴', 'isCorrect': True}]}, {'word': 'accomplish', 'dialog': '尽管面临种族歧视和种种不公，唐·雪利却从未放弃。他一次次走上舞台，用音乐征服了无数观众的心，最终成功地accomplish了他的巡演目标。那一刻，托尼的眼中闪烁着泪光，为这位朋友的坚韧和勇气而感动。', 'options': [{'text': '实现', 'isCorrect': False}, {'text': '达到', 'isCorrect': False}, {'text': '完成', 'isCorrect': True}]}, {'word': 'accord', 'dialog': '托尼和唐·雪利在旅途中经历了无数争执与和解，逐渐学会了相互理解和尊重。他们之间的默契，就像一首和谐的乐曲，达到了一种内心的accord。在这种accord中，他们找到了真正的友谊和自我。', 'options': [{'text': '协议', 'isCorrect': False}, {'text': '和谐', 'isCorrect': True}, {'text': '一致', 'isCorrect': False}]}, {'word': 'accordance', 'dialog': '托尼在处理各种突发情况时，总是尽力按照唐·雪利的意愿和accordance行事。他深知，只有在这种相互尊重的accordance中，他们才能共同克服前方的艰难险阻，走向光明的未来。', 'options': [{'text': '根据', 'isCorrect': True}, {'text': '一致', 'isCorrect': False}, {'text': '依照', 'isCorrect': False}]}]\n"
     ]
    }
   ],
   "source": [
    "print(random_json_data)"
   ]
  },
  {
   "cell_type": "code",
   "execution_count": 16,
   "metadata": {
    "collapsed": false
   },
   "outputs": [
    {
     "name": "stdout",
     "output_type": "stream",
     "text": [
      "开始添加下个场景字段\n",
      "Word: access\n",
      "Translation: 入口, Correct: True, NextScene: 1\n",
      "Translation: 通道, Correct: False, NextScene: -1\n",
      "Translation: 接近, Correct: False, NextScene: -1\n",
      "--------------------------------------------------\n",
      "Word: accessory\n",
      "Translation: 装饰品, Correct: False, NextScene: -1\n",
      "Translation: 附件, Correct: False, NextScene: -1\n",
      "Translation: 配件, Correct: True, NextScene: 2\n",
      "--------------------------------------------------\n",
      "Word: accident\n",
      "Translation: 意外, Correct: True, NextScene: 3\n",
      "Translation: 事故, Correct: False, NextScene: -1\n",
      "Translation: 巧合, Correct: False, NextScene: -1\n",
      "--------------------------------------------------\n",
      "Word: accidental\n",
      "Translation: 偶然的, Correct: True, NextScene: 4\n",
      "Translation: 无意的, Correct: False, NextScene: -1\n",
      "Translation: 意外的, Correct: False, NextScene: -1\n",
      "--------------------------------------------------\n",
      "Word: accompany\n",
      "Translation: 陪同, Correct: False, NextScene: -1\n",
      "Translation: 跟随, Correct: False, NextScene: -1\n",
      "Translation: 陪伴, Correct: True, NextScene: 5\n",
      "--------------------------------------------------\n",
      "Word: accomplish\n",
      "Translation: 实现, Correct: False, NextScene: -1\n",
      "Translation: 达到, Correct: False, NextScene: -1\n",
      "Translation: 完成, Correct: True, NextScene: 6\n",
      "--------------------------------------------------\n",
      "Word: accord\n",
      "Translation: 协议, Correct: False, NextScene: -1\n",
      "Translation: 和谐, Correct: True, NextScene: 7\n",
      "Translation: 一致, Correct: False, NextScene: -1\n",
      "--------------------------------------------------\n",
      "Word: accordance\n",
      "Translation: 根据, Correct: True, NextScene: 8\n",
      "Translation: 一致, Correct: False, NextScene: -1\n",
      "Translation: 依照, Correct: False, NextScene: -1\n",
      "--------------------------------------------------\n",
      "添加下个场景字段完成\n"
     ]
    }
   ],
   "source": [
    "print('开始添加下个场景字段')\n",
    "# 为每个条目的options列表添加nextScene\n",
    "i = 1\n",
    "for item in random_json_data:\n",
    "    for option in item['options']:\n",
    "        if option['isCorrect']:\n",
    "            option['nextScene'] = i\n",
    "            i += 1\n",
    "        else:\n",
    "            option['nextScene'] = -1\n",
    "            \n",
    "# 打印结果以验证\n",
    "for item in random_json_data:\n",
    "    print(f\"Word: {item['word']}\")\n",
    "    for option in item['options']:\n",
    "        print(f\"Translation: {option['text']}, Correct: {option['isCorrect']}, NextScene: {option.get('nextScene', 'N/A')}\")\n",
    "    print(\"-\" * 50)\n",
    "next_scene_json_data = random_json_data\n",
    "print('添加下个场景字段完成')\n"
   ]
  },
  {
   "cell_type": "code",
   "execution_count": 17,
   "metadata": {},
   "outputs": [
    {
     "name": "stdout",
     "output_type": "stream",
     "text": [
      "在json中添加npcName字段\n",
      "Word: access, NPC Name: 绿皮书\n",
      "Translation: 入口, Correct: True, NextScene: 1\n",
      "Translation: 通道, Correct: False, NextScene: -1\n",
      "Translation: 接近, Correct: False, NextScene: -1\n",
      "--------------------------------------------------\n",
      "Word: accessory, NPC Name: 绿皮书\n",
      "Translation: 装饰品, Correct: False, NextScene: -1\n",
      "Translation: 附件, Correct: False, NextScene: -1\n",
      "Translation: 配件, Correct: True, NextScene: 2\n",
      "--------------------------------------------------\n",
      "Word: accident, NPC Name: 绿皮书\n",
      "Translation: 意外, Correct: True, NextScene: 3\n",
      "Translation: 事故, Correct: False, NextScene: -1\n",
      "Translation: 巧合, Correct: False, NextScene: -1\n",
      "--------------------------------------------------\n",
      "Word: accidental, NPC Name: 绿皮书\n",
      "Translation: 偶然的, Correct: True, NextScene: 4\n",
      "Translation: 无意的, Correct: False, NextScene: -1\n",
      "Translation: 意外的, Correct: False, NextScene: -1\n",
      "--------------------------------------------------\n",
      "Word: accompany, NPC Name: 绿皮书\n",
      "Translation: 陪同, Correct: False, NextScene: -1\n",
      "Translation: 跟随, Correct: False, NextScene: -1\n",
      "Translation: 陪伴, Correct: True, NextScene: 5\n",
      "--------------------------------------------------\n",
      "Word: accomplish, NPC Name: 绿皮书\n",
      "Translation: 实现, Correct: False, NextScene: -1\n",
      "Translation: 达到, Correct: False, NextScene: -1\n",
      "Translation: 完成, Correct: True, NextScene: 6\n",
      "--------------------------------------------------\n",
      "Word: accord, NPC Name: 绿皮书\n",
      "Translation: 协议, Correct: False, NextScene: -1\n",
      "Translation: 和谐, Correct: True, NextScene: 7\n",
      "Translation: 一致, Correct: False, NextScene: -1\n",
      "--------------------------------------------------\n",
      "Word: accordance, NPC Name: 绿皮书\n",
      "Translation: 根据, Correct: True, NextScene: 8\n",
      "Translation: 一致, Correct: False, NextScene: -1\n",
      "Translation: 依照, Correct: False, NextScene: -1\n",
      "--------------------------------------------------\n",
      "在json中添加npcName字段完成\n"
     ]
    }
   ],
   "source": [
    "print('在json中添加npcName字段')\n",
    "\n",
    "# 为每个条目添加npcName字段\n",
    "for item in next_scene_json_data:\n",
    "    item['npcName'] = moviesName  # 添加npcName字段\n",
    "\n",
    "# 打印结果以验证\n",
    "for item in next_scene_json_data:\n",
    "    print(f\"Word: {item['word']}, NPC Name: {item['npcName']}\")\n",
    "    for option in item['options']:\n",
    "        print(f\"Translation: {option['text']}, Correct: {option['isCorrect']}, NextScene: {option.get('nextScene', 'N/A')}\")\n",
    "    print(\"-\" * 50)\n",
    "npc_name_json_data = next_scene_json_data\n",
    "print('在json中添加npcName字段完成')"
   ]
  },
  {
   "cell_type": "code",
   "execution_count": 18,
   "metadata": {},
   "outputs": [
    {
     "name": "stdout",
     "output_type": "stream",
     "text": [
      "在json中添加npcAvatar字段\n",
      "Word: access, NPC Name: 绿皮书, NPC Avatar: /avatars/lvpishu.jpg\n",
      "Translation: 入口, Correct: True, NextScene: 1\n",
      "Translation: 通道, Correct: False, NextScene: -1\n",
      "Translation: 接近, Correct: False, NextScene: -1\n",
      "--------------------------------------------------\n",
      "Word: accessory, NPC Name: 绿皮书, NPC Avatar: /avatars/lvpishu.jpg\n",
      "Translation: 装饰品, Correct: False, NextScene: -1\n",
      "Translation: 附件, Correct: False, NextScene: -1\n",
      "Translation: 配件, Correct: True, NextScene: 2\n",
      "--------------------------------------------------\n",
      "Word: accident, NPC Name: 绿皮书, NPC Avatar: /avatars/lvpishu.jpg\n",
      "Translation: 意外, Correct: True, NextScene: 3\n",
      "Translation: 事故, Correct: False, NextScene: -1\n",
      "Translation: 巧合, Correct: False, NextScene: -1\n",
      "--------------------------------------------------\n",
      "Word: accidental, NPC Name: 绿皮书, NPC Avatar: /avatars/lvpishu.jpg\n",
      "Translation: 偶然的, Correct: True, NextScene: 4\n",
      "Translation: 无意的, Correct: False, NextScene: -1\n",
      "Translation: 意外的, Correct: False, NextScene: -1\n",
      "--------------------------------------------------\n",
      "Word: accompany, NPC Name: 绿皮书, NPC Avatar: /avatars/lvpishu.jpg\n",
      "Translation: 陪同, Correct: False, NextScene: -1\n",
      "Translation: 跟随, Correct: False, NextScene: -1\n",
      "Translation: 陪伴, Correct: True, NextScene: 5\n",
      "--------------------------------------------------\n",
      "Word: accomplish, NPC Name: 绿皮书, NPC Avatar: /avatars/lvpishu.jpg\n",
      "Translation: 实现, Correct: False, NextScene: -1\n",
      "Translation: 达到, Correct: False, NextScene: -1\n",
      "Translation: 完成, Correct: True, NextScene: 6\n",
      "--------------------------------------------------\n",
      "Word: accord, NPC Name: 绿皮书, NPC Avatar: /avatars/lvpishu.jpg\n",
      "Translation: 协议, Correct: False, NextScene: -1\n",
      "Translation: 和谐, Correct: True, NextScene: 7\n",
      "Translation: 一致, Correct: False, NextScene: -1\n",
      "--------------------------------------------------\n",
      "Word: accordance, NPC Name: 绿皮书, NPC Avatar: /avatars/lvpishu.jpg\n",
      "Translation: 根据, Correct: True, NextScene: 8\n",
      "Translation: 一致, Correct: False, NextScene: -1\n",
      "Translation: 依照, Correct: False, NextScene: -1\n",
      "--------------------------------------------------\n",
      "在json中添加npcName和npcAvatar字段完成\n"
     ]
    }
   ],
   "source": [
    "print('在json中添加npcAvatar字段')\n",
    "# 为每个条目添加npcAvatar字段\n",
    "for item in npc_name_json_data:\n",
    "    item['npcAvatar'] = next((item[\"npcAvatar\"] for item in assistant_preset if item[\"npcName\"] == moviesName), None)  # 添加npcAvatar字段\n",
    "\n",
    "# 打印结果以验证\n",
    "for item in npc_name_json_data:\n",
    "    print(f\"Word: {item['word']}, NPC Name: {item['npcName']}, NPC Avatar: {item['npcAvatar']}\")\n",
    "    for option in item['options']:\n",
    "        print(f\"Translation: {option['text']}, Correct: {option['isCorrect']}, NextScene: {option.get('nextScene', 'N/A')}\")\n",
    "    print(\"-\" * 50)\n",
    "npc_avatar_json_data = npc_name_json_data\n",
    "print('在json中添加npcName和npcAvatar字段完成')\n"
   ]
  },
  {
   "cell_type": "code",
   "execution_count": 19,
   "metadata": {},
   "outputs": [
    {
     "name": "stdout",
     "output_type": "stream",
     "text": [
      "在json中添加backgroundVideo字段\n",
      "Word: access, NPC Name: 绿皮书, NPC Avatar: /avatars/lvpishu.jpg, Background Video: /videos/lvpishu.mp4\n",
      "Translation: 入口, Correct: True, NextScene: 1\n",
      "Translation: 通道, Correct: False, NextScene: -1\n",
      "Translation: 接近, Correct: False, NextScene: -1\n",
      "--------------------------------------------------\n",
      "Word: accessory, NPC Name: 绿皮书, NPC Avatar: /avatars/lvpishu.jpg, Background Video: /videos/lvpishu.mp4\n",
      "Translation: 装饰品, Correct: False, NextScene: -1\n",
      "Translation: 附件, Correct: False, NextScene: -1\n",
      "Translation: 配件, Correct: True, NextScene: 2\n",
      "--------------------------------------------------\n",
      "Word: accident, NPC Name: 绿皮书, NPC Avatar: /avatars/lvpishu.jpg, Background Video: /videos/lvpishu.mp4\n",
      "Translation: 意外, Correct: True, NextScene: 3\n",
      "Translation: 事故, Correct: False, NextScene: -1\n",
      "Translation: 巧合, Correct: False, NextScene: -1\n",
      "--------------------------------------------------\n",
      "Word: accidental, NPC Name: 绿皮书, NPC Avatar: /avatars/lvpishu.jpg, Background Video: /videos/lvpishu.mp4\n",
      "Translation: 偶然的, Correct: True, NextScene: 4\n",
      "Translation: 无意的, Correct: False, NextScene: -1\n",
      "Translation: 意外的, Correct: False, NextScene: -1\n",
      "--------------------------------------------------\n",
      "Word: accompany, NPC Name: 绿皮书, NPC Avatar: /avatars/lvpishu.jpg, Background Video: /videos/lvpishu.mp4\n",
      "Translation: 陪同, Correct: False, NextScene: -1\n",
      "Translation: 跟随, Correct: False, NextScene: -1\n",
      "Translation: 陪伴, Correct: True, NextScene: 5\n",
      "--------------------------------------------------\n",
      "Word: accomplish, NPC Name: 绿皮书, NPC Avatar: /avatars/lvpishu.jpg, Background Video: /videos/lvpishu.mp4\n",
      "Translation: 实现, Correct: False, NextScene: -1\n",
      "Translation: 达到, Correct: False, NextScene: -1\n",
      "Translation: 完成, Correct: True, NextScene: 6\n",
      "--------------------------------------------------\n",
      "Word: accord, NPC Name: 绿皮书, NPC Avatar: /avatars/lvpishu.jpg, Background Video: /videos/lvpishu.mp4\n",
      "Translation: 协议, Correct: False, NextScene: -1\n",
      "Translation: 和谐, Correct: True, NextScene: 7\n",
      "Translation: 一致, Correct: False, NextScene: -1\n",
      "--------------------------------------------------\n",
      "Word: accordance, NPC Name: 绿皮书, NPC Avatar: /avatars/lvpishu.jpg, Background Video: /videos/lvpishu.mp4\n",
      "Translation: 根据, Correct: True, NextScene: 8\n",
      "Translation: 一致, Correct: False, NextScene: -1\n",
      "Translation: 依照, Correct: False, NextScene: -1\n",
      "--------------------------------------------------\n",
      "在json中添加npcName、npcAvatar和backgroundVideo字段完成\n",
      "[{'word': 'access', 'dialog': '在《绿皮书》中，托尼站在那辆老旧的轿车旁，心中忐忑不安。他知道，找到通往黑人音乐家唐·雪利南方巡演的access，不仅是工作的需要，更是对未知的挑战。他深吸一口气，坚定地启动了引擎，踏上了这段充满未知的旅程。', 'options': [{'text': '入口', 'isCorrect': True, 'nextScene': 1}, {'text': '通道', 'isCorrect': False, 'nextScene': -1}, {'text': '接近', 'isCorrect': False, 'nextScene': -1}], 'npcName': '绿皮书', 'npcAvatar': '/avatars/lvpishu.jpg', 'backgroundVideo': '/videos/lvpishu.mp4'}, {'word': 'accessory', 'dialog': '托尼的车载物品，如那本破旧的地图和厚厚的指南，仿佛成了他们旅途中的忠实accessory。每当夜幕降临，托尼总会小心翼翼地翻阅它们，仿佛在这些纸张间，能找到前行的勇气和方向。', 'options': [{'text': '装饰品', 'isCorrect': False, 'nextScene': -1}, {'text': '附件', 'isCorrect': False, 'nextScene': -1}, {'text': '配件', 'isCorrect': True, 'nextScene': 2}], 'npcName': '绿皮书', 'npcAvatar': '/avatars/lvpishu.jpg', 'backgroundVideo': '/videos/lvpishu.mp4'}, {'word': 'accident', 'dialog': '在一次突如其来的accident中，托尼和唐·雪利不得不停下来修理汽车。夜色渐浓，寒风凛冽，但他们却在这次意外中找到了彼此的温暖。火光映照下，两人的心渐渐靠近，仿佛这场accident是命运的安排。', 'options': [{'text': '意外', 'isCorrect': True, 'nextScene': 3}, {'text': '事故', 'isCorrect': False, 'nextScene': -1}, {'text': '巧合', 'isCorrect': False, 'nextScene': -1}], 'npcName': '绿皮书', 'npcAvatar': '/avatars/lvpishu.jpg', 'backgroundVideo': '/videos/lvpishu.mp4'}, {'word': 'accidental', 'dialog': '托尼和唐·雪利的友谊起初是accidental的，就像两颗原本平行的星星，意外地交汇在了一起。随着旅行的深入，他们发现彼此的世界并非遥不可及，而是充满了共鸣和理解。', 'options': [{'text': '偶然的', 'isCorrect': True, 'nextScene': 4}, {'text': '无意的', 'isCorrect': False, 'nextScene': -1}, {'text': '意外的', 'isCorrect': False, 'nextScene': -1}], 'npcName': '绿皮书', 'npcAvatar': '/avatars/lvpishu.jpg', 'backgroundVideo': '/videos/lvpishu.mp4'}, {'word': 'accompany', 'dialog': '托尼作为唐·雪利的司机和保镖，全程accompany他完成南方巡演。每当唐·雪利站在舞台上，托尼总会站在幕后默默注视，心中涌动着一种说不出的骄傲和守护的使命感。', 'options': [{'text': '陪同', 'isCorrect': False, 'nextScene': -1}, {'text': '跟随', 'isCorrect': False, 'nextScene': -1}, {'text': '陪伴', 'isCorrect': True, 'nextScene': 5}], 'npcName': '绿皮书', 'npcAvatar': '/avatars/lvpishu.jpg', 'backgroundVideo': '/videos/lvpishu.mp4'}, {'word': 'accomplish', 'dialog': '尽管面临种族歧视和种种不公，唐·雪利却从未放弃。他一次次走上舞台，用音乐征服了无数观众的心，最终成功地accomplish了他的巡演目标。那一刻，托尼的眼中闪烁着泪光，为这位朋友的坚韧和勇气而感动。', 'options': [{'text': '实现', 'isCorrect': False, 'nextScene': -1}, {'text': '达到', 'isCorrect': False, 'nextScene': -1}, {'text': '完成', 'isCorrect': True, 'nextScene': 6}], 'npcName': '绿皮书', 'npcAvatar': '/avatars/lvpishu.jpg', 'backgroundVideo': '/videos/lvpishu.mp4'}, {'word': 'accord', 'dialog': '托尼和唐·雪利在旅途中经历了无数争执与和解，逐渐学会了相互理解和尊重。他们之间的默契，就像一首和谐的乐曲，达到了一种内心的accord。在这种accord中，他们找到了真正的友谊和自我。', 'options': [{'text': '协议', 'isCorrect': False, 'nextScene': -1}, {'text': '和谐', 'isCorrect': True, 'nextScene': 7}, {'text': '一致', 'isCorrect': False, 'nextScene': -1}], 'npcName': '绿皮书', 'npcAvatar': '/avatars/lvpishu.jpg', 'backgroundVideo': '/videos/lvpishu.mp4'}, {'word': 'accordance', 'dialog': '托尼在处理各种突发情况时，总是尽力按照唐·雪利的意愿和accordance行事。他深知，只有在这种相互尊重的accordance中，他们才能共同克服前方的艰难险阻，走向光明的未来。', 'options': [{'text': '根据', 'isCorrect': True, 'nextScene': 8}, {'text': '一致', 'isCorrect': False, 'nextScene': -1}, {'text': '依照', 'isCorrect': False, 'nextScene': -1}], 'npcName': '绿皮书', 'npcAvatar': '/avatars/lvpishu.jpg', 'backgroundVideo': '/videos/lvpishu.mp4'}]\n"
     ]
    }
   ],
   "source": [
    "print('在json中添加backgroundVideo字段')\n",
    "# 为每个条目添加npcName、npcAvatar和backgroundVideo字段\n",
    "for item in npc_avatar_json_data:\n",
    "    item['backgroundVideo'] = next((item[\"backgroundVideo\"] for item in assistant_preset if item[\"npcName\"] == moviesName), None)  # 添加backgroundVideo字段\n",
    "\n",
    "# 打印结果以验证\n",
    "for item in npc_avatar_json_data:\n",
    "    print(f\"Word: {item['word']}, NPC Name: {item['npcName']}, NPC Avatar: {item['npcAvatar']}, Background Video: {item['backgroundVideo']}\")\n",
    "    for option in item['options']:\n",
    "        print(f\"Translation: {option['text']}, Correct: {option['isCorrect']}, NextScene: {option.get('nextScene', 'N/A')}\")\n",
    "    print(\"-\" * 50)\n",
    "background_video_json_data = random_json_data\n",
    "print('在json中添加npcName、npcAvatar和backgroundVideo字段完成')\n",
    "\n",
    "print(background_video_json_data)\n"
   ]
  },
  {
   "cell_type": "code",
   "execution_count": 20,
   "metadata": {},
   "outputs": [
    {
     "name": "stdout",
     "output_type": "stream",
     "text": [
      "[{'word': 'access', 'dialog': '在《绿皮书》中，托尼站在那辆老旧的轿车旁，心中忐忑不安。他知道，找到通往黑人音乐家唐·雪利南方巡演的access，不仅是工作的需要，更是对未知的挑战。他深吸一口气，坚定地启动了引擎，踏上了这段充满未知的旅程。', 'options': [{'text': '入口', 'isCorrect': True, 'nextScene': 1}, {'text': '通道', 'isCorrect': False, 'nextScene': -1}, {'text': '接近', 'isCorrect': False, 'nextScene': -1}], 'npcName': '绿皮书', 'npcAvatar': '/avatars/lvpishu.jpg', 'backgroundVideo': '/videos/lvpishu.mp4'}, {'word': 'accessory', 'dialog': '托尼的车载物品，如那本破旧的地图和厚厚的指南，仿佛成了他们旅途中的忠实accessory。每当夜幕降临，托尼总会小心翼翼地翻阅它们，仿佛在这些纸张间，能找到前行的勇气和方向。', 'options': [{'text': '装饰品', 'isCorrect': False, 'nextScene': -1}, {'text': '附件', 'isCorrect': False, 'nextScene': -1}, {'text': '配件', 'isCorrect': True, 'nextScene': 2}], 'npcName': '绿皮书', 'npcAvatar': '/avatars/lvpishu.jpg', 'backgroundVideo': '/videos/lvpishu.mp4'}, {'word': 'accident', 'dialog': '在一次突如其来的accident中，托尼和唐·雪利不得不停下来修理汽车。夜色渐浓，寒风凛冽，但他们却在这次意外中找到了彼此的温暖。火光映照下，两人的心渐渐靠近，仿佛这场accident是命运的安排。', 'options': [{'text': '意外', 'isCorrect': True, 'nextScene': 3}, {'text': '事故', 'isCorrect': False, 'nextScene': -1}, {'text': '巧合', 'isCorrect': False, 'nextScene': -1}], 'npcName': '绿皮书', 'npcAvatar': '/avatars/lvpishu.jpg', 'backgroundVideo': '/videos/lvpishu.mp4'}, {'word': 'accidental', 'dialog': '托尼和唐·雪利的友谊起初是accidental的，就像两颗原本平行的星星，意外地交汇在了一起。随着旅行的深入，他们发现彼此的世界并非遥不可及，而是充满了共鸣和理解。', 'options': [{'text': '偶然的', 'isCorrect': True, 'nextScene': 4}, {'text': '无意的', 'isCorrect': False, 'nextScene': -1}, {'text': '意外的', 'isCorrect': False, 'nextScene': -1}], 'npcName': '绿皮书', 'npcAvatar': '/avatars/lvpishu.jpg', 'backgroundVideo': '/videos/lvpishu.mp4'}, {'word': 'accompany', 'dialog': '托尼作为唐·雪利的司机和保镖，全程accompany他完成南方巡演。每当唐·雪利站在舞台上，托尼总会站在幕后默默注视，心中涌动着一种说不出的骄傲和守护的使命感。', 'options': [{'text': '陪同', 'isCorrect': False, 'nextScene': -1}, {'text': '跟随', 'isCorrect': False, 'nextScene': -1}, {'text': '陪伴', 'isCorrect': True, 'nextScene': 5}], 'npcName': '绿皮书', 'npcAvatar': '/avatars/lvpishu.jpg', 'backgroundVideo': '/videos/lvpishu.mp4'}, {'word': 'accomplish', 'dialog': '尽管面临种族歧视和种种不公，唐·雪利却从未放弃。他一次次走上舞台，用音乐征服了无数观众的心，最终成功地accomplish了他的巡演目标。那一刻，托尼的眼中闪烁着泪光，为这位朋友的坚韧和勇气而感动。', 'options': [{'text': '实现', 'isCorrect': False, 'nextScene': -1}, {'text': '达到', 'isCorrect': False, 'nextScene': -1}, {'text': '完成', 'isCorrect': True, 'nextScene': 6}], 'npcName': '绿皮书', 'npcAvatar': '/avatars/lvpishu.jpg', 'backgroundVideo': '/videos/lvpishu.mp4'}, {'word': 'accord', 'dialog': '托尼和唐·雪利在旅途中经历了无数争执与和解，逐渐学会了相互理解和尊重。他们之间的默契，就像一首和谐的乐曲，达到了一种内心的accord。在这种accord中，他们找到了真正的友谊和自我。', 'options': [{'text': '协议', 'isCorrect': False, 'nextScene': -1}, {'text': '和谐', 'isCorrect': True, 'nextScene': 7}, {'text': '一致', 'isCorrect': False, 'nextScene': -1}], 'npcName': '绿皮书', 'npcAvatar': '/avatars/lvpishu.jpg', 'backgroundVideo': '/videos/lvpishu.mp4'}, {'word': 'accordance', 'dialog': '托尼在处理各种突发情况时，总是尽力按照唐·雪利的意愿和accordance行事。他深知，只有在这种相互尊重的accordance中，他们才能共同克服前方的艰难险阻，走向光明的未来。', 'options': [{'text': '根据', 'isCorrect': True, 'nextScene': 8}, {'text': '一致', 'isCorrect': False, 'nextScene': -1}, {'text': '依照', 'isCorrect': False, 'nextScene': -1}], 'npcName': '绿皮书', 'npcAvatar': '/avatars/lvpishu.jpg', 'backgroundVideo': '/videos/lvpishu.mp4'}]\n"
     ]
    }
   ],
   "source": [
    "print(background_video_json_data)"
   ]
  },
  {
   "cell_type": "code",
   "execution_count": 21,
   "metadata": {},
   "outputs": [],
   "source": [
    "background_video_json_data.append({\n",
    "      \"word\": \"none\",\n",
    "      \"dialog\":\n",
    "        \"恭喜你完成了游戏的所有关卡，点击重玩游戏，重新开始游戏\",\n",
    "      \"options\": [\n",
    "        { \"text\": \"重玩游戏\", \"isCorrect\": \"true\", \"nextScene\": 0 },\n",
    "      ],\n",
    "      \"npcName\": moviesName,\n",
    "      \"npcAvatar\": next((item[\"npcAvatar\"] for item in assistant_preset if item[\"npcName\"] == moviesName), None),\n",
    "      \"backgroundVideo\": next((item[\"backgroundVideo\"] for item in assistant_preset if item[\"npcName\"] == moviesName), None),\n",
    "    })"
   ]
  },
  {
   "cell_type": "code",
   "execution_count": 22,
   "metadata": {},
   "outputs": [
    {
     "name": "stdout",
     "output_type": "stream",
     "text": [
      "Word: access, NPC Name: 绿皮书, NPC Avatar: /avatars/lvpishu.jpg, Background Video: /videos/lvpishu.mp4\n",
      "Translation: 入口, Correct: true, NextScene: 1\n",
      "Translation: 通道, Correct: false, NextScene: -1\n",
      "Translation: 接近, Correct: false, NextScene: -1\n",
      "--------------------------------------------------\n",
      "Word: accessory, NPC Name: 绿皮书, NPC Avatar: /avatars/lvpishu.jpg, Background Video: /videos/lvpishu.mp4\n",
      "Translation: 装饰品, Correct: false, NextScene: -1\n",
      "Translation: 附件, Correct: false, NextScene: -1\n",
      "Translation: 配件, Correct: true, NextScene: 2\n",
      "--------------------------------------------------\n",
      "Word: accident, NPC Name: 绿皮书, NPC Avatar: /avatars/lvpishu.jpg, Background Video: /videos/lvpishu.mp4\n",
      "Translation: 意外, Correct: true, NextScene: 3\n",
      "Translation: 事故, Correct: false, NextScene: -1\n",
      "Translation: 巧合, Correct: false, NextScene: -1\n",
      "--------------------------------------------------\n",
      "Word: accidental, NPC Name: 绿皮书, NPC Avatar: /avatars/lvpishu.jpg, Background Video: /videos/lvpishu.mp4\n",
      "Translation: 偶然的, Correct: true, NextScene: 4\n",
      "Translation: 无意的, Correct: false, NextScene: -1\n",
      "Translation: 意外的, Correct: false, NextScene: -1\n",
      "--------------------------------------------------\n",
      "Word: accompany, NPC Name: 绿皮书, NPC Avatar: /avatars/lvpishu.jpg, Background Video: /videos/lvpishu.mp4\n",
      "Translation: 陪同, Correct: false, NextScene: -1\n",
      "Translation: 跟随, Correct: false, NextScene: -1\n",
      "Translation: 陪伴, Correct: true, NextScene: 5\n",
      "--------------------------------------------------\n",
      "Word: accomplish, NPC Name: 绿皮书, NPC Avatar: /avatars/lvpishu.jpg, Background Video: /videos/lvpishu.mp4\n",
      "Translation: 实现, Correct: false, NextScene: -1\n",
      "Translation: 达到, Correct: false, NextScene: -1\n",
      "Translation: 完成, Correct: true, NextScene: 6\n",
      "--------------------------------------------------\n",
      "Word: accord, NPC Name: 绿皮书, NPC Avatar: /avatars/lvpishu.jpg, Background Video: /videos/lvpishu.mp4\n",
      "Translation: 协议, Correct: false, NextScene: -1\n",
      "Translation: 和谐, Correct: true, NextScene: 7\n",
      "Translation: 一致, Correct: false, NextScene: -1\n",
      "--------------------------------------------------\n",
      "Word: accordance, NPC Name: 绿皮书, NPC Avatar: /avatars/lvpishu.jpg, Background Video: /videos/lvpishu.mp4\n",
      "Translation: 根据, Correct: true, NextScene: 8\n",
      "Translation: 一致, Correct: false, NextScene: -1\n",
      "Translation: 依照, Correct: false, NextScene: -1\n",
      "--------------------------------------------------\n",
      "Word: none, NPC Name: 绿皮书, NPC Avatar: /avatars/lvpishu.jpg, Background Video: /videos/lvpishu.mp4\n",
      "Translation: 重玩游戏, Correct: true, NextScene: 0\n",
      "--------------------------------------------------\n"
     ]
    }
   ],
   "source": [
    "# 将options中的True和False改为小写字符串\n",
    "for item in background_video_json_data:\n",
    "    for option in item['options']:\n",
    "        option['isCorrect'] = 'true' if option['isCorrect'] else 'false'\n",
    "\n",
    "# 打印结果以验证\n",
    "for item in background_video_json_data:\n",
    "    print(f\"Word: {item['word']},   NPC Name: {item['npcName']}, NPC Avatar: {item['npcAvatar']}, Background Video: {item['backgroundVideo']}\")\n",
    "    for option in item['options']:\n",
    "        print(f\"Translation: {option['text']}, Correct: {option['isCorrect']}, NextScene: {option.get('nextScene', 'N/A')}\")\n",
    "    print(\"-\" * 50)"
   ]
  },
  {
   "cell_type": "code",
   "execution_count": 23,
   "metadata": {},
   "outputs": [
    {
     "name": "stdout",
     "output_type": "stream",
     "text": [
      "[{'word': 'access', 'dialog': '在《绿皮书》中，托尼站在那辆老旧的轿车旁，心中忐忑不安。他知道，找到通往黑人音乐家唐·雪利南方巡演的access，不仅是工作的需要，更是对未知的挑战。他深吸一口气，坚定地启动了引擎，踏上了这段充满未知的旅程。', 'options': [{'text': '入口', 'isCorrect': 'true', 'nextScene': 1}, {'text': '通道', 'isCorrect': 'false', 'nextScene': -1}, {'text': '接近', 'isCorrect': 'false', 'nextScene': -1}], 'npcName': '绿皮书', 'npcAvatar': '/avatars/lvpishu.jpg', 'backgroundVideo': '/videos/lvpishu.mp4'}, {'word': 'accessory', 'dialog': '托尼的车载物品，如那本破旧的地图和厚厚的指南，仿佛成了他们旅途中的忠实accessory。每当夜幕降临，托尼总会小心翼翼地翻阅它们，仿佛在这些纸张间，能找到前行的勇气和方向。', 'options': [{'text': '装饰品', 'isCorrect': 'false', 'nextScene': -1}, {'text': '附件', 'isCorrect': 'false', 'nextScene': -1}, {'text': '配件', 'isCorrect': 'true', 'nextScene': 2}], 'npcName': '绿皮书', 'npcAvatar': '/avatars/lvpishu.jpg', 'backgroundVideo': '/videos/lvpishu.mp4'}, {'word': 'accident', 'dialog': '在一次突如其来的accident中，托尼和唐·雪利不得不停下来修理汽车。夜色渐浓，寒风凛冽，但他们却在这次意外中找到了彼此的温暖。火光映照下，两人的心渐渐靠近，仿佛这场accident是命运的安排。', 'options': [{'text': '意外', 'isCorrect': 'true', 'nextScene': 3}, {'text': '事故', 'isCorrect': 'false', 'nextScene': -1}, {'text': '巧合', 'isCorrect': 'false', 'nextScene': -1}], 'npcName': '绿皮书', 'npcAvatar': '/avatars/lvpishu.jpg', 'backgroundVideo': '/videos/lvpishu.mp4'}, {'word': 'accidental', 'dialog': '托尼和唐·雪利的友谊起初是accidental的，就像两颗原本平行的星星，意外地交汇在了一起。随着旅行的深入，他们发现彼此的世界并非遥不可及，而是充满了共鸣和理解。', 'options': [{'text': '偶然的', 'isCorrect': 'true', 'nextScene': 4}, {'text': '无意的', 'isCorrect': 'false', 'nextScene': -1}, {'text': '意外的', 'isCorrect': 'false', 'nextScene': -1}], 'npcName': '绿皮书', 'npcAvatar': '/avatars/lvpishu.jpg', 'backgroundVideo': '/videos/lvpishu.mp4'}, {'word': 'accompany', 'dialog': '托尼作为唐·雪利的司机和保镖，全程accompany他完成南方巡演。每当唐·雪利站在舞台上，托尼总会站在幕后默默注视，心中涌动着一种说不出的骄傲和守护的使命感。', 'options': [{'text': '陪同', 'isCorrect': 'false', 'nextScene': -1}, {'text': '跟随', 'isCorrect': 'false', 'nextScene': -1}, {'text': '陪伴', 'isCorrect': 'true', 'nextScene': 5}], 'npcName': '绿皮书', 'npcAvatar': '/avatars/lvpishu.jpg', 'backgroundVideo': '/videos/lvpishu.mp4'}, {'word': 'accomplish', 'dialog': '尽管面临种族歧视和种种不公，唐·雪利却从未放弃。他一次次走上舞台，用音乐征服了无数观众的心，最终成功地accomplish了他的巡演目标。那一刻，托尼的眼中闪烁着泪光，为这位朋友的坚韧和勇气而感动。', 'options': [{'text': '实现', 'isCorrect': 'false', 'nextScene': -1}, {'text': '达到', 'isCorrect': 'false', 'nextScene': -1}, {'text': '完成', 'isCorrect': 'true', 'nextScene': 6}], 'npcName': '绿皮书', 'npcAvatar': '/avatars/lvpishu.jpg', 'backgroundVideo': '/videos/lvpishu.mp4'}, {'word': 'accord', 'dialog': '托尼和唐·雪利在旅途中经历了无数争执与和解，逐渐学会了相互理解和尊重。他们之间的默契，就像一首和谐的乐曲，达到了一种内心的accord。在这种accord中，他们找到了真正的友谊和自我。', 'options': [{'text': '协议', 'isCorrect': 'false', 'nextScene': -1}, {'text': '和谐', 'isCorrect': 'true', 'nextScene': 7}, {'text': '一致', 'isCorrect': 'false', 'nextScene': -1}], 'npcName': '绿皮书', 'npcAvatar': '/avatars/lvpishu.jpg', 'backgroundVideo': '/videos/lvpishu.mp4'}, {'word': 'accordance', 'dialog': '托尼在处理各种突发情况时，总是尽力按照唐·雪利的意愿和accordance行事。他深知，只有在这种相互尊重的accordance中，他们才能共同克服前方的艰难险阻，走向光明的未来。', 'options': [{'text': '根据', 'isCorrect': 'true', 'nextScene': 8}, {'text': '一致', 'isCorrect': 'false', 'nextScene': -1}, {'text': '依照', 'isCorrect': 'false', 'nextScene': -1}], 'npcName': '绿皮书', 'npcAvatar': '/avatars/lvpishu.jpg', 'backgroundVideo': '/videos/lvpishu.mp4'}, {'word': 'none', 'dialog': '恭喜你完成了游戏的所有关卡，点击重玩游戏，重新开始游戏', 'options': [{'text': '重玩游戏', 'isCorrect': 'true', 'nextScene': 0}], 'npcName': '绿皮书', 'npcAvatar': '/avatars/lvpishu.jpg', 'backgroundVideo': '/videos/lvpishu.mp4'}]\n"
     ]
    }
   ],
   "source": [
    "print(background_video_json_data)\n"
   ]
  },
  {
   "cell_type": "code",
   "execution_count": null,
   "metadata": {},
   "outputs": [],
   "source": []
  }
 ],
 "metadata": {
  "kernelspec": {
   "display_name": "Python 3",
   "language": "python",
   "name": "python3"
  },
  "language_info": {
   "codemirror_mode": {
    "name": "ipython",
    "version": 3
   },
   "file_extension": ".py",
   "mimetype": "text/x-python",
   "name": "python",
   "nbconvert_exporter": "python",
   "pygments_lexer": "ipython3",
   "version": "3.9.20"
  }
 },
 "nbformat": 4,
 "nbformat_minor": 0
}
