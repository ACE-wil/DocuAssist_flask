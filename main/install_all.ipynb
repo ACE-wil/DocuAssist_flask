{
 "cells": [
  {
   "cell_type": "code",
   "execution_count": 1,
   "metadata": {},
   "outputs": [
    {
     "name": "stdout",
     "output_type": "stream",
     "text": [
      "Collecting celery\n",
      "  Downloading celery-5.4.0-py3-none-any.whl.metadata (21 kB)\n",
      "Collecting redis\n",
      "  Downloading redis-5.2.1-py3-none-any.whl.metadata (9.1 kB)\n",
      "Collecting billiard<5.0,>=4.2.0 (from celery)\n",
      "  Downloading billiard-4.2.1-py3-none-any.whl.metadata (4.4 kB)\n",
      "Collecting kombu<6.0,>=5.3.4 (from celery)\n",
      "  Downloading kombu-5.4.2-py3-none-any.whl.metadata (3.2 kB)\n",
      "Collecting vine<6.0,>=5.1.0 (from celery)\n",
      "  Downloading vine-5.1.0-py3-none-any.whl.metadata (2.7 kB)\n",
      "Requirement already satisfied: click<9.0,>=8.1.2 in d:\\2024秋招-大四上\\conda_env\\lib\\site-packages (from celery) (8.1.7)\n",
      "Collecting click-didyoumean>=0.3.0 (from celery)\n",
      "  Downloading click_didyoumean-0.3.1-py3-none-any.whl.metadata (3.9 kB)\n",
      "Collecting click-repl>=0.2.0 (from celery)\n",
      "  Downloading click_repl-0.3.0-py3-none-any.whl.metadata (3.6 kB)\n",
      "Collecting click-plugins>=1.1.1 (from celery)\n",
      "  Downloading click_plugins-1.1.1-py2.py3-none-any.whl.metadata (6.4 kB)\n",
      "Requirement already satisfied: tzdata>=2022.7 in d:\\2024秋招-大四上\\conda_env\\lib\\site-packages (from celery) (2024.2)\n",
      "Requirement already satisfied: python-dateutil>=2.8.2 in c:\\users\\17728\\appdata\\roaming\\python\\python39\\site-packages (from celery) (2.8.2)\n",
      "Requirement already satisfied: async-timeout>=4.0.3 in d:\\2024秋招-大四上\\conda_env\\lib\\site-packages (from redis) (4.0.3)\n",
      "Requirement already satisfied: colorama in c:\\users\\17728\\appdata\\roaming\\python\\python39\\site-packages (from click<9.0,>=8.1.2->celery) (0.4.6)\n",
      "Requirement already satisfied: prompt-toolkit>=3.0.36 in c:\\users\\17728\\appdata\\roaming\\python\\python39\\site-packages (from click-repl>=0.2.0->celery) (3.0.37)\n",
      "Collecting amqp<6.0.0,>=5.1.1 (from kombu<6.0,>=5.3.4->celery)\n",
      "  Downloading amqp-5.3.1-py3-none-any.whl.metadata (8.9 kB)\n",
      "Requirement already satisfied: typing-extensions==4.12.2 in d:\\2024秋招-大四上\\conda_env\\lib\\site-packages (from kombu<6.0,>=5.3.4->celery) (4.12.2)\n",
      "Requirement already satisfied: six>=1.5 in c:\\users\\17728\\appdata\\roaming\\python\\python39\\site-packages (from python-dateutil>=2.8.2->celery) (1.16.0)\n",
      "Requirement already satisfied: wcwidth in c:\\users\\17728\\appdata\\roaming\\python\\python39\\site-packages (from prompt-toolkit>=3.0.36->click-repl>=0.2.0->celery) (0.2.6)\n",
      "Downloading celery-5.4.0-py3-none-any.whl (425 kB)\n",
      "Downloading redis-5.2.1-py3-none-any.whl (261 kB)\n",
      "Downloading billiard-4.2.1-py3-none-any.whl (86 kB)\n",
      "Downloading click_didyoumean-0.3.1-py3-none-any.whl (3.6 kB)\n",
      "Downloading click_plugins-1.1.1-py2.py3-none-any.whl (7.5 kB)\n",
      "Downloading click_repl-0.3.0-py3-none-any.whl (10 kB)\n",
      "Downloading kombu-5.4.2-py3-none-any.whl (201 kB)\n",
      "Downloading vine-5.1.0-py3-none-any.whl (9.6 kB)\n",
      "Downloading amqp-5.3.1-py3-none-any.whl (50 kB)\n",
      "Installing collected packages: vine, redis, billiard, click-repl, click-plugins, click-didyoumean, amqp, kombu, celery\n",
      "Successfully installed amqp-5.3.1 billiard-4.2.1 celery-5.4.0 click-didyoumean-0.3.1 click-plugins-1.1.1 click-repl-0.3.0 kombu-5.4.2 redis-5.2.1 vine-5.1.0\n",
      "Note: you may need to restart the kernel to use updated packages.\n"
     ]
    }
   ],
   "source": [
    "%pip install celery redis"
   ]
  },
  {
   "cell_type": "code",
   "execution_count": null,
   "metadata": {},
   "outputs": [],
   "source": []
  }
 ],
 "metadata": {
  "kernelspec": {
   "display_name": "Python 3",
   "language": "python",
   "name": "python3"
  },
  "language_info": {
   "codemirror_mode": {
    "name": "ipython",
    "version": 3
   },
   "file_extension": ".py",
   "mimetype": "text/x-python",
   "name": "python",
   "nbconvert_exporter": "python",
   "pygments_lexer": "ipython3",
   "version": "3.9.20"
  }
 },
 "nbformat": 4,
 "nbformat_minor": 2
}
