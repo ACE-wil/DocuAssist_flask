{
 "cells": [
  {
   "cell_type": "code",
   "execution_count": null,
   "metadata": {},
   "outputs": [],
   "source": [
    "import openai\n",
    "\n",
    "# 使用 UIUIAPI\n",
    "openai.api_key = \"YOUR_UIUIAPI_API_KEY\"  # 替换为你的 UIUIAPI 密钥\n",
    "openai.base_url = \"https://sg.uiuiapi.com/v1\"  # 替换为 UIUIAPI 提供的 API 地址 (示例地址，请以实际为准)\n",
    "\n",
    "# 其余代码与使用官方 API 相同\n",
    "response = openai.chat.completions.create(\n",
    "  model=\"claude-3-5-sonnet-20241022\",  # 推荐使用 claude-3-5-sonnet-20241022\n",
    "  messages=[\n",
    "        {\"role\": \"system\", \"content\": \"You are a helpful assistant.\"},\n",
    "        {\"role\": \"user\", \"content\": \"Hello!\"}\n",
    "    ]\n",
    ")\n",
    "\n",
    "print(response.choices[0].message.content)"
   ]
  }
 ],
 "metadata": {
  "language_info": {
   "name": "python"
  }
 },
 "nbformat": 4,
 "nbformat_minor": 2
}
